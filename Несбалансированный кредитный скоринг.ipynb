{
  "cells": [
    {
      "cell_type": "markdown",
      "metadata": {
        "id": "view-in-github",
        "colab_type": "text"
      },
      "source": [
        "<a href=\"https://colab.research.google.com/github/LaplasDeamon/python_notebooks/blob/main/%D0%9D%D0%B5%D1%81%D0%B1%D0%B0%D0%BB%D0%B0%D0%BD%D1%81%D0%B8%D1%80%D0%BE%D0%B2%D0%B0%D0%BD%D0%BD%D1%8B%D0%B9%20%D0%BA%D1%80%D0%B5%D0%B4%D0%B8%D1%82%D0%BD%D1%8B%D0%B9%20%D1%81%D0%BA%D0%BE%D1%80%D0%B8%D0%BD%D0%B3.ipynb\" target=\"_parent\"><img src=\"https://colab.research.google.com/assets/colab-badge.svg\" alt=\"Open In Colab\"/></a>"
      ]
    },
    {
      "cell_type": "markdown",
      "source": [
        "\n",
        "\n",
        "# **Задача несбалансированного кредитного скоринга** \n",
        "\n",
        "# **Обоснование:**\n",
        "\n",
        "Кредитный риск является решающим фактором, влияющим на эффективность бизнеса предприятий и банков. Что еще более важно, чрезвычайно высокие кредитные риски могут напрямую привести к банкротству предприятий или банков. Следовательно, разработка моделей оценки кредитоспособности клиентов, которые можно использовать для точного и эффективного прогнозирования возможного дефолта по кредиту, имеет существенное практическое значение. По сути, кредитный скоринг клиентов — это задача бинарной классификации. В частности, в зависимости от степени риска дефолта клиенты делятся на два типа: клиенты с хорошей кредитной историей и клиенты с плохой кредитной историей.\n",
        "Но существует проблема - перекос данных по положительным исходам к отрицательным. У финансовых организаций мало данных по клиентам с плохой кредитной историей.\n",
        " Если не учитывать данную проблему, то модель натренируется хорошо предсказывать положительные исходы, при это качество прогноза по отрицательным будет мало. То есть оценка TPR будет высока при низком TNR.\n",
        "Чтоб сбалансировать распределение классов, необходимо использовать методы ресемплинга( повторной выборки).\n",
        "Традиционные методы повторной выборки включают random oversampling (ROS) и random  under-sampling  (RUS).\n",
        "\n",
        "\n"
      ],
      "metadata": {
        "id": "TJ949TR0ypFO"
      }
    },
    {
      "cell_type": "markdown",
      "source": [
        "# **Данные**\n",
        "\n",
        "Выборка - агрегированные данные одной из МФО( микрофинансовой организации) \n",
        "\n",
        "Переменные, характеризующие кредитную историю клиента:\n",
        "\n",
        "● cred_sum_cc_all - сумма кредитов по кредитным картам\n",
        "\n",
        "● mfo_inqs_count_month - количество запросов на кредиты в другие в МФО\n",
        "\n",
        "● all_closed_creds_sum_all - сумма закрытых кредитов\n",
        "\n",
        "● bank_inqs_count_quarter - количество запросов на кредиты в банки\n",
        "\n",
        "● cred_max_overdue_max_ly - максимальная просрочка за год\n",
        "\n",
        "● all_active_creds_sum_all - денежная сумма всех активных кредитов\n",
        "\n",
        "● mfo_last_days_all - Количество дней с последнего займа в МФО\n",
        "\n",
        "● cred_sum_cc_ly - Сумма лимитов кредитных карт, оформленных за последний\n",
        "год\n",
        "\n",
        "● cred_sum_debt_all_all - Сумма задолженности по всем кредитам\n",
        "\n",
        "● all_closed_creds_sum_ly - Сумма закрытых кредитов за последний год\n",
        "\n",
        "● mfo_cred_mean_sum_3lm - Средняя сумма МФО кредитов, выданных за\n",
        "последние 3 месяца\n",
        "\n",
        "● delay_more_sum_all - Количество просрочек более чем на 90 дней по всем\n",
        "кредитам\n",
        "\n",
        "● all_creds_count_all - Общее количество кредитов\n",
        "\n",
        "● cred_day_overdue_all_sum_all - Суммарное количество дней просрочки текущих  активных кредитов\n",
        "\n",
        "● cred_max_overdue_max_3lm - Максимальная сумма просроченной\n",
        "задолженности, по кредитам взятым за последние 3 месяца\n",
        "\n",
        "● mfo_closed_count_ly - Количество закрытых МФО кредитов, взятых за\n",
        "последний год\n",
        "\n",
        "● cred_sum_overdue_cc_all - Сумма просрочек по кредитным картам\n",
        "\n",
        "● count_overdue_all_3lm - Количество кредитов на просрочке, взятых за\n",
        "последние 3 месяца\n",
        "\n",
        "● all_creds_count_lm - Количество кредитов, взятых за последний месяц\n",
        "\n",
        "● region - регион подачи заявки\n",
        "\n",
        "Переменные характеризующие клиента\n",
        "● work_code - Профессия. 5 - рабочие профессии (слесарь, токарь). 3 - офисный\n",
        "работник (бухгалтер, программист). 1 - госслужащий (полицейский, медсестра)\n",
        "\n",
        "● month_income - доход\n",
        "\n",
        "Целевые переменные:\n",
        "bad - 1 - кредит просрочен, 0 - кредит возвращен, nan - отказ.\n",
        "\n",
        "approved - 1 - одобрено, 0 - отказано"
      ],
      "metadata": {
        "id": "qDB8IlFfxsEX"
      }
    },
    {
      "cell_type": "markdown",
      "source": [
        "# Извлечение признаков"
      ],
      "metadata": {
        "id": "0TRMzlUH9GO8"
      }
    },
    {
      "cell_type": "markdown",
      "source": [],
      "metadata": {
        "id": "4sTaInZz879q"
      }
    },
    {
      "cell_type": "code",
      "execution_count": null,
      "metadata": {
        "id": "3OHvvo719mQp"
      },
      "outputs": [],
      "source": [
        "\n",
        "from sklearn.preprocessing import StandardScaler      \n",
        "from sklearn.model_selection import train_test_split\n",
        "from sklearn.metrics import accuracy_score,roc_auc_score,f1_score,classification_report,confusion_matrix\n",
        "import matplotlib.pyplot as plt\n",
        "import numpy as np\n",
        "import pandas as pd\n",
        "from sklearn.feature_selection import GenericUnivariateSelect, mutual_info_classif, SelectFromModel\n",
        "from sklearn.pipeline import Pipeline\n",
        "from sklearn.model_selection import StratifiedKFold, GridSearchCV, cross_val_score\n",
        "import seaborn as sns\n",
        "import tensorflow as tf\n"
      ]
    },
    {
      "cell_type": "markdown",
      "source": [],
      "metadata": {
        "id": "cGuo91bQyoNv"
      }
    },
    {
      "cell_type": "code",
      "execution_count": null,
      "metadata": {
        "colab": {
          "base_uri": "https://localhost:8080/",
          "height": 488
        },
        "id": "DsLoc73-9zMj",
        "outputId": "1f56c9aa-ba39-4e3a-c305-b4731db62b92"
      },
      "outputs": [
        {
          "output_type": "execute_result",
          "data": {
            "text/plain": [
              "       order_id  cred_sum_cc_all  mfo_inqs_count_month  \\\n",
              "0       5498546             0.00                     0   \n",
              "1       5498604          1500.00                     0   \n",
              "2       5498609             0.10                     0   \n",
              "3       5498645          5000.00                     0   \n",
              "4       5498647             0.00                     0   \n",
              "...         ...              ...                   ...   \n",
              "19100   6192317          4406.71                     8   \n",
              "19101   6192444        155000.00                     3   \n",
              "19102   6192539         30000.00                     4   \n",
              "19103   6192655         38000.00                     3   \n",
              "19104   6192958         41000.00                     3   \n",
              "\n",
              "       all_closed_creds_sum_all  bank_inqs_count_quarter  \\\n",
              "0                         40364                        0   \n",
              "1                         23456                        0   \n",
              "2                         17999                        3   \n",
              "3                        313247                        0   \n",
              "4                             0                        1   \n",
              "...                         ...                      ...   \n",
              "19100                    366194                       41   \n",
              "19101                    217946                        2   \n",
              "19102                    157484                        5   \n",
              "19103                    339500                        1   \n",
              "19104                    528493                        3   \n",
              "\n",
              "       cred_max_overdue_max_ly  all_active_creds_sum_all  mfo_last_days_all  \\\n",
              "0                         0.00                      3000                560   \n",
              "1                         0.00                         0               9999   \n",
              "2                         0.00                      9999               9999   \n",
              "3                         0.00                         0               9999   \n",
              "4                         0.00                         0               9999   \n",
              "...                        ...                       ...                ...   \n",
              "19100                     0.00                    431106                  6   \n",
              "19101                  6771.00                    419276                 15   \n",
              "19102                  8600.00                         0                 16   \n",
              "19103                     0.00                     27000                  1   \n",
              "19104                  2225.28                    628864                  8   \n",
              "\n",
              "       cred_sum_cc_ly  cred_sum_debt_all_all  ...  cred_max_overdue_max_3lm  \\\n",
              "0                 0.0                   0.00  ...                       0.0   \n",
              "1                 0.0                   0.00  ...                       0.0   \n",
              "2                 0.1                9999.00  ...                       0.0   \n",
              "3                 0.0                   0.00  ...                       0.0   \n",
              "4                 0.0                   0.00  ...                       0.0   \n",
              "...               ...                    ...  ...                       ...   \n",
              "19100             0.0              423609.76  ...                       0.0   \n",
              "19101             0.0              314112.06  ...                       0.0   \n",
              "19102             0.0                   0.00  ...                       0.0   \n",
              "19103             0.0               27000.00  ...                       0.0   \n",
              "19104         41000.0              510457.29  ...                       0.0   \n",
              "\n",
              "       mfo_closed_count_ly  cred_sum_overdue_cc_all  count_overdue_all_3lm  \\\n",
              "0                        0                     0.00                      0   \n",
              "1                        0                     0.00                      0   \n",
              "2                        0                     0.00                      0   \n",
              "3                        0                  4923.97                      0   \n",
              "4                        0                     0.00                      0   \n",
              "...                    ...                      ...                    ...   \n",
              "19100                   17                     0.00                      0   \n",
              "19101                   17                     0.00                      0   \n",
              "19102                   11                     0.00                      0   \n",
              "19103                   13                     0.00                      0   \n",
              "19104                    2                     0.00                      0   \n",
              "\n",
              "       all_creds_count_lm  work_code  month_income  region  bad  approved  \n",
              "0                       0          3         50000      46  NaN         0  \n",
              "1                       0          3         35000      17  NaN         0  \n",
              "2                       2          3         35000      58  NaN         0  \n",
              "3                       0          5         35000       4  NaN         0  \n",
              "4                       0          5         35000      34  NaN         0  \n",
              "...                   ...        ...           ...     ...  ...       ...  \n",
              "19100                   9          4         50000      32  1.0         1  \n",
              "19101                   2          2         50000      36  0.0         1  \n",
              "19102                   2          4         60000       7  0.0         1  \n",
              "19103                   4          2         35000      14  0.0         1  \n",
              "19104                   3          3         35000      46  0.0         1  \n",
              "\n",
              "[19105 rows x 25 columns]"
            ],
            "text/html": [
              "\n",
              "  <div id=\"df-15e50655-c408-46b1-95f8-62d24a70e3aa\">\n",
              "    <div class=\"colab-df-container\">\n",
              "      <div>\n",
              "<style scoped>\n",
              "    .dataframe tbody tr th:only-of-type {\n",
              "        vertical-align: middle;\n",
              "    }\n",
              "\n",
              "    .dataframe tbody tr th {\n",
              "        vertical-align: top;\n",
              "    }\n",
              "\n",
              "    .dataframe thead th {\n",
              "        text-align: right;\n",
              "    }\n",
              "</style>\n",
              "<table border=\"1\" class=\"dataframe\">\n",
              "  <thead>\n",
              "    <tr style=\"text-align: right;\">\n",
              "      <th></th>\n",
              "      <th>order_id</th>\n",
              "      <th>cred_sum_cc_all</th>\n",
              "      <th>mfo_inqs_count_month</th>\n",
              "      <th>all_closed_creds_sum_all</th>\n",
              "      <th>bank_inqs_count_quarter</th>\n",
              "      <th>cred_max_overdue_max_ly</th>\n",
              "      <th>all_active_creds_sum_all</th>\n",
              "      <th>mfo_last_days_all</th>\n",
              "      <th>cred_sum_cc_ly</th>\n",
              "      <th>cred_sum_debt_all_all</th>\n",
              "      <th>...</th>\n",
              "      <th>cred_max_overdue_max_3lm</th>\n",
              "      <th>mfo_closed_count_ly</th>\n",
              "      <th>cred_sum_overdue_cc_all</th>\n",
              "      <th>count_overdue_all_3lm</th>\n",
              "      <th>all_creds_count_lm</th>\n",
              "      <th>work_code</th>\n",
              "      <th>month_income</th>\n",
              "      <th>region</th>\n",
              "      <th>bad</th>\n",
              "      <th>approved</th>\n",
              "    </tr>\n",
              "  </thead>\n",
              "  <tbody>\n",
              "    <tr>\n",
              "      <th>0</th>\n",
              "      <td>5498546</td>\n",
              "      <td>0.00</td>\n",
              "      <td>0</td>\n",
              "      <td>40364</td>\n",
              "      <td>0</td>\n",
              "      <td>0.00</td>\n",
              "      <td>3000</td>\n",
              "      <td>560</td>\n",
              "      <td>0.0</td>\n",
              "      <td>0.00</td>\n",
              "      <td>...</td>\n",
              "      <td>0.0</td>\n",
              "      <td>0</td>\n",
              "      <td>0.00</td>\n",
              "      <td>0</td>\n",
              "      <td>0</td>\n",
              "      <td>3</td>\n",
              "      <td>50000</td>\n",
              "      <td>46</td>\n",
              "      <td>NaN</td>\n",
              "      <td>0</td>\n",
              "    </tr>\n",
              "    <tr>\n",
              "      <th>1</th>\n",
              "      <td>5498604</td>\n",
              "      <td>1500.00</td>\n",
              "      <td>0</td>\n",
              "      <td>23456</td>\n",
              "      <td>0</td>\n",
              "      <td>0.00</td>\n",
              "      <td>0</td>\n",
              "      <td>9999</td>\n",
              "      <td>0.0</td>\n",
              "      <td>0.00</td>\n",
              "      <td>...</td>\n",
              "      <td>0.0</td>\n",
              "      <td>0</td>\n",
              "      <td>0.00</td>\n",
              "      <td>0</td>\n",
              "      <td>0</td>\n",
              "      <td>3</td>\n",
              "      <td>35000</td>\n",
              "      <td>17</td>\n",
              "      <td>NaN</td>\n",
              "      <td>0</td>\n",
              "    </tr>\n",
              "    <tr>\n",
              "      <th>2</th>\n",
              "      <td>5498609</td>\n",
              "      <td>0.10</td>\n",
              "      <td>0</td>\n",
              "      <td>17999</td>\n",
              "      <td>3</td>\n",
              "      <td>0.00</td>\n",
              "      <td>9999</td>\n",
              "      <td>9999</td>\n",
              "      <td>0.1</td>\n",
              "      <td>9999.00</td>\n",
              "      <td>...</td>\n",
              "      <td>0.0</td>\n",
              "      <td>0</td>\n",
              "      <td>0.00</td>\n",
              "      <td>0</td>\n",
              "      <td>2</td>\n",
              "      <td>3</td>\n",
              "      <td>35000</td>\n",
              "      <td>58</td>\n",
              "      <td>NaN</td>\n",
              "      <td>0</td>\n",
              "    </tr>\n",
              "    <tr>\n",
              "      <th>3</th>\n",
              "      <td>5498645</td>\n",
              "      <td>5000.00</td>\n",
              "      <td>0</td>\n",
              "      <td>313247</td>\n",
              "      <td>0</td>\n",
              "      <td>0.00</td>\n",
              "      <td>0</td>\n",
              "      <td>9999</td>\n",
              "      <td>0.0</td>\n",
              "      <td>0.00</td>\n",
              "      <td>...</td>\n",
              "      <td>0.0</td>\n",
              "      <td>0</td>\n",
              "      <td>4923.97</td>\n",
              "      <td>0</td>\n",
              "      <td>0</td>\n",
              "      <td>5</td>\n",
              "      <td>35000</td>\n",
              "      <td>4</td>\n",
              "      <td>NaN</td>\n",
              "      <td>0</td>\n",
              "    </tr>\n",
              "    <tr>\n",
              "      <th>4</th>\n",
              "      <td>5498647</td>\n",
              "      <td>0.00</td>\n",
              "      <td>0</td>\n",
              "      <td>0</td>\n",
              "      <td>1</td>\n",
              "      <td>0.00</td>\n",
              "      <td>0</td>\n",
              "      <td>9999</td>\n",
              "      <td>0.0</td>\n",
              "      <td>0.00</td>\n",
              "      <td>...</td>\n",
              "      <td>0.0</td>\n",
              "      <td>0</td>\n",
              "      <td>0.00</td>\n",
              "      <td>0</td>\n",
              "      <td>0</td>\n",
              "      <td>5</td>\n",
              "      <td>35000</td>\n",
              "      <td>34</td>\n",
              "      <td>NaN</td>\n",
              "      <td>0</td>\n",
              "    </tr>\n",
              "    <tr>\n",
              "      <th>...</th>\n",
              "      <td>...</td>\n",
              "      <td>...</td>\n",
              "      <td>...</td>\n",
              "      <td>...</td>\n",
              "      <td>...</td>\n",
              "      <td>...</td>\n",
              "      <td>...</td>\n",
              "      <td>...</td>\n",
              "      <td>...</td>\n",
              "      <td>...</td>\n",
              "      <td>...</td>\n",
              "      <td>...</td>\n",
              "      <td>...</td>\n",
              "      <td>...</td>\n",
              "      <td>...</td>\n",
              "      <td>...</td>\n",
              "      <td>...</td>\n",
              "      <td>...</td>\n",
              "      <td>...</td>\n",
              "      <td>...</td>\n",
              "      <td>...</td>\n",
              "    </tr>\n",
              "    <tr>\n",
              "      <th>19100</th>\n",
              "      <td>6192317</td>\n",
              "      <td>4406.71</td>\n",
              "      <td>8</td>\n",
              "      <td>366194</td>\n",
              "      <td>41</td>\n",
              "      <td>0.00</td>\n",
              "      <td>431106</td>\n",
              "      <td>6</td>\n",
              "      <td>0.0</td>\n",
              "      <td>423609.76</td>\n",
              "      <td>...</td>\n",
              "      <td>0.0</td>\n",
              "      <td>17</td>\n",
              "      <td>0.00</td>\n",
              "      <td>0</td>\n",
              "      <td>9</td>\n",
              "      <td>4</td>\n",
              "      <td>50000</td>\n",
              "      <td>32</td>\n",
              "      <td>1.0</td>\n",
              "      <td>1</td>\n",
              "    </tr>\n",
              "    <tr>\n",
              "      <th>19101</th>\n",
              "      <td>6192444</td>\n",
              "      <td>155000.00</td>\n",
              "      <td>3</td>\n",
              "      <td>217946</td>\n",
              "      <td>2</td>\n",
              "      <td>6771.00</td>\n",
              "      <td>419276</td>\n",
              "      <td>15</td>\n",
              "      <td>0.0</td>\n",
              "      <td>314112.06</td>\n",
              "      <td>...</td>\n",
              "      <td>0.0</td>\n",
              "      <td>17</td>\n",
              "      <td>0.00</td>\n",
              "      <td>0</td>\n",
              "      <td>2</td>\n",
              "      <td>2</td>\n",
              "      <td>50000</td>\n",
              "      <td>36</td>\n",
              "      <td>0.0</td>\n",
              "      <td>1</td>\n",
              "    </tr>\n",
              "    <tr>\n",
              "      <th>19102</th>\n",
              "      <td>6192539</td>\n",
              "      <td>30000.00</td>\n",
              "      <td>4</td>\n",
              "      <td>157484</td>\n",
              "      <td>5</td>\n",
              "      <td>8600.00</td>\n",
              "      <td>0</td>\n",
              "      <td>16</td>\n",
              "      <td>0.0</td>\n",
              "      <td>0.00</td>\n",
              "      <td>...</td>\n",
              "      <td>0.0</td>\n",
              "      <td>11</td>\n",
              "      <td>0.00</td>\n",
              "      <td>0</td>\n",
              "      <td>2</td>\n",
              "      <td>4</td>\n",
              "      <td>60000</td>\n",
              "      <td>7</td>\n",
              "      <td>0.0</td>\n",
              "      <td>1</td>\n",
              "    </tr>\n",
              "    <tr>\n",
              "      <th>19103</th>\n",
              "      <td>6192655</td>\n",
              "      <td>38000.00</td>\n",
              "      <td>3</td>\n",
              "      <td>339500</td>\n",
              "      <td>1</td>\n",
              "      <td>0.00</td>\n",
              "      <td>27000</td>\n",
              "      <td>1</td>\n",
              "      <td>0.0</td>\n",
              "      <td>27000.00</td>\n",
              "      <td>...</td>\n",
              "      <td>0.0</td>\n",
              "      <td>13</td>\n",
              "      <td>0.00</td>\n",
              "      <td>0</td>\n",
              "      <td>4</td>\n",
              "      <td>2</td>\n",
              "      <td>35000</td>\n",
              "      <td>14</td>\n",
              "      <td>0.0</td>\n",
              "      <td>1</td>\n",
              "    </tr>\n",
              "    <tr>\n",
              "      <th>19104</th>\n",
              "      <td>6192958</td>\n",
              "      <td>41000.00</td>\n",
              "      <td>3</td>\n",
              "      <td>528493</td>\n",
              "      <td>3</td>\n",
              "      <td>2225.28</td>\n",
              "      <td>628864</td>\n",
              "      <td>8</td>\n",
              "      <td>41000.0</td>\n",
              "      <td>510457.29</td>\n",
              "      <td>...</td>\n",
              "      <td>0.0</td>\n",
              "      <td>2</td>\n",
              "      <td>0.00</td>\n",
              "      <td>0</td>\n",
              "      <td>3</td>\n",
              "      <td>3</td>\n",
              "      <td>35000</td>\n",
              "      <td>46</td>\n",
              "      <td>0.0</td>\n",
              "      <td>1</td>\n",
              "    </tr>\n",
              "  </tbody>\n",
              "</table>\n",
              "<p>19105 rows × 25 columns</p>\n",
              "</div>\n",
              "      <button class=\"colab-df-convert\" onclick=\"convertToInteractive('df-15e50655-c408-46b1-95f8-62d24a70e3aa')\"\n",
              "              title=\"Convert this dataframe to an interactive table.\"\n",
              "              style=\"display:none;\">\n",
              "        \n",
              "  <svg xmlns=\"http://www.w3.org/2000/svg\" height=\"24px\"viewBox=\"0 0 24 24\"\n",
              "       width=\"24px\">\n",
              "    <path d=\"M0 0h24v24H0V0z\" fill=\"none\"/>\n",
              "    <path d=\"M18.56 5.44l.94 2.06.94-2.06 2.06-.94-2.06-.94-.94-2.06-.94 2.06-2.06.94zm-11 1L8.5 8.5l.94-2.06 2.06-.94-2.06-.94L8.5 2.5l-.94 2.06-2.06.94zm10 10l.94 2.06.94-2.06 2.06-.94-2.06-.94-.94-2.06-.94 2.06-2.06.94z\"/><path d=\"M17.41 7.96l-1.37-1.37c-.4-.4-.92-.59-1.43-.59-.52 0-1.04.2-1.43.59L10.3 9.45l-7.72 7.72c-.78.78-.78 2.05 0 2.83L4 21.41c.39.39.9.59 1.41.59.51 0 1.02-.2 1.41-.59l7.78-7.78 2.81-2.81c.8-.78.8-2.07 0-2.86zM5.41 20L4 18.59l7.72-7.72 1.47 1.35L5.41 20z\"/>\n",
              "  </svg>\n",
              "      </button>\n",
              "      \n",
              "  <style>\n",
              "    .colab-df-container {\n",
              "      display:flex;\n",
              "      flex-wrap:wrap;\n",
              "      gap: 12px;\n",
              "    }\n",
              "\n",
              "    .colab-df-convert {\n",
              "      background-color: #E8F0FE;\n",
              "      border: none;\n",
              "      border-radius: 50%;\n",
              "      cursor: pointer;\n",
              "      display: none;\n",
              "      fill: #1967D2;\n",
              "      height: 32px;\n",
              "      padding: 0 0 0 0;\n",
              "      width: 32px;\n",
              "    }\n",
              "\n",
              "    .colab-df-convert:hover {\n",
              "      background-color: #E2EBFA;\n",
              "      box-shadow: 0px 1px 2px rgba(60, 64, 67, 0.3), 0px 1px 3px 1px rgba(60, 64, 67, 0.15);\n",
              "      fill: #174EA6;\n",
              "    }\n",
              "\n",
              "    [theme=dark] .colab-df-convert {\n",
              "      background-color: #3B4455;\n",
              "      fill: #D2E3FC;\n",
              "    }\n",
              "\n",
              "    [theme=dark] .colab-df-convert:hover {\n",
              "      background-color: #434B5C;\n",
              "      box-shadow: 0px 1px 3px 1px rgba(0, 0, 0, 0.15);\n",
              "      filter: drop-shadow(0px 1px 2px rgba(0, 0, 0, 0.3));\n",
              "      fill: #FFFFFF;\n",
              "    }\n",
              "  </style>\n",
              "\n",
              "      <script>\n",
              "        const buttonEl =\n",
              "          document.querySelector('#df-15e50655-c408-46b1-95f8-62d24a70e3aa button.colab-df-convert');\n",
              "        buttonEl.style.display =\n",
              "          google.colab.kernel.accessAllowed ? 'block' : 'none';\n",
              "\n",
              "        async function convertToInteractive(key) {\n",
              "          const element = document.querySelector('#df-15e50655-c408-46b1-95f8-62d24a70e3aa');\n",
              "          const dataTable =\n",
              "            await google.colab.kernel.invokeFunction('convertToInteractive',\n",
              "                                                     [key], {});\n",
              "          if (!dataTable) return;\n",
              "\n",
              "          const docLinkHtml = 'Like what you see? Visit the ' +\n",
              "            '<a target=\"_blank\" href=https://colab.research.google.com/notebooks/data_table.ipynb>data table notebook</a>'\n",
              "            + ' to learn more about interactive tables.';\n",
              "          element.innerHTML = '';\n",
              "          dataTable['output_type'] = 'display_data';\n",
              "          await google.colab.output.renderOutput(dataTable, element);\n",
              "          const docLink = document.createElement('div');\n",
              "          docLink.innerHTML = docLinkHtml;\n",
              "          element.appendChild(docLink);\n",
              "        }\n",
              "      </script>\n",
              "    </div>\n",
              "  </div>\n",
              "  "
            ]
          },
          "metadata": {},
          "execution_count": 7
        }
      ],
      "source": [
        "df= pd.read_csv('/content/MFO_data.csv',delimiter=',')\n",
        "df"
      ]
    },
    {
      "cell_type": "markdown",
      "source": [
        "Посмотрим есть ли перекос в данных"
      ],
      "metadata": {
        "id": "wdsTxRdb9RuR"
      }
    },
    {
      "cell_type": "code",
      "execution_count": null,
      "metadata": {
        "colab": {
          "base_uri": "https://localhost:8080/",
          "height": 293
        },
        "id": "DFjpUxUz-FaC",
        "outputId": "27b27b91-cf18-4082-e494-029a3748e968"
      },
      "outputs": [
        {
          "output_type": "execute_result",
          "data": {
            "text/plain": [
              "<matplotlib.axes._subplots.AxesSubplot at 0x7f9638d0b100>"
            ]
          },
          "metadata": {},
          "execution_count": 3
        },
        {
          "output_type": "display_data",
          "data": {
            "text/plain": [
              "<Figure size 432x288 with 1 Axes>"
            ],
            "image/png": "[encoded data removed]"
          },
          "metadata": {
            "needs_background": "light"
          }
        }
      ],
      "source": [
        "df.groupby('approved').count().plot(kind='bar',y=['order_id'])"
      ]
    },
    {
      "cell_type": "markdown",
      "source": [
        "Перекос существенный "
      ],
      "metadata": {
        "id": "8ENdo8dAZlpC"
      }
    },
    {
      "cell_type": "code",
      "execution_count": null,
      "metadata": {
        "id": "jg2MUPSwSK_I"
      },
      "outputs": [],
      "source": [
        "def show_nan(df):\n",
        "  missing_values = pd.DataFrame({\n",
        "    'Column': df.columns.values,\n",
        "    '# of missing values': df.isna().sum().values,\n",
        "    '% of missing values': 100 * df.isna().sum().values / len(df),\n",
        "  })\n",
        "\n",
        "  missing_values = missing_values[missing_values['# of missing values'] > 0]\n",
        "  print(missing_values.sort_values(by='# of missing values', \n",
        "                                  ascending=False\n",
        "                                  ).reset_index(drop=True))"
      ]
    },
    {
      "cell_type": "markdown",
      "source": [
        "Проверим пропущенные значения"
      ],
      "metadata": {
        "id": "FtTMAlyX9YWw"
      }
    },
    {
      "cell_type": "code",
      "execution_count": null,
      "metadata": {
        "colab": {
          "base_uri": "https://localhost:8080/"
        },
        "id": "V4OnBPZCS0Rv",
        "outputId": "0cd1dfa6-0cd4-4ad8-c8a8-2e3a529e8333"
      },
      "outputs": [
        {
          "output_type": "stream",
          "name": "stdout",
          "text": [
            "  Column  # of missing values  % of missing values\n",
            "0    bad                15847            82.946873\n"
          ]
        }
      ],
      "source": [
        "show_nan(df)"
      ]
    },
    {
      "cell_type": "code",
      "execution_count": null,
      "metadata": {
        "id": "WFy1LIT0S3nh"
      },
      "outputs": [],
      "source": [
        "df=df.drop('bad',axis=1) # удаление признака\n",
        "X=df.drop('approved',axis=1).set_index('order_id')\n",
        "y=df['approved']"
      ]
    },
    {
      "cell_type": "markdown",
      "source": [
        "Попробуем сократить количество предикторов модели. \n",
        "\n",
        "\n",
        "1.   Найдем и удалим признаки с высокой корреляцией\n",
        "2.   Найдем удалим признаким с малым IG ( приростом информации)\n",
        "\n"
      ],
      "metadata": {
        "id": "x2YtmdVp9i7b"
      }
    },
    {
      "cell_type": "code",
      "execution_count": null,
      "metadata": {
        "colab": {
          "base_uri": "https://localhost:8080/",
          "height": 725
        },
        "id": "GNoCH1d3TSm3",
        "outputId": "a4918a67-9443-4a31-8e77-b6c4f49b9a57"
      },
      "outputs": [
        {
          "output_type": "stream",
          "name": "stderr",
          "text": [
            "<ipython-input-9-6e685ee062cd>:11: DeprecationWarning: `np.bool` is a deprecated alias for the builtin `bool`. To silence this warning, use `bool` by itself. Doing this will not modify any behavior and is safe. If you specifically wanted the numpy scalar type, use `np.bool_` here.\n",
            "Deprecated in NumPy 1.20; for more details and guidance: https://numpy.org/devdocs/release/1.20.0-notes.html#deprecations\n",
            "  upper = corr_matrix.where(np.triu(np.ones(corr_matrix.shape), k = 1).astype(np.bool))\n"
          ]
        },
        {
          "output_type": "display_data",
          "data": {
            "text/plain": [
              "<Figure size 792x648 with 2 Axes>"
            ],
            "image/png": "[encoded data removed]"
          },
          "metadata": {}
        }
      ],
      "source": [
        "corr_matrix = X.corr(method = \"spearman\").abs()\n",
        "\n",
        "# Draw the heatmap\n",
        "sns.set(font_scale = 1.0)\n",
        "f, ax = plt.subplots(figsize=(11, 9))\n",
        "sns.heatmap(corr_matrix, cmap= \"YlGnBu\", square=True, ax = ax)\n",
        "f.tight_layout()\n",
        "#plt.savefig(\"correlation_matrix.png\", dpi = 1080)\n",
        "\n",
        "# Select upper triangle of matrix\n",
        "upper = corr_matrix.where(np.triu(np.ones(corr_matrix.shape), k = 1).astype(np.bool))"
      ]
    },
    {
      "cell_type": "code",
      "execution_count": null,
      "metadata": {
        "colab": {
          "base_uri": "https://localhost:8080/",
          "height": 519
        },
        "id": "1VjZs_0ETs57",
        "outputId": "7af59099-6c51-44cb-ae53-3785eb0c5abe"
      },
      "outputs": [
        {
          "output_type": "execute_result",
          "data": {
            "text/plain": [
              "          cred_sum_cc_all  mfo_inqs_count_month  all_closed_creds_sum_all  \\\n",
              "order_id                                                                    \n",
              "5498546              0.00                     0                     40364   \n",
              "5498604           1500.00                     0                     23456   \n",
              "5498609              0.10                     0                     17999   \n",
              "5498645           5000.00                     0                    313247   \n",
              "5498647              0.00                     0                         0   \n",
              "...                   ...                   ...                       ...   \n",
              "6192317           4406.71                     8                    366194   \n",
              "6192444         155000.00                     3                    217946   \n",
              "6192539          30000.00                     4                    157484   \n",
              "6192655          38000.00                     3                    339500   \n",
              "6192958          41000.00                     3                    528493   \n",
              "\n",
              "          bank_inqs_count_quarter  cred_max_overdue_max_ly  \\\n",
              "order_id                                                     \n",
              "5498546                         0                     0.00   \n",
              "5498604                         0                     0.00   \n",
              "5498609                         3                     0.00   \n",
              "5498645                         0                     0.00   \n",
              "5498647                         1                     0.00   \n",
              "...                           ...                      ...   \n",
              "6192317                        41                     0.00   \n",
              "6192444                         2                  6771.00   \n",
              "6192539                         5                  8600.00   \n",
              "6192655                         1                     0.00   \n",
              "6192958                         3                  2225.28   \n",
              "\n",
              "          all_active_creds_sum_all  mfo_last_days_all  cred_sum_cc_ly  \\\n",
              "order_id                                                                \n",
              "5498546                       3000                560             0.0   \n",
              "5498604                          0               9999             0.0   \n",
              "5498609                       9999               9999             0.1   \n",
              "5498645                          0               9999             0.0   \n",
              "5498647                          0               9999             0.0   \n",
              "...                            ...                ...             ...   \n",
              "6192317                     431106                  6             0.0   \n",
              "6192444                     419276                 15             0.0   \n",
              "6192539                          0                 16             0.0   \n",
              "6192655                      27000                  1             0.0   \n",
              "6192958                     628864                  8         41000.0   \n",
              "\n",
              "          cred_sum_debt_all_all  all_closed_creds_sum_ly  ...  \\\n",
              "order_id                                                  ...   \n",
              "5498546                    0.00                        0  ...   \n",
              "5498604                    0.00                        0  ...   \n",
              "5498609                 9999.00                        0  ...   \n",
              "5498645                    0.00                        0  ...   \n",
              "5498647                    0.00                        0  ...   \n",
              "...                         ...                      ...  ...   \n",
              "6192317               423609.76                   180328  ...   \n",
              "6192444               314112.06                   166700  ...   \n",
              "6192539                    0.00                    97800  ...   \n",
              "6192655                27000.00                    89500  ...   \n",
              "6192958               510457.29                     4000  ...   \n",
              "\n",
              "          delay_more_sum_all  all_creds_count_all  \\\n",
              "order_id                                            \n",
              "5498546                    2                    3   \n",
              "5498604                   10                    3   \n",
              "5498609                   18                    4   \n",
              "5498645                    8                    5   \n",
              "5498647                   11                    1   \n",
              "...                      ...                  ...   \n",
              "6192317                    0                   35   \n",
              "6192444                    0                   39   \n",
              "6192539                   12                   16   \n",
              "6192655                    0                   21   \n",
              "6192958                    1                    8   \n",
              "\n",
              "          cred_day_overdue_all_sum_all  cred_max_overdue_max_3lm  \\\n",
              "order_id                                                           \n",
              "5498546                            529                       0.0   \n",
              "5498604                              0                       0.0   \n",
              "5498609                              0                       0.0   \n",
              "5498645                              0                       0.0   \n",
              "5498647                              0                       0.0   \n",
              "...                                ...                       ...   \n",
              "6192317                              0                       0.0   \n",
              "6192444                              0                       0.0   \n",
              "6192539                              0                       0.0   \n",
              "6192655                              0                       0.0   \n",
              "6192958                              0                       0.0   \n",
              "\n",
              "          cred_sum_overdue_cc_all  count_overdue_all_3lm  all_creds_count_lm  \\\n",
              "order_id                                                                       \n",
              "5498546                      0.00                      0                   0   \n",
              "5498604                      0.00                      0                   0   \n",
              "5498609                      0.00                      0                   2   \n",
              "5498645                   4923.97                      0                   0   \n",
              "5498647                      0.00                      0                   0   \n",
              "...                           ...                    ...                 ...   \n",
              "6192317                      0.00                      0                   9   \n",
              "6192444                      0.00                      0                   2   \n",
              "6192539                      0.00                      0                   2   \n",
              "6192655                      0.00                      0                   4   \n",
              "6192958                      0.00                      0                   3   \n",
              "\n",
              "          work_code  month_income  region  \n",
              "order_id                                   \n",
              "5498546           3         50000      46  \n",
              "5498604           3         35000      17  \n",
              "5498609           3         35000      58  \n",
              "5498645           5         35000       4  \n",
              "5498647           5         35000      34  \n",
              "...             ...           ...     ...  \n",
              "6192317           4         50000      32  \n",
              "6192444           2         50000      36  \n",
              "6192539           4         60000       7  \n",
              "6192655           2         35000      14  \n",
              "6192958           3         35000      46  \n",
              "\n",
              "[19105 rows x 21 columns]"
            ],
            "text/html": [
              "\n",
              "  <div id=\"df-67e509cd-375c-44bf-ad01-d9919b9fa761\">\n",
              "    <div class=\"colab-df-container\">\n",
              "      <div>\n",
              "<style scoped>\n",
              "    .dataframe tbody tr th:only-of-type {\n",
              "        vertical-align: middle;\n",
              "    }\n",
              "\n",
              "    .dataframe tbody tr th {\n",
              "        vertical-align: top;\n",
              "    }\n",
              "\n",
              "    .dataframe thead th {\n",
              "        text-align: right;\n",
              "    }\n",
              "</style>\n",
              "<table border=\"1\" class=\"dataframe\">\n",
              "  <thead>\n",
              "    <tr style=\"text-align: right;\">\n",
              "      <th></th>\n",
              "      <th>cred_sum_cc_all</th>\n",
              "      <th>mfo_inqs_count_month</th>\n",
              "      <th>all_closed_creds_sum_all</th>\n",
              "      <th>bank_inqs_count_quarter</th>\n",
              "      <th>cred_max_overdue_max_ly</th>\n",
              "      <th>all_active_creds_sum_all</th>\n",
              "      <th>mfo_last_days_all</th>\n",
              "      <th>cred_sum_cc_ly</th>\n",
              "      <th>cred_sum_debt_all_all</th>\n",
              "      <th>all_closed_creds_sum_ly</th>\n",
              "      <th>...</th>\n",
              "      <th>delay_more_sum_all</th>\n",
              "      <th>all_creds_count_all</th>\n",
              "      <th>cred_day_overdue_all_sum_all</th>\n",
              "      <th>cred_max_overdue_max_3lm</th>\n",
              "      <th>cred_sum_overdue_cc_all</th>\n",
              "      <th>count_overdue_all_3lm</th>\n",
              "      <th>all_creds_count_lm</th>\n",
              "      <th>work_code</th>\n",
              "      <th>month_income</th>\n",
              "      <th>region</th>\n",
              "    </tr>\n",
              "    <tr>\n",
              "      <th>order_id</th>\n",
              "      <th></th>\n",
              "      <th></th>\n",
              "      <th></th>\n",
              "      <th></th>\n",
              "      <th></th>\n",
              "      <th></th>\n",
              "      <th></th>\n",
              "      <th></th>\n",
              "      <th></th>\n",
              "      <th></th>\n",
              "      <th></th>\n",
              "      <th></th>\n",
              "      <th></th>\n",
              "      <th></th>\n",
              "      <th></th>\n",
              "      <th></th>\n",
              "      <th></th>\n",
              "      <th></th>\n",
              "      <th></th>\n",
              "      <th></th>\n",
              "      <th></th>\n",
              "    </tr>\n",
              "  </thead>\n",
              "  <tbody>\n",
              "    <tr>\n",
              "      <th>5498546</th>\n",
              "      <td>0.00</td>\n",
              "      <td>0</td>\n",
              "      <td>40364</td>\n",
              "      <td>0</td>\n",
              "      <td>0.00</td>\n",
              "      <td>3000</td>\n",
              "      <td>560</td>\n",
              "      <td>0.0</td>\n",
              "      <td>0.00</td>\n",
              "      <td>0</td>\n",
              "      <td>...</td>\n",
              "      <td>2</td>\n",
              "      <td>3</td>\n",
              "      <td>529</td>\n",
              "      <td>0.0</td>\n",
              "      <td>0.00</td>\n",
              "      <td>0</td>\n",
              "      <td>0</td>\n",
              "      <td>3</td>\n",
              "      <td>50000</td>\n",
              "      <td>46</td>\n",
              "    </tr>\n",
              "    <tr>\n",
              "      <th>5498604</th>\n",
              "      <td>1500.00</td>\n",
              "      <td>0</td>\n",
              "      <td>23456</td>\n",
              "      <td>0</td>\n",
              "      <td>0.00</td>\n",
              "      <td>0</td>\n",
              "      <td>9999</td>\n",
              "      <td>0.0</td>\n",
              "      <td>0.00</td>\n",
              "      <td>0</td>\n",
              "      <td>...</td>\n",
              "      <td>10</td>\n",
              "      <td>3</td>\n",
              "      <td>0</td>\n",
              "      <td>0.0</td>\n",
              "      <td>0.00</td>\n",
              "      <td>0</td>\n",
              "      <td>0</td>\n",
              "      <td>3</td>\n",
              "      <td>35000</td>\n",
              "      <td>17</td>\n",
              "    </tr>\n",
              "    <tr>\n",
              "      <th>5498609</th>\n",
              "      <td>0.10</td>\n",
              "      <td>0</td>\n",
              "      <td>17999</td>\n",
              "      <td>3</td>\n",
              "      <td>0.00</td>\n",
              "      <td>9999</td>\n",
              "      <td>9999</td>\n",
              "      <td>0.1</td>\n",
              "      <td>9999.00</td>\n",
              "      <td>0</td>\n",
              "      <td>...</td>\n",
              "      <td>18</td>\n",
              "      <td>4</td>\n",
              "      <td>0</td>\n",
              "      <td>0.0</td>\n",
              "      <td>0.00</td>\n",
              "      <td>0</td>\n",
              "      <td>2</td>\n",
              "      <td>3</td>\n",
              "      <td>35000</td>\n",
              "      <td>58</td>\n",
              "    </tr>\n",
              "    <tr>\n",
              "      <th>5498645</th>\n",
              "      <td>5000.00</td>\n",
              "      <td>0</td>\n",
              "      <td>313247</td>\n",
              "      <td>0</td>\n",
              "      <td>0.00</td>\n",
              "      <td>0</td>\n",
              "      <td>9999</td>\n",
              "      <td>0.0</td>\n",
              "      <td>0.00</td>\n",
              "      <td>0</td>\n",
              "      <td>...</td>\n",
              "      <td>8</td>\n",
              "      <td>5</td>\n",
              "      <td>0</td>\n",
              "      <td>0.0</td>\n",
              "      <td>4923.97</td>\n",
              "      <td>0</td>\n",
              "      <td>0</td>\n",
              "      <td>5</td>\n",
              "      <td>35000</td>\n",
              "      <td>4</td>\n",
              "    </tr>\n",
              "    <tr>\n",
              "      <th>5498647</th>\n",
              "      <td>0.00</td>\n",
              "      <td>0</td>\n",
              "      <td>0</td>\n",
              "      <td>1</td>\n",
              "      <td>0.00</td>\n",
              "      <td>0</td>\n",
              "      <td>9999</td>\n",
              "      <td>0.0</td>\n",
              "      <td>0.00</td>\n",
              "      <td>0</td>\n",
              "      <td>...</td>\n",
              "      <td>11</td>\n",
              "      <td>1</td>\n",
              "      <td>0</td>\n",
              "      <td>0.0</td>\n",
              "      <td>0.00</td>\n",
              "      <td>0</td>\n",
              "      <td>0</td>\n",
              "      <td>5</td>\n",
              "      <td>35000</td>\n",
              "      <td>34</td>\n",
              "    </tr>\n",
              "    <tr>\n",
              "      <th>...</th>\n",
              "      <td>...</td>\n",
              "      <td>...</td>\n",
              "      <td>...</td>\n",
              "      <td>...</td>\n",
              "      <td>...</td>\n",
              "      <td>...</td>\n",
              "      <td>...</td>\n",
              "      <td>...</td>\n",
              "      <td>...</td>\n",
              "      <td>...</td>\n",
              "      <td>...</td>\n",
              "      <td>...</td>\n",
              "      <td>...</td>\n",
              "      <td>...</td>\n",
              "      <td>...</td>\n",
              "      <td>...</td>\n",
              "      <td>...</td>\n",
              "      <td>...</td>\n",
              "      <td>...</td>\n",
              "      <td>...</td>\n",
              "      <td>...</td>\n",
              "    </tr>\n",
              "    <tr>\n",
              "      <th>6192317</th>\n",
              "      <td>4406.71</td>\n",
              "      <td>8</td>\n",
              "      <td>366194</td>\n",
              "      <td>41</td>\n",
              "      <td>0.00</td>\n",
              "      <td>431106</td>\n",
              "      <td>6</td>\n",
              "      <td>0.0</td>\n",
              "      <td>423609.76</td>\n",
              "      <td>180328</td>\n",
              "      <td>...</td>\n",
              "      <td>0</td>\n",
              "      <td>35</td>\n",
              "      <td>0</td>\n",
              "      <td>0.0</td>\n",
              "      <td>0.00</td>\n",
              "      <td>0</td>\n",
              "      <td>9</td>\n",
              "      <td>4</td>\n",
              "      <td>50000</td>\n",
              "      <td>32</td>\n",
              "    </tr>\n",
              "    <tr>\n",
              "      <th>6192444</th>\n",
              "      <td>155000.00</td>\n",
              "      <td>3</td>\n",
              "      <td>217946</td>\n",
              "      <td>2</td>\n",
              "      <td>6771.00</td>\n",
              "      <td>419276</td>\n",
              "      <td>15</td>\n",
              "      <td>0.0</td>\n",
              "      <td>314112.06</td>\n",
              "      <td>166700</td>\n",
              "      <td>...</td>\n",
              "      <td>0</td>\n",
              "      <td>39</td>\n",
              "      <td>0</td>\n",
              "      <td>0.0</td>\n",
              "      <td>0.00</td>\n",
              "      <td>0</td>\n",
              "      <td>2</td>\n",
              "      <td>2</td>\n",
              "      <td>50000</td>\n",
              "      <td>36</td>\n",
              "    </tr>\n",
              "    <tr>\n",
              "      <th>6192539</th>\n",
              "      <td>30000.00</td>\n",
              "      <td>4</td>\n",
              "      <td>157484</td>\n",
              "      <td>5</td>\n",
              "      <td>8600.00</td>\n",
              "      <td>0</td>\n",
              "      <td>16</td>\n",
              "      <td>0.0</td>\n",
              "      <td>0.00</td>\n",
              "      <td>97800</td>\n",
              "      <td>...</td>\n",
              "      <td>12</td>\n",
              "      <td>16</td>\n",
              "      <td>0</td>\n",
              "      <td>0.0</td>\n",
              "      <td>0.00</td>\n",
              "      <td>0</td>\n",
              "      <td>2</td>\n",
              "      <td>4</td>\n",
              "      <td>60000</td>\n",
              "      <td>7</td>\n",
              "    </tr>\n",
              "    <tr>\n",
              "      <th>6192655</th>\n",
              "      <td>38000.00</td>\n",
              "      <td>3</td>\n",
              "      <td>339500</td>\n",
              "      <td>1</td>\n",
              "      <td>0.00</td>\n",
              "      <td>27000</td>\n",
              "      <td>1</td>\n",
              "      <td>0.0</td>\n",
              "      <td>27000.00</td>\n",
              "      <td>89500</td>\n",
              "      <td>...</td>\n",
              "      <td>0</td>\n",
              "      <td>21</td>\n",
              "      <td>0</td>\n",
              "      <td>0.0</td>\n",
              "      <td>0.00</td>\n",
              "      <td>0</td>\n",
              "      <td>4</td>\n",
              "      <td>2</td>\n",
              "      <td>35000</td>\n",
              "      <td>14</td>\n",
              "    </tr>\n",
              "    <tr>\n",
              "      <th>6192958</th>\n",
              "      <td>41000.00</td>\n",
              "      <td>3</td>\n",
              "      <td>528493</td>\n",
              "      <td>3</td>\n",
              "      <td>2225.28</td>\n",
              "      <td>628864</td>\n",
              "      <td>8</td>\n",
              "      <td>41000.0</td>\n",
              "      <td>510457.29</td>\n",
              "      <td>4000</td>\n",
              "      <td>...</td>\n",
              "      <td>1</td>\n",
              "      <td>8</td>\n",
              "      <td>0</td>\n",
              "      <td>0.0</td>\n",
              "      <td>0.00</td>\n",
              "      <td>0</td>\n",
              "      <td>3</td>\n",
              "      <td>3</td>\n",
              "      <td>35000</td>\n",
              "      <td>46</td>\n",
              "    </tr>\n",
              "  </tbody>\n",
              "</table>\n",
              "<p>19105 rows × 21 columns</p>\n",
              "</div>\n",
              "      <button class=\"colab-df-convert\" onclick=\"convertToInteractive('df-67e509cd-375c-44bf-ad01-d9919b9fa761')\"\n",
              "              title=\"Convert this dataframe to an interactive table.\"\n",
              "              style=\"display:none;\">\n",
              "        \n",
              "  <svg xmlns=\"http://www.w3.org/2000/svg\" height=\"24px\"viewBox=\"0 0 24 24\"\n",
              "       width=\"24px\">\n",
              "    <path d=\"M0 0h24v24H0V0z\" fill=\"none\"/>\n",
              "    <path d=\"M18.56 5.44l.94 2.06.94-2.06 2.06-.94-2.06-.94-.94-2.06-.94 2.06-2.06.94zm-11 1L8.5 8.5l.94-2.06 2.06-.94-2.06-.94L8.5 2.5l-.94 2.06-2.06.94zm10 10l.94 2.06.94-2.06 2.06-.94-2.06-.94-.94-2.06-.94 2.06-2.06.94z\"/><path d=\"M17.41 7.96l-1.37-1.37c-.4-.4-.92-.59-1.43-.59-.52 0-1.04.2-1.43.59L10.3 9.45l-7.72 7.72c-.78.78-.78 2.05 0 2.83L4 21.41c.39.39.9.59 1.41.59.51 0 1.02-.2 1.41-.59l7.78-7.78 2.81-2.81c.8-.78.8-2.07 0-2.86zM5.41 20L4 18.59l7.72-7.72 1.47 1.35L5.41 20z\"/>\n",
              "  </svg>\n",
              "      </button>\n",
              "      \n",
              "  <style>\n",
              "    .colab-df-container {\n",
              "      display:flex;\n",
              "      flex-wrap:wrap;\n",
              "      gap: 12px;\n",
              "    }\n",
              "\n",
              "    .colab-df-convert {\n",
              "      background-color: #E8F0FE;\n",
              "      border: none;\n",
              "      border-radius: 50%;\n",
              "      cursor: pointer;\n",
              "      display: none;\n",
              "      fill: #1967D2;\n",
              "      height: 32px;\n",
              "      padding: 0 0 0 0;\n",
              "      width: 32px;\n",
              "    }\n",
              "\n",
              "    .colab-df-convert:hover {\n",
              "      background-color: #E2EBFA;\n",
              "      box-shadow: 0px 1px 2px rgba(60, 64, 67, 0.3), 0px 1px 3px 1px rgba(60, 64, 67, 0.15);\n",
              "      fill: #174EA6;\n",
              "    }\n",
              "\n",
              "    [theme=dark] .colab-df-convert {\n",
              "      background-color: #3B4455;\n",
              "      fill: #D2E3FC;\n",
              "    }\n",
              "\n",
              "    [theme=dark] .colab-df-convert:hover {\n",
              "      background-color: #434B5C;\n",
              "      box-shadow: 0px 1px 3px 1px rgba(0, 0, 0, 0.15);\n",
              "      filter: drop-shadow(0px 1px 2px rgba(0, 0, 0, 0.3));\n",
              "      fill: #FFFFFF;\n",
              "    }\n",
              "  </style>\n",
              "\n",
              "      <script>\n",
              "        const buttonEl =\n",
              "          document.querySelector('#df-67e509cd-375c-44bf-ad01-d9919b9fa761 button.colab-df-convert');\n",
              "        buttonEl.style.display =\n",
              "          google.colab.kernel.accessAllowed ? 'block' : 'none';\n",
              "\n",
              "        async function convertToInteractive(key) {\n",
              "          const element = document.querySelector('#df-67e509cd-375c-44bf-ad01-d9919b9fa761');\n",
              "          const dataTable =\n",
              "            await google.colab.kernel.invokeFunction('convertToInteractive',\n",
              "                                                     [key], {});\n",
              "          if (!dataTable) return;\n",
              "\n",
              "          const docLinkHtml = 'Like what you see? Visit the ' +\n",
              "            '<a target=\"_blank\" href=https://colab.research.google.com/notebooks/data_table.ipynb>data table notebook</a>'\n",
              "            + ' to learn more about interactive tables.';\n",
              "          element.innerHTML = '';\n",
              "          dataTable['output_type'] = 'display_data';\n",
              "          await google.colab.output.renderOutput(dataTable, element);\n",
              "          const docLink = document.createElement('div');\n",
              "          docLink.innerHTML = docLinkHtml;\n",
              "          element.appendChild(docLink);\n",
              "        }\n",
              "      </script>\n",
              "    </div>\n",
              "  </div>\n",
              "  "
            ]
          },
          "metadata": {},
          "execution_count": 10
        }
      ],
      "source": [
        "# Найдем индексы фич с коэф корреляции более 0.90\n",
        "to_drop = [column for column in upper.columns if any(upper[column] > 0.90)]\n",
        "\n",
        "# Drop features\n",
        "importances_corr = X.drop(to_drop, axis = 1)\n",
        "importances_corr"
      ]
    },
    {
      "cell_type": "code",
      "execution_count": null,
      "metadata": {
        "colab": {
          "base_uri": "https://localhost:8080/",
          "height": 303
        },
        "id": "lMAqz4n8T4Td",
        "outputId": "a9eda436-b60b-416f-d0e5-39b2555fc883"
      },
      "outputs": [
        {
          "output_type": "execute_result",
          "data": {
            "text/plain": [
              "<matplotlib.axes._subplots.AxesSubplot at 0x7fbad63e4f10>"
            ]
          },
          "metadata": {},
          "execution_count": 11
        },
        {
          "output_type": "display_data",
          "data": {
            "text/plain": [
              "<Figure size 1296x648 with 0 Axes>"
            ]
          },
          "metadata": {}
        },
        {
          "output_type": "display_data",
          "data": {
            "text/plain": [
              "<Figure size 432x288 with 1 Axes>"
            ],
            "image/png": "[encoded data removed]"
          },
          "metadata": {}
        }
      ],
      "source": [
        "np.random.seed(4)\n",
        "importances = mutual_info_classif(importances_corr, y)\n",
        "plt.figure(figsize=(18, 9))\n",
        "feature_importances = pd.DataFrame(data={'score':importances}, \n",
        "                      index=importances_corr.columns).sort_values(by='score')\n",
        "feature_importances.plot(kind='barh', color='teal')"
      ]
    },
    {
      "cell_type": "markdown",
      "source": [
        "Удалим признаки с IG< 0.015"
      ],
      "metadata": {
        "id": "xwQom2LT-MIg"
      }
    },
    {
      "cell_type": "code",
      "execution_count": null,
      "metadata": {
        "colab": {
          "base_uri": "https://localhost:8080/",
          "height": 519
        },
        "id": "WXQMGSiMXK8z",
        "outputId": "fd54f404-777a-4205-8bdd-54d93cb8de00"
      },
      "outputs": [
        {
          "output_type": "execute_result",
          "data": {
            "text/plain": [
              "          cred_sum_cc_all  mfo_inqs_count_month  all_closed_creds_sum_all  \\\n",
              "order_id                                                                    \n",
              "5498546              0.00                     0                     40364   \n",
              "5498604           1500.00                     0                     23456   \n",
              "5498609              0.10                     0                     17999   \n",
              "5498645           5000.00                     0                    313247   \n",
              "5498647              0.00                     0                         0   \n",
              "...                   ...                   ...                       ...   \n",
              "6192317           4406.71                     8                    366194   \n",
              "6192444         155000.00                     3                    217946   \n",
              "6192539          30000.00                     4                    157484   \n",
              "6192655          38000.00                     3                    339500   \n",
              "6192958          41000.00                     3                    528493   \n",
              "\n",
              "          bank_inqs_count_quarter  all_active_creds_sum_all  \\\n",
              "order_id                                                      \n",
              "5498546                         0                      3000   \n",
              "5498604                         0                         0   \n",
              "5498609                         3                      9999   \n",
              "5498645                         0                         0   \n",
              "5498647                         1                         0   \n",
              "...                           ...                       ...   \n",
              "6192317                        41                    431106   \n",
              "6192444                         2                    419276   \n",
              "6192539                         5                         0   \n",
              "6192655                         1                     27000   \n",
              "6192958                         3                    628864   \n",
              "\n",
              "          mfo_last_days_all  cred_sum_cc_ly  cred_sum_debt_all_all  \\\n",
              "order_id                                                             \n",
              "5498546                 560             0.0                   0.00   \n",
              "5498604                9999             0.0                   0.00   \n",
              "5498609                9999             0.1                9999.00   \n",
              "5498645                9999             0.0                   0.00   \n",
              "5498647                9999             0.0                   0.00   \n",
              "...                     ...             ...                    ...   \n",
              "6192317                   6             0.0              423609.76   \n",
              "6192444                  15             0.0              314112.06   \n",
              "6192539                  16             0.0                   0.00   \n",
              "6192655                   1             0.0               27000.00   \n",
              "6192958                   8         41000.0              510457.29   \n",
              "\n",
              "          all_closed_creds_sum_ly  mfo_cred_mean_sum_3lm  delay_more_sum_all  \\\n",
              "order_id                                                                       \n",
              "5498546                         0               0.000000                   2   \n",
              "5498604                         0               0.000000                  10   \n",
              "5498609                         0               0.000000                  18   \n",
              "5498645                         0               0.000000                   8   \n",
              "5498647                         0               0.000000                  11   \n",
              "...                           ...                    ...                 ...   \n",
              "6192317                    180328           20335.120000                   0   \n",
              "6192444                    166700           17784.000000                   0   \n",
              "6192539                     97800           13233.333333                  12   \n",
              "6192655                     89500            8222.222222                   0   \n",
              "6192958                      4000            2333.333333                   1   \n",
              "\n",
              "          all_creds_count_all  cred_day_overdue_all_sum_all  \\\n",
              "order_id                                                      \n",
              "5498546                     3                           529   \n",
              "5498604                     3                             0   \n",
              "5498609                     4                             0   \n",
              "5498645                     5                             0   \n",
              "5498647                     1                             0   \n",
              "...                       ...                           ...   \n",
              "6192317                    35                             0   \n",
              "6192444                    39                             0   \n",
              "6192539                    16                             0   \n",
              "6192655                    21                             0   \n",
              "6192958                     8                             0   \n",
              "\n",
              "          mfo_closed_count_ly  all_creds_count_lm  month_income  \n",
              "order_id                                                         \n",
              "5498546                     0                   0         50000  \n",
              "5498604                     0                   0         35000  \n",
              "5498609                     0                   2         35000  \n",
              "5498645                     0                   0         35000  \n",
              "5498647                     0                   0         35000  \n",
              "...                       ...                 ...           ...  \n",
              "6192317                    17                   9         50000  \n",
              "6192444                    17                   2         50000  \n",
              "6192539                    11                   2         60000  \n",
              "6192655                    13                   4         35000  \n",
              "6192958                     2                   3         35000  \n",
              "\n",
              "[19105 rows x 16 columns]"
            ],
            "text/html": [
              "\n",
              "  <div id=\"df-5206c244-8b24-409e-afbf-8f7308bf8f21\">\n",
              "    <div class=\"colab-df-container\">\n",
              "      <div>\n",
              "<style scoped>\n",
              "    .dataframe tbody tr th:only-of-type {\n",
              "        vertical-align: middle;\n",
              "    }\n",
              "\n",
              "    .dataframe tbody tr th {\n",
              "        vertical-align: top;\n",
              "    }\n",
              "\n",
              "    .dataframe thead th {\n",
              "        text-align: right;\n",
              "    }\n",
              "</style>\n",
              "<table border=\"1\" class=\"dataframe\">\n",
              "  <thead>\n",
              "    <tr style=\"text-align: right;\">\n",
              "      <th></th>\n",
              "      <th>cred_sum_cc_all</th>\n",
              "      <th>mfo_inqs_count_month</th>\n",
              "      <th>all_closed_creds_sum_all</th>\n",
              "      <th>bank_inqs_count_quarter</th>\n",
              "      <th>all_active_creds_sum_all</th>\n",
              "      <th>mfo_last_days_all</th>\n",
              "      <th>cred_sum_cc_ly</th>\n",
              "      <th>cred_sum_debt_all_all</th>\n",
              "      <th>all_closed_creds_sum_ly</th>\n",
              "      <th>mfo_cred_mean_sum_3lm</th>\n",
              "      <th>delay_more_sum_all</th>\n",
              "      <th>all_creds_count_all</th>\n",
              "      <th>cred_day_overdue_all_sum_all</th>\n",
              "      <th>mfo_closed_count_ly</th>\n",
              "      <th>all_creds_count_lm</th>\n",
              "      <th>month_income</th>\n",
              "    </tr>\n",
              "    <tr>\n",
              "      <th>order_id</th>\n",
              "      <th></th>\n",
              "      <th></th>\n",
              "      <th></th>\n",
              "      <th></th>\n",
              "      <th></th>\n",
              "      <th></th>\n",
              "      <th></th>\n",
              "      <th></th>\n",
              "      <th></th>\n",
              "      <th></th>\n",
              "      <th></th>\n",
              "      <th></th>\n",
              "      <th></th>\n",
              "      <th></th>\n",
              "      <th></th>\n",
              "      <th></th>\n",
              "    </tr>\n",
              "  </thead>\n",
              "  <tbody>\n",
              "    <tr>\n",
              "      <th>5498546</th>\n",
              "      <td>0.00</td>\n",
              "      <td>0</td>\n",
              "      <td>40364</td>\n",
              "      <td>0</td>\n",
              "      <td>3000</td>\n",
              "      <td>560</td>\n",
              "      <td>0.0</td>\n",
              "      <td>0.00</td>\n",
              "      <td>0</td>\n",
              "      <td>0.000000</td>\n",
              "      <td>2</td>\n",
              "      <td>3</td>\n",
              "      <td>529</td>\n",
              "      <td>0</td>\n",
              "      <td>0</td>\n",
              "      <td>50000</td>\n",
              "    </tr>\n",
              "    <tr>\n",
              "      <th>5498604</th>\n",
              "      <td>1500.00</td>\n",
              "      <td>0</td>\n",
              "      <td>23456</td>\n",
              "      <td>0</td>\n",
              "      <td>0</td>\n",
              "      <td>9999</td>\n",
              "      <td>0.0</td>\n",
              "      <td>0.00</td>\n",
              "      <td>0</td>\n",
              "      <td>0.000000</td>\n",
              "      <td>10</td>\n",
              "      <td>3</td>\n",
              "      <td>0</td>\n",
              "      <td>0</td>\n",
              "      <td>0</td>\n",
              "      <td>35000</td>\n",
              "    </tr>\n",
              "    <tr>\n",
              "      <th>5498609</th>\n",
              "      <td>0.10</td>\n",
              "      <td>0</td>\n",
              "      <td>17999</td>\n",
              "      <td>3</td>\n",
              "      <td>9999</td>\n",
              "      <td>9999</td>\n",
              "      <td>0.1</td>\n",
              "      <td>9999.00</td>\n",
              "      <td>0</td>\n",
              "      <td>0.000000</td>\n",
              "      <td>18</td>\n",
              "      <td>4</td>\n",
              "      <td>0</td>\n",
              "      <td>0</td>\n",
              "      <td>2</td>\n",
              "      <td>35000</td>\n",
              "    </tr>\n",
              "    <tr>\n",
              "      <th>5498645</th>\n",
              "      <td>5000.00</td>\n",
              "      <td>0</td>\n",
              "      <td>313247</td>\n",
              "      <td>0</td>\n",
              "      <td>0</td>\n",
              "      <td>9999</td>\n",
              "      <td>0.0</td>\n",
              "      <td>0.00</td>\n",
              "      <td>0</td>\n",
              "      <td>0.000000</td>\n",
              "      <td>8</td>\n",
              "      <td>5</td>\n",
              "      <td>0</td>\n",
              "      <td>0</td>\n",
              "      <td>0</td>\n",
              "      <td>35000</td>\n",
              "    </tr>\n",
              "    <tr>\n",
              "      <th>5498647</th>\n",
              "      <td>0.00</td>\n",
              "      <td>0</td>\n",
              "      <td>0</td>\n",
              "      <td>1</td>\n",
              "      <td>0</td>\n",
              "      <td>9999</td>\n",
              "      <td>0.0</td>\n",
              "      <td>0.00</td>\n",
              "      <td>0</td>\n",
              "      <td>0.000000</td>\n",
              "      <td>11</td>\n",
              "      <td>1</td>\n",
              "      <td>0</td>\n",
              "      <td>0</td>\n",
              "      <td>0</td>\n",
              "      <td>35000</td>\n",
              "    </tr>\n",
              "    <tr>\n",
              "      <th>...</th>\n",
              "      <td>...</td>\n",
              "      <td>...</td>\n",
              "      <td>...</td>\n",
              "      <td>...</td>\n",
              "      <td>...</td>\n",
              "      <td>...</td>\n",
              "      <td>...</td>\n",
              "      <td>...</td>\n",
              "      <td>...</td>\n",
              "      <td>...</td>\n",
              "      <td>...</td>\n",
              "      <td>...</td>\n",
              "      <td>...</td>\n",
              "      <td>...</td>\n",
              "      <td>...</td>\n",
              "      <td>...</td>\n",
              "    </tr>\n",
              "    <tr>\n",
              "      <th>6192317</th>\n",
              "      <td>4406.71</td>\n",
              "      <td>8</td>\n",
              "      <td>366194</td>\n",
              "      <td>41</td>\n",
              "      <td>431106</td>\n",
              "      <td>6</td>\n",
              "      <td>0.0</td>\n",
              "      <td>423609.76</td>\n",
              "      <td>180328</td>\n",
              "      <td>20335.120000</td>\n",
              "      <td>0</td>\n",
              "      <td>35</td>\n",
              "      <td>0</td>\n",
              "      <td>17</td>\n",
              "      <td>9</td>\n",
              "      <td>50000</td>\n",
              "    </tr>\n",
              "    <tr>\n",
              "      <th>6192444</th>\n",
              "      <td>155000.00</td>\n",
              "      <td>3</td>\n",
              "      <td>217946</td>\n",
              "      <td>2</td>\n",
              "      <td>419276</td>\n",
              "      <td>15</td>\n",
              "      <td>0.0</td>\n",
              "      <td>314112.06</td>\n",
              "      <td>166700</td>\n",
              "      <td>17784.000000</td>\n",
              "      <td>0</td>\n",
              "      <td>39</td>\n",
              "      <td>0</td>\n",
              "      <td>17</td>\n",
              "      <td>2</td>\n",
              "      <td>50000</td>\n",
              "    </tr>\n",
              "    <tr>\n",
              "      <th>6192539</th>\n",
              "      <td>30000.00</td>\n",
              "      <td>4</td>\n",
              "      <td>157484</td>\n",
              "      <td>5</td>\n",
              "      <td>0</td>\n",
              "      <td>16</td>\n",
              "      <td>0.0</td>\n",
              "      <td>0.00</td>\n",
              "      <td>97800</td>\n",
              "      <td>13233.333333</td>\n",
              "      <td>12</td>\n",
              "      <td>16</td>\n",
              "      <td>0</td>\n",
              "      <td>11</td>\n",
              "      <td>2</td>\n",
              "      <td>60000</td>\n",
              "    </tr>\n",
              "    <tr>\n",
              "      <th>6192655</th>\n",
              "      <td>38000.00</td>\n",
              "      <td>3</td>\n",
              "      <td>339500</td>\n",
              "      <td>1</td>\n",
              "      <td>27000</td>\n",
              "      <td>1</td>\n",
              "      <td>0.0</td>\n",
              "      <td>27000.00</td>\n",
              "      <td>89500</td>\n",
              "      <td>8222.222222</td>\n",
              "      <td>0</td>\n",
              "      <td>21</td>\n",
              "      <td>0</td>\n",
              "      <td>13</td>\n",
              "      <td>4</td>\n",
              "      <td>35000</td>\n",
              "    </tr>\n",
              "    <tr>\n",
              "      <th>6192958</th>\n",
              "      <td>41000.00</td>\n",
              "      <td>3</td>\n",
              "      <td>528493</td>\n",
              "      <td>3</td>\n",
              "      <td>628864</td>\n",
              "      <td>8</td>\n",
              "      <td>41000.0</td>\n",
              "      <td>510457.29</td>\n",
              "      <td>4000</td>\n",
              "      <td>2333.333333</td>\n",
              "      <td>1</td>\n",
              "      <td>8</td>\n",
              "      <td>0</td>\n",
              "      <td>2</td>\n",
              "      <td>3</td>\n",
              "      <td>35000</td>\n",
              "    </tr>\n",
              "  </tbody>\n",
              "</table>\n",
              "<p>19105 rows × 16 columns</p>\n",
              "</div>\n",
              "      <button class=\"colab-df-convert\" onclick=\"convertToInteractive('df-5206c244-8b24-409e-afbf-8f7308bf8f21')\"\n",
              "              title=\"Convert this dataframe to an interactive table.\"\n",
              "              style=\"display:none;\">\n",
              "        \n",
              "  <svg xmlns=\"http://www.w3.org/2000/svg\" height=\"24px\"viewBox=\"0 0 24 24\"\n",
              "       width=\"24px\">\n",
              "    <path d=\"M0 0h24v24H0V0z\" fill=\"none\"/>\n",
              "    <path d=\"M18.56 5.44l.94 2.06.94-2.06 2.06-.94-2.06-.94-.94-2.06-.94 2.06-2.06.94zm-11 1L8.5 8.5l.94-2.06 2.06-.94-2.06-.94L8.5 2.5l-.94 2.06-2.06.94zm10 10l.94 2.06.94-2.06 2.06-.94-2.06-.94-.94-2.06-.94 2.06-2.06.94z\"/><path d=\"M17.41 7.96l-1.37-1.37c-.4-.4-.92-.59-1.43-.59-.52 0-1.04.2-1.43.59L10.3 9.45l-7.72 7.72c-.78.78-.78 2.05 0 2.83L4 21.41c.39.39.9.59 1.41.59.51 0 1.02-.2 1.41-.59l7.78-7.78 2.81-2.81c.8-.78.8-2.07 0-2.86zM5.41 20L4 18.59l7.72-7.72 1.47 1.35L5.41 20z\"/>\n",
              "  </svg>\n",
              "      </button>\n",
              "      \n",
              "  <style>\n",
              "    .colab-df-container {\n",
              "      display:flex;\n",
              "      flex-wrap:wrap;\n",
              "      gap: 12px;\n",
              "    }\n",
              "\n",
              "    .colab-df-convert {\n",
              "      background-color: #E8F0FE;\n",
              "      border: none;\n",
              "      border-radius: 50%;\n",
              "      cursor: pointer;\n",
              "      display: none;\n",
              "      fill: #1967D2;\n",
              "      height: 32px;\n",
              "      padding: 0 0 0 0;\n",
              "      width: 32px;\n",
              "    }\n",
              "\n",
              "    .colab-df-convert:hover {\n",
              "      background-color: #E2EBFA;\n",
              "      box-shadow: 0px 1px 2px rgba(60, 64, 67, 0.3), 0px 1px 3px 1px rgba(60, 64, 67, 0.15);\n",
              "      fill: #174EA6;\n",
              "    }\n",
              "\n",
              "    [theme=dark] .colab-df-convert {\n",
              "      background-color: #3B4455;\n",
              "      fill: #D2E3FC;\n",
              "    }\n",
              "\n",
              "    [theme=dark] .colab-df-convert:hover {\n",
              "      background-color: #434B5C;\n",
              "      box-shadow: 0px 1px 3px 1px rgba(0, 0, 0, 0.15);\n",
              "      filter: drop-shadow(0px 1px 2px rgba(0, 0, 0, 0.3));\n",
              "      fill: #FFFFFF;\n",
              "    }\n",
              "  </style>\n",
              "\n",
              "      <script>\n",
              "        const buttonEl =\n",
              "          document.querySelector('#df-5206c244-8b24-409e-afbf-8f7308bf8f21 button.colab-df-convert');\n",
              "        buttonEl.style.display =\n",
              "          google.colab.kernel.accessAllowed ? 'block' : 'none';\n",
              "\n",
              "        async function convertToInteractive(key) {\n",
              "          const element = document.querySelector('#df-5206c244-8b24-409e-afbf-8f7308bf8f21');\n",
              "          const dataTable =\n",
              "            await google.colab.kernel.invokeFunction('convertToInteractive',\n",
              "                                                     [key], {});\n",
              "          if (!dataTable) return;\n",
              "\n",
              "          const docLinkHtml = 'Like what you see? Visit the ' +\n",
              "            '<a target=\"_blank\" href=https://colab.research.google.com/notebooks/data_table.ipynb>data table notebook</a>'\n",
              "            + ' to learn more about interactive tables.';\n",
              "          element.innerHTML = '';\n",
              "          dataTable['output_type'] = 'display_data';\n",
              "          await google.colab.output.renderOutput(dataTable, element);\n",
              "          const docLink = document.createElement('div');\n",
              "          docLink.innerHTML = docLinkHtml;\n",
              "          element.appendChild(docLink);\n",
              "        }\n",
              "      </script>\n",
              "    </div>\n",
              "  </div>\n",
              "  "
            ]
          },
          "metadata": {},
          "execution_count": 12
        }
      ],
      "source": [
        "features_drop=feature_importances[feature_importances['score']<0.015]\n",
        "X_dropped=X.drop(features_drop.index,axis=1)\n",
        "X_dropped"
      ]
    },
    {
      "cell_type": "code",
      "execution_count": null,
      "metadata": {
        "colab": {
          "base_uri": "https://localhost:8080/"
        },
        "id": "5WhhahoKsVWk",
        "outputId": "893b4468-92e1-4890-d324-05addb92a6a3"
      },
      "outputs": [
        {
          "output_type": "execute_result",
          "data": {
            "text/plain": [
              "16"
            ]
          },
          "metadata": {},
          "execution_count": 13
        }
      ],
      "source": [
        "input_dim=len(X_dropped.columns)\n",
        "input_dim"
      ]
    },
    {
      "cell_type": "markdown",
      "source": [
        "Разделим выборку на тренировочную, валидационную и тестовую. Также нормализуем их"
      ],
      "metadata": {
        "id": "yWadejA6-RqY"
      }
    },
    {
      "cell_type": "code",
      "execution_count": null,
      "metadata": {
        "id": "9Jf31sSLrrj6"
      },
      "outputs": [],
      "source": [
        "X_train, X_test_val, y_train, y_test_val = train_test_split(X_dropped, y, test_size = 0.4, random_state = 0)\n",
        "X_val, X_test, y_val, y_test= train_test_split(X_test_val, y_test_val, test_size = 0.5, random_state = 0)\n",
        "sc = StandardScaler()\n",
        "sc.fit(X_train)\n",
        "X_train_std = sc.transform(X_train)\n",
        "X_val_std = sc.transform(X_val)\n",
        "X_test_std = sc.transform(X_test)"
      ]
    },
    {
      "cell_type": "markdown",
      "source": [
        "Переведем данные в TFDS(TensorFlowDatsets)"
      ],
      "metadata": {
        "id": "Mh-qDsDCaF4v"
      }
    },
    {
      "cell_type": "code",
      "source": [
        "train = tf.data.Dataset.from_tensor_slices((X_train_std, y_train))\n",
        "val = tf.data.Dataset.from_tensor_slices((X_val_std, y_val))\n",
        "test = tf.data.Dataset.from_tensor_slices((X_test_std, y_test))"
      ],
      "metadata": {
        "id": "mncvd6g9fSW-"
      },
      "execution_count": null,
      "outputs": []
    },
    {
      "cell_type": "code",
      "source": [
        "val_size=len(list(val)) \n",
        "train_size=len(list(train))\n",
        "train_size"
      ],
      "metadata": {
        "colab": {
          "base_uri": "https://localhost:8080/"
        },
        "id": "sKl36FnTiTqy",
        "outputId": "dbaf7149-3591-4cdc-c7f3-fa334822332d"
      },
      "execution_count": null,
      "outputs": [
        {
          "output_type": "execute_result",
          "data": {
            "text/plain": [
              "11463"
            ]
          },
          "metadata": {},
          "execution_count": 16
        }
      ]
    },
    {
      "cell_type": "code",
      "source": [
        "BATCH_SIZE=50\n",
        "BUFFER_SIZE=1000\n",
        "VAL_SUBSPLITS = 5\n",
        "VALIDATION_STEPS = val_size//BATCH_SIZE//VAL_SUBSPLITS\n",
        "STEPS_PER_EPOCH = train_size // BATCH_SIZE\n",
        "EPOCH=100"
      ],
      "metadata": {
        "id": "HlOOyjyAf2UH"
      },
      "execution_count": null,
      "outputs": []
    },
    {
      "cell_type": "markdown",
      "source": [
        "Ускорим обучение модели:\n",
        " \n",
        "1.   Поместив данные в буффер \n",
        "2.   Установим батчи\n",
        "3.   Создадим предварительную загрузку\n",
        "\n",
        "\n",
        "\n",
        "\n"
      ],
      "metadata": {
        "id": "osZmZoIVaIm7"
      }
    },
    {
      "cell_type": "code",
      "source": [
        "train_dataset = train.cache().shuffle(BUFFER_SIZE).batch(BATCH_SIZE).repeat()\n",
        "train_dataset = train_dataset.prefetch(buffer_size=tf.data.experimental.AUTOTUNE)\n",
        "test_dataset = test.batch(BATCH_SIZE)\n",
        "val_dataset = val.batch(BATCH_SIZE)\n",
        "shape=train_dataset.element_spec[0].shape"
      ],
      "metadata": {
        "id": "rMYVukeSfQ5f"
      },
      "execution_count": null,
      "outputs": []
    },
    {
      "cell_type": "markdown",
      "source": [
        "##Keras"
      ],
      "metadata": {
        "id": "SPXT_IGNvtuk"
      }
    },
    {
      "cell_type": "code",
      "execution_count": null,
      "metadata": {
        "colab": {
          "base_uri": "https://localhost:8080/"
        },
        "id": "CDH8tT8Or_ap",
        "outputId": "b68f2667-a970-4834-f9b0-d2f23730d6b0"
      },
      "outputs": [
        {
          "output_type": "stream",
          "name": "stdout",
          "text": [
            "Looking in indexes: https://pypi.org/simple, https://us-python.pkg.dev/colab-wheels/public/simple/\n",
            "Requirement already satisfied: optuna in /usr/local/lib/python3.8/dist-packages (3.0.5)\n",
            "Requirement already satisfied: cmaes>=0.8.2 in /usr/local/lib/python3.8/dist-packages (from optuna) (0.9.0)\n",
            "Requirement already satisfied: packaging>=20.0 in /usr/local/lib/python3.8/dist-packages (from optuna) (21.3)\n",
            "Requirement already satisfied: cliff in /usr/local/lib/python3.8/dist-packages (from optuna) (4.1.0)\n",
            "Requirement already satisfied: numpy in /usr/local/lib/python3.8/dist-packages (from optuna) (1.21.6)\n",
            "Requirement already satisfied: PyYAML in /usr/local/lib/python3.8/dist-packages (from optuna) (6.0)\n",
            "Requirement already satisfied: importlib-metadata<5.0.0 in /usr/local/lib/python3.8/dist-packages (from optuna) (4.13.0)\n",
            "Requirement already satisfied: tqdm in /usr/local/lib/python3.8/dist-packages (from optuna) (4.64.1)\n",
            "Requirement already satisfied: scipy<1.9.0,>=1.7.0 in /usr/local/lib/python3.8/dist-packages (from optuna) (1.7.3)\n",
            "Requirement already satisfied: alembic>=1.5.0 in /usr/local/lib/python3.8/dist-packages (from optuna) (1.9.0)\n",
            "Requirement already satisfied: sqlalchemy>=1.3.0 in /usr/local/lib/python3.8/dist-packages (from optuna) (1.4.45)\n",
            "Requirement already satisfied: colorlog in /usr/local/lib/python3.8/dist-packages (from optuna) (6.7.0)\n",
            "Requirement already satisfied: Mako in /usr/local/lib/python3.8/dist-packages (from alembic>=1.5.0->optuna) (1.2.4)\n",
            "Requirement already satisfied: importlib-resources in /usr/local/lib/python3.8/dist-packages (from alembic>=1.5.0->optuna) (5.10.1)\n",
            "Requirement already satisfied: zipp>=0.5 in /usr/local/lib/python3.8/dist-packages (from importlib-metadata<5.0.0->optuna) (3.11.0)\n",
            "Requirement already satisfied: pyparsing!=3.0.5,>=2.0.2 in /usr/local/lib/python3.8/dist-packages (from packaging>=20.0->optuna) (3.0.9)\n",
            "Requirement already satisfied: greenlet!=0.4.17 in /usr/local/lib/python3.8/dist-packages (from sqlalchemy>=1.3.0->optuna) (2.0.1)\n",
            "Requirement already satisfied: stevedore>=2.0.1 in /usr/local/lib/python3.8/dist-packages (from cliff->optuna) (4.1.1)\n",
            "Requirement already satisfied: autopage>=0.4.0 in /usr/local/lib/python3.8/dist-packages (from cliff->optuna) (0.5.1)\n",
            "Requirement already satisfied: PrettyTable>=0.7.2 in /usr/local/lib/python3.8/dist-packages (from cliff->optuna) (3.5.0)\n",
            "Requirement already satisfied: cmd2>=1.0.0 in /usr/local/lib/python3.8/dist-packages (from cliff->optuna) (2.4.2)\n",
            "Requirement already satisfied: wcwidth>=0.1.7 in /usr/local/lib/python3.8/dist-packages (from cmd2>=1.0.0->cliff->optuna) (0.2.5)\n",
            "Requirement already satisfied: pyperclip>=1.6 in /usr/local/lib/python3.8/dist-packages (from cmd2>=1.0.0->cliff->optuna) (1.8.2)\n",
            "Requirement already satisfied: attrs>=16.3.0 in /usr/local/lib/python3.8/dist-packages (from cmd2>=1.0.0->cliff->optuna) (22.1.0)\n",
            "Requirement already satisfied: pbr!=2.1.0,>=2.0.0 in /usr/local/lib/python3.8/dist-packages (from stevedore>=2.0.1->cliff->optuna) (5.11.0)\n",
            "Requirement already satisfied: MarkupSafe>=0.9.2 in /usr/local/lib/python3.8/dist-packages (from Mako->alembic>=1.5.0->optuna) (2.0.1)\n"
          ]
        }
      ],
      "source": [
        "!pip install optuna"
      ]
    },
    {
      "cell_type": "code",
      "execution_count": null,
      "metadata": {
        "id": "Q_PqfCrSsLvI"
      },
      "outputs": [],
      "source": [
        "import tensorflow as tf\n",
        "from tensorflow import keras\n",
        "from tensorflow.keras import layers,activations, optimizers, losses, metrics\n",
        "from keras.layers import Input,Dense,BatchNormalization,Dropout,Activation\n",
        "import optuna\n",
        "from tensorflow.keras.optimizers.schedules import ExponentialDecay, PiecewiseConstantDecay, PolynomialDecay, InverseTimeDecay"
      ]
    },
    {
      "cell_type": "code",
      "execution_count": null,
      "metadata": {
        "id": "QI7Nizm_sMdI"
      },
      "outputs": [],
      "source": [
        "tf.random.set_seed(4)\n",
        "histories=[]\n",
        "def optuna_objective(trial: optuna.trial.Trial):\n",
        "    esc = tf.keras.callbacks.EarlyStopping(monitor='val_loss', patience=5)\n",
        "    model = keras.Sequential(\n",
        "        [\n",
        "            layers.Input(input_dim,),\n",
        "            layers.Dense(\n",
        "                units=trial.suggest_int('l1_neurons', 16, 128),\n",
        "                activation=trial.suggest_categorical('l1_activation', ['sigmoid','softplus', 'relu'])\n",
        "            ),\n",
        "            layers.Dropout(rate=trial.suggest_uniform('dr1', 0.1, 0.5)),\n",
        "            layers.Dense(\n",
        "                units=trial.suggest_int('l2_neurons', 4, 64),\n",
        "                activation=trial.suggest_categorical('l2_activation', ['sigmoid','softplus' ,'relu'])\n",
        "            ),\n",
        "            layers.Dropout(rate=trial.suggest_uniform('dr2', 0.1, 0.5)),\n",
        "            layers.Dense(\n",
        "                units=trial.suggest_int('l3_neurons', 4, 64),\n",
        "                activation=trial.suggest_categorical('l3_activation', ['sigmoid','softplus', 'relu'])\n",
        "            ),\n",
        "            layers.Dropout(rate=trial.suggest_uniform('dr3', 0.1, 0.5)),\n",
        "            layers.Dense(\n",
        "                units=trial.suggest_int('l4_neurons', 4, 32),\n",
        "                activation=trial.suggest_categorical('l4_activation', ['sigmoid','softplus', 'relu'])\n",
        "            ),\n",
        "            layers.Dropout(rate=trial.suggest_uniform('dr4', 0.1, 0.5)),\n",
        "            layers.Dense(\n",
        "                units=trial.suggest_int('l5_neurons', 4, 32),\n",
        "                activation=trial.suggest_categorical('l5_activation', ['sigmoid', 'relu'])\n",
        "            ),\n",
        "            layers.Dense(1, activation=activations.sigmoid)\n",
        "            ])\n",
        "    sch = PolynomialDecay(initial_learning_rate=1e-2, decay_steps=EPOCH, end_learning_rate=5e-4)\n",
        "    optimizer = tf.keras.optimizers.Adam(learning_rate=sch)\n",
        "    model.compile(\n",
        "    optimizer,\n",
        "    #optimizer=optimizers.RMSprop(learning_rate=sch),\n",
        "    loss='binary_crossentropy', \n",
        "    #metrics=[keras.metrics.Accuracy,keras.metrics.Recall,keras.metrics.AUC]\n",
        "    metrics=['accuracy','AUC']\n",
        "    )\n",
        "    history = model.fit(train_dataset,\n",
        "                        steps_per_epoch=STEPS_PER_EPOCH,\n",
        "                        validation_steps=VALIDATION_STEPS,\n",
        "                        epochs=EPOCH,\n",
        "                        validation_data=val_dataset, \n",
        "                        verbose=0,\n",
        "                        callbacks=[esc])\n",
        "    histories.append(history.history)\n",
        "    accuracy = history.history['val_accuracy'][-1]\n",
        "    return accuracy"
      ]
    },
    {
      "cell_type": "code",
      "execution_count": null,
      "metadata": {
        "colab": {
          "base_uri": "https://localhost:8080/"
        },
        "id": "ad3RJMSdsyO0",
        "outputId": "1cd8a9f9-e289-4d2c-a255-39281243aebe"
      },
      "outputs": [
        {
          "output_type": "stream",
          "name": "stderr",
          "text": [
            "\u001b[32m[I 2022-12-22 15:20:00,962]\u001b[0m A new study created in memory with name: no-name-f8defdff-0659-4174-8b33-6b9ee062a7d1\u001b[0m\n"
          ]
        }
      ],
      "source": [
        "study = optuna.create_study(direction='maximize')"
      ]
    },
    {
      "cell_type": "code",
      "execution_count": null,
      "metadata": {
        "colab": {
          "base_uri": "https://localhost:8080/"
        },
        "id": "Q10Elqq3s7Qm",
        "outputId": "40ac1094-0c78-4443-c46e-5d78d09a9f96"
      },
      "outputs": [
        {
          "output_type": "stream",
          "name": "stderr",
          "text": [
            "<ipython-input-86-3143b5396a47>:12: FutureWarning: suggest_uniform has been deprecated in v3.0.0. This feature will be removed in v6.0.0. See https://github.com/optuna/optuna/releases/tag/v3.0.0. Use :func:`~optuna.trial.Trial.suggest_float` instead.\n",
            "  layers.Dropout(rate=trial.suggest_uniform('dr1', 0.1, 0.5)),\n",
            "<ipython-input-86-3143b5396a47>:17: FutureWarning: suggest_uniform has been deprecated in v3.0.0. This feature will be removed in v6.0.0. See https://github.com/optuna/optuna/releases/tag/v3.0.0. Use :func:`~optuna.trial.Trial.suggest_float` instead.\n",
            "  layers.Dropout(rate=trial.suggest_uniform('dr2', 0.1, 0.5)),\n",
            "<ipython-input-86-3143b5396a47>:22: FutureWarning: suggest_uniform has been deprecated in v3.0.0. This feature will be removed in v6.0.0. See https://github.com/optuna/optuna/releases/tag/v3.0.0. Use :func:`~optuna.trial.Trial.suggest_float` instead.\n",
            "  layers.Dropout(rate=trial.suggest_uniform('dr3', 0.1, 0.5)),\n",
            "<ipython-input-86-3143b5396a47>:27: FutureWarning: suggest_uniform has been deprecated in v3.0.0. This feature will be removed in v6.0.0. See https://github.com/optuna/optuna/releases/tag/v3.0.0. Use :func:`~optuna.trial.Trial.suggest_float` instead.\n",
            "  layers.Dropout(rate=trial.suggest_uniform('dr4', 0.1, 0.5)),\n",
            "\u001b[32m[I 2022-12-22 15:20:32,442]\u001b[0m Trial 0 finished with value: 0.8880000114440918 and parameters: {'l1_neurons': 84, 'l1_activation': 'relu', 'dr1': 0.43964390804140474, 'l2_neurons': 5, 'l2_activation': 'sigmoid', 'dr2': 0.41975390774706234, 'l3_neurons': 12, 'l3_activation': 'softplus', 'dr3': 0.12589691912741016, 'l4_neurons': 20, 'l4_activation': 'sigmoid', 'dr4': 0.20059499984438267, 'l5_neurons': 10, 'l5_activation': 'sigmoid'}. Best is trial 0 with value: 0.8880000114440918.\u001b[0m\n",
            "\u001b[32m[I 2022-12-22 15:21:07,972]\u001b[0m Trial 1 finished with value: 0.8933333158493042 and parameters: {'l1_neurons': 53, 'l1_activation': 'relu', 'dr1': 0.17320011010661346, 'l2_neurons': 5, 'l2_activation': 'sigmoid', 'dr2': 0.35767591646124497, 'l3_neurons': 22, 'l3_activation': 'relu', 'dr3': 0.31598627102237375, 'l4_neurons': 11, 'l4_activation': 'sigmoid', 'dr4': 0.17038672729990856, 'l5_neurons': 9, 'l5_activation': 'relu'}. Best is trial 1 with value: 0.8933333158493042.\u001b[0m\n",
            "\u001b[32m[I 2022-12-22 15:21:42,859]\u001b[0m Trial 2 finished with value: 0.8853333592414856 and parameters: {'l1_neurons': 111, 'l1_activation': 'softplus', 'dr1': 0.13730303754620643, 'l2_neurons': 6, 'l2_activation': 'softplus', 'dr2': 0.477872489985924, 'l3_neurons': 19, 'l3_activation': 'softplus', 'dr3': 0.13409136222520074, 'l4_neurons': 4, 'l4_activation': 'softplus', 'dr4': 0.12686421414923968, 'l5_neurons': 4, 'l5_activation': 'relu'}. Best is trial 1 with value: 0.8933333158493042.\u001b[0m\n",
            "\u001b[32m[I 2022-12-22 15:24:16,241]\u001b[0m Trial 3 finished with value: 0.9026666879653931 and parameters: {'l1_neurons': 118, 'l1_activation': 'sigmoid', 'dr1': 0.2906392070058582, 'l2_neurons': 46, 'l2_activation': 'relu', 'dr2': 0.22353927054901881, 'l3_neurons': 33, 'l3_activation': 'softplus', 'dr3': 0.3887570760865239, 'l4_neurons': 32, 'l4_activation': 'sigmoid', 'dr4': 0.33382862034037575, 'l5_neurons': 8, 'l5_activation': 'relu'}. Best is trial 3 with value: 0.9026666879653931.\u001b[0m\n",
            "\u001b[32m[I 2022-12-22 15:24:39,438]\u001b[0m Trial 4 finished with value: 0.8799999952316284 and parameters: {'l1_neurons': 60, 'l1_activation': 'sigmoid', 'dr1': 0.299812531274642, 'l2_neurons': 24, 'l2_activation': 'softplus', 'dr2': 0.32335279317102983, 'l3_neurons': 62, 'l3_activation': 'relu', 'dr3': 0.27487415469737475, 'l4_neurons': 27, 'l4_activation': 'relu', 'dr4': 0.20837714454211828, 'l5_neurons': 24, 'l5_activation': 'sigmoid'}. Best is trial 3 with value: 0.9026666879653931.\u001b[0m\n",
            "\u001b[32m[I 2022-12-22 15:25:43,536]\u001b[0m Trial 5 finished with value: 0.8946666717529297 and parameters: {'l1_neurons': 71, 'l1_activation': 'sigmoid', 'dr1': 0.4513434128767916, 'l2_neurons': 64, 'l2_activation': 'softplus', 'dr2': 0.17959034409446017, 'l3_neurons': 47, 'l3_activation': 'softplus', 'dr3': 0.33177835057292115, 'l4_neurons': 14, 'l4_activation': 'sigmoid', 'dr4': 0.1676353414161897, 'l5_neurons': 30, 'l5_activation': 'sigmoid'}. Best is trial 3 with value: 0.9026666879653931.\u001b[0m\n",
            "\u001b[32m[I 2022-12-22 15:26:27,832]\u001b[0m Trial 6 finished with value: 0.862666666507721 and parameters: {'l1_neurons': 35, 'l1_activation': 'sigmoid', 'dr1': 0.20601738578739257, 'l2_neurons': 7, 'l2_activation': 'relu', 'dr2': 0.30244624544472576, 'l3_neurons': 10, 'l3_activation': 'softplus', 'dr3': 0.4219079912751008, 'l4_neurons': 18, 'l4_activation': 'relu', 'dr4': 0.16217579658309167, 'l5_neurons': 31, 'l5_activation': 'sigmoid'}. Best is trial 3 with value: 0.9026666879653931.\u001b[0m\n",
            "\u001b[32m[I 2022-12-22 15:26:34,204]\u001b[0m Trial 7 finished with value: 0.8146666884422302 and parameters: {'l1_neurons': 60, 'l1_activation': 'sigmoid', 'dr1': 0.2626717620186132, 'l2_neurons': 39, 'l2_activation': 'relu', 'dr2': 0.12352571315941044, 'l3_neurons': 9, 'l3_activation': 'relu', 'dr3': 0.42256910103269085, 'l4_neurons': 7, 'l4_activation': 'relu', 'dr4': 0.3417798174414589, 'l5_neurons': 4, 'l5_activation': 'relu'}. Best is trial 3 with value: 0.9026666879653931.\u001b[0m\n",
            "\u001b[32m[I 2022-12-22 15:26:46,666]\u001b[0m Trial 8 finished with value: 0.8773333430290222 and parameters: {'l1_neurons': 107, 'l1_activation': 'softplus', 'dr1': 0.1140674106730006, 'l2_neurons': 22, 'l2_activation': 'sigmoid', 'dr2': 0.456153271681049, 'l3_neurons': 34, 'l3_activation': 'relu', 'dr3': 0.37583938682547524, 'l4_neurons': 25, 'l4_activation': 'softplus', 'dr4': 0.42034316108067227, 'l5_neurons': 30, 'l5_activation': 'relu'}. Best is trial 3 with value: 0.9026666879653931.\u001b[0m\n",
            "\u001b[32m[I 2022-12-22 15:27:12,477]\u001b[0m Trial 9 finished with value: 0.8973333239555359 and parameters: {'l1_neurons': 64, 'l1_activation': 'softplus', 'dr1': 0.12449595285718047, 'l2_neurons': 21, 'l2_activation': 'softplus', 'dr2': 0.11082272670415572, 'l3_neurons': 32, 'l3_activation': 'sigmoid', 'dr3': 0.2020979909096814, 'l4_neurons': 13, 'l4_activation': 'softplus', 'dr4': 0.10567263718360494, 'l5_neurons': 26, 'l5_activation': 'sigmoid'}. Best is trial 3 with value: 0.9026666879653931.\u001b[0m\n",
            "\u001b[32m[I 2022-12-22 15:28:05,352]\u001b[0m Trial 10 finished with value: 0.8973333239555359 and parameters: {'l1_neurons': 128, 'l1_activation': 'sigmoid', 'dr1': 0.3798469061370529, 'l2_neurons': 56, 'l2_activation': 'relu', 'dr2': 0.22056774400595755, 'l3_neurons': 47, 'l3_activation': 'sigmoid', 'dr3': 0.481346949530891, 'l4_neurons': 32, 'l4_activation': 'sigmoid', 'dr4': 0.46214305256511967, 'l5_neurons': 17, 'l5_activation': 'relu'}. Best is trial 3 with value: 0.9026666879653931.\u001b[0m\n",
            "\u001b[32m[I 2022-12-22 15:28:48,895]\u001b[0m Trial 11 finished with value: 0.8973333239555359 and parameters: {'l1_neurons': 89, 'l1_activation': 'softplus', 'dr1': 0.3667280802380336, 'l2_neurons': 44, 'l2_activation': 'softplus', 'dr2': 0.10085585391297952, 'l3_neurons': 34, 'l3_activation': 'sigmoid', 'dr3': 0.2184275827668603, 'l4_neurons': 15, 'l4_activation': 'softplus', 'dr4': 0.2891488842459218, 'l5_neurons': 20, 'l5_activation': 'sigmoid'}. Best is trial 3 with value: 0.9026666879653931.\u001b[0m\n",
            "\u001b[32m[I 2022-12-22 15:29:01,851]\u001b[0m Trial 12 finished with value: 0.874666690826416 and parameters: {'l1_neurons': 19, 'l1_activation': 'softplus', 'dr1': 0.24213282319481455, 'l2_neurons': 28, 'l2_activation': 'relu', 'dr2': 0.22628886797676145, 'l3_neurons': 42, 'l3_activation': 'sigmoid', 'dr3': 0.22365436011665413, 'l4_neurons': 32, 'l4_activation': 'softplus', 'dr4': 0.2983206045070766, 'l5_neurons': 23, 'l5_activation': 'relu'}. Best is trial 3 with value: 0.9026666879653931.\u001b[0m\n",
            "\u001b[32m[I 2022-12-22 15:29:17,202]\u001b[0m Trial 13 finished with value: 0.8799999952316284 and parameters: {'l1_neurons': 97, 'l1_activation': 'softplus', 'dr1': 0.3552719483699582, 'l2_neurons': 49, 'l2_activation': 'softplus', 'dr2': 0.17205106144048296, 'l3_neurons': 26, 'l3_activation': 'sigmoid', 'dr3': 0.18183669926262058, 'l4_neurons': 23, 'l4_activation': 'softplus', 'dr4': 0.3716726581038702, 'l5_neurons': 15, 'l5_activation': 'sigmoid'}. Best is trial 3 with value: 0.9026666879653931.\u001b[0m\n",
            "\u001b[32m[I 2022-12-22 15:29:59,506]\u001b[0m Trial 14 finished with value: 0.8960000276565552 and parameters: {'l1_neurons': 47, 'l1_activation': 'relu', 'dr1': 0.4993307250791054, 'l2_neurons': 17, 'l2_activation': 'relu', 'dr2': 0.24273418182218817, 'l3_neurons': 29, 'l3_activation': 'sigmoid', 'dr3': 0.23097776084484686, 'l4_neurons': 10, 'l4_activation': 'sigmoid', 'dr4': 0.25486050788692816, 'l5_neurons': 26, 'l5_activation': 'relu'}. Best is trial 3 with value: 0.9026666879653931.\u001b[0m\n",
            "\u001b[32m[I 2022-12-22 15:30:38,643]\u001b[0m Trial 15 finished with value: 0.890666663646698 and parameters: {'l1_neurons': 127, 'l1_activation': 'sigmoid', 'dr1': 0.1831974193248457, 'l2_neurons': 34, 'l2_activation': 'relu', 'dr2': 0.15400361637915405, 'l3_neurons': 40, 'l3_activation': 'softplus', 'dr3': 0.4966726849547894, 'l4_neurons': 20, 'l4_activation': 'sigmoid', 'dr4': 0.35772678168229693, 'l5_neurons': 13, 'l5_activation': 'sigmoid'}. Best is trial 3 with value: 0.9026666879653931.\u001b[0m\n",
            "\u001b[32m[I 2022-12-22 15:31:07,945]\u001b[0m Trial 16 finished with value: 0.8920000195503235 and parameters: {'l1_neurons': 84, 'l1_activation': 'softplus', 'dr1': 0.3023220474545103, 'l2_neurons': 16, 'l2_activation': 'softplus', 'dr2': 0.2499472053531835, 'l3_neurons': 60, 'l3_activation': 'sigmoid', 'dr3': 0.27451010505054063, 'l4_neurons': 14, 'l4_activation': 'softplus', 'dr4': 0.10716298101128321, 'l5_neurons': 21, 'l5_activation': 'sigmoid'}. Best is trial 3 with value: 0.9026666879653931.\u001b[0m\n",
            "\u001b[32m[I 2022-12-22 15:32:01,819]\u001b[0m Trial 17 finished with value: 0.8946666717529297 and parameters: {'l1_neurons': 92, 'l1_activation': 'sigmoid', 'dr1': 0.37284602570765524, 'l2_neurons': 44, 'l2_activation': 'softplus', 'dr2': 0.3528104435091504, 'l3_neurons': 53, 'l3_activation': 'softplus', 'dr3': 0.3751600114284541, 'l4_neurons': 29, 'l4_activation': 'sigmoid', 'dr4': 0.2925512722930101, 'l5_neurons': 19, 'l5_activation': 'relu'}. Best is trial 3 with value: 0.9026666879653931.\u001b[0m\n",
            "\u001b[32m[I 2022-12-22 15:32:24,934]\u001b[0m Trial 18 finished with value: 0.890666663646698 and parameters: {'l1_neurons': 112, 'l1_activation': 'softplus', 'dr1': 0.32721138087072255, 'l2_neurons': 53, 'l2_activation': 'relu', 'dr2': 0.10149143964685765, 'l3_neurons': 37, 'l3_activation': 'sigmoid', 'dr3': 0.35551995847485673, 'l4_neurons': 17, 'l4_activation': 'softplus', 'dr4': 0.25777123089147325, 'l5_neurons': 8, 'l5_activation': 'relu'}. Best is trial 3 with value: 0.9026666879653931.\u001b[0m\n",
            "\u001b[32m[I 2022-12-22 15:32:49,543]\u001b[0m Trial 19 finished with value: 0.8880000114440918 and parameters: {'l1_neurons': 69, 'l1_activation': 'relu', 'dr1': 0.10185813840163349, 'l2_neurons': 32, 'l2_activation': 'sigmoid', 'dr2': 0.19775326042153946, 'l3_neurons': 19, 'l3_activation': 'softplus', 'dr3': 0.4170004386997693, 'l4_neurons': 22, 'l4_activation': 'relu', 'dr4': 0.412689371986088, 'l5_neurons': 27, 'l5_activation': 'sigmoid'}. Best is trial 3 with value: 0.9026666879653931.\u001b[0m\n",
            "\u001b[32m[I 2022-12-22 15:33:24,993]\u001b[0m Trial 20 finished with value: 0.8786666393280029 and parameters: {'l1_neurons': 36, 'l1_activation': 'softplus', 'dr1': 0.23777024104756675, 'l2_neurons': 14, 'l2_activation': 'relu', 'dr2': 0.2651519740119763, 'l3_neurons': 29, 'l3_activation': 'softplus', 'dr3': 0.17893074216284294, 'l4_neurons': 11, 'l4_activation': 'softplus', 'dr4': 0.2406934849520146, 'l5_neurons': 13, 'l5_activation': 'sigmoid'}. Best is trial 3 with value: 0.9026666879653931.\u001b[0m\n",
            "\u001b[32m[I 2022-12-22 15:34:12,391]\u001b[0m Trial 21 finished with value: 0.8960000276565552 and parameters: {'l1_neurons': 128, 'l1_activation': 'sigmoid', 'dr1': 0.41322808208583545, 'l2_neurons': 59, 'l2_activation': 'relu', 'dr2': 0.21523876056001873, 'l3_neurons': 46, 'l3_activation': 'sigmoid', 'dr3': 0.4998674681234365, 'l4_neurons': 32, 'l4_activation': 'sigmoid', 'dr4': 0.4392089148146829, 'l5_neurons': 17, 'l5_activation': 'relu'}. Best is trial 3 with value: 0.9026666879653931.\u001b[0m\n",
            "\u001b[32m[I 2022-12-22 15:35:36,136]\u001b[0m Trial 22 finished with value: 0.8999999761581421 and parameters: {'l1_neurons': 121, 'l1_activation': 'sigmoid', 'dr1': 0.3844489071179386, 'l2_neurons': 51, 'l2_activation': 'relu', 'dr2': 0.1487599527777131, 'l3_neurons': 43, 'l3_activation': 'sigmoid', 'dr3': 0.4569784413410886, 'l4_neurons': 30, 'l4_activation': 'sigmoid', 'dr4': 0.4690527310600359, 'l5_neurons': 20, 'l5_activation': 'relu'}. Best is trial 3 with value: 0.9026666879653931.\u001b[0m\n",
            "\u001b[32m[I 2022-12-22 15:36:06,426]\u001b[0m Trial 23 finished with value: 0.8933333158493042 and parameters: {'l1_neurons': 118, 'l1_activation': 'sigmoid', 'dr1': 0.40133021184160517, 'l2_neurons': 53, 'l2_activation': 'relu', 'dr2': 0.1565138471041012, 'l3_neurons': 54, 'l3_activation': 'sigmoid', 'dr3': 0.46056414116648636, 'l4_neurons': 29, 'l4_activation': 'sigmoid', 'dr4': 0.49316970244983677, 'l5_neurons': 17, 'l5_activation': 'relu'}. Best is trial 3 with value: 0.9026666879653931.\u001b[0m\n",
            "\u001b[32m[I 2022-12-22 15:37:06,858]\u001b[0m Trial 24 finished with value: 0.9013333320617676 and parameters: {'l1_neurons': 101, 'l1_activation': 'sigmoid', 'dr1': 0.33952833437646673, 'l2_neurons': 44, 'l2_activation': 'relu', 'dr2': 0.13266321713930787, 'l3_neurons': 37, 'l3_activation': 'sigmoid', 'dr3': 0.45306504189406205, 'l4_neurons': 29, 'l4_activation': 'sigmoid', 'dr4': 0.3222086897411784, 'l5_neurons': 21, 'l5_activation': 'relu'}. Best is trial 3 with value: 0.9026666879653931.\u001b[0m\n",
            "\u001b[32m[I 2022-12-22 15:38:21,452]\u001b[0m Trial 25 finished with value: 0.8986666798591614 and parameters: {'l1_neurons': 102, 'l1_activation': 'sigmoid', 'dr1': 0.32975700391929946, 'l2_neurons': 40, 'l2_activation': 'relu', 'dr2': 0.1356331063935514, 'l3_neurons': 40, 'l3_activation': 'sigmoid', 'dr3': 0.4548322887372862, 'l4_neurons': 29, 'l4_activation': 'sigmoid', 'dr4': 0.33129601967866784, 'l5_neurons': 22, 'l5_activation': 'relu'}. Best is trial 3 with value: 0.9026666879653931.\u001b[0m\n",
            "\u001b[32m[I 2022-12-22 15:38:33,530]\u001b[0m Trial 26 finished with value: 0.871999979019165 and parameters: {'l1_neurons': 118, 'l1_activation': 'sigmoid', 'dr1': 0.28490735582555216, 'l2_neurons': 42, 'l2_activation': 'relu', 'dr2': 0.27263430312452025, 'l3_neurons': 44, 'l3_activation': 'sigmoid', 'dr3': 0.3958464823057771, 'l4_neurons': 26, 'l4_activation': 'sigmoid', 'dr4': 0.39077115574888166, 'l5_neurons': 14, 'l5_activation': 'relu'}. Best is trial 3 with value: 0.9026666879653931.\u001b[0m\n",
            "\u001b[32m[I 2022-12-22 15:39:24,796]\u001b[0m Trial 27 finished with value: 0.8946666717529297 and parameters: {'l1_neurons': 117, 'l1_activation': 'sigmoid', 'dr1': 0.3356280530729651, 'l2_neurons': 49, 'l2_activation': 'relu', 'dr2': 0.1917004867369918, 'l3_neurons': 51, 'l3_activation': 'softplus', 'dr3': 0.45119858437780946, 'l4_neurons': 30, 'l4_activation': 'sigmoid', 'dr4': 0.4962918377203463, 'l5_neurons': 7, 'l5_activation': 'relu'}. Best is trial 3 with value: 0.9026666879653931.\u001b[0m\n",
            "\u001b[32m[I 2022-12-22 15:39:42,326]\u001b[0m Trial 28 finished with value: 0.8733333349227905 and parameters: {'l1_neurons': 100, 'l1_activation': 'sigmoid', 'dr1': 0.4135396032607569, 'l2_neurons': 49, 'l2_activation': 'relu', 'dr2': 0.14179817316308765, 'l3_neurons': 4, 'l3_activation': 'sigmoid', 'dr3': 0.43829635071733414, 'l4_neurons': 24, 'l4_activation': 'sigmoid', 'dr4': 0.32080150534960294, 'l5_neurons': 11, 'l5_activation': 'relu'}. Best is trial 3 with value: 0.9026666879653931.\u001b[0m\n",
            "\u001b[32m[I 2022-12-22 15:40:17,444]\u001b[0m Trial 29 finished with value: 0.8973333239555359 and parameters: {'l1_neurons': 81, 'l1_activation': 'relu', 'dr1': 0.4397134801909488, 'l2_neurons': 61, 'l2_activation': 'sigmoid', 'dr2': 0.16075998192461782, 'l3_neurons': 38, 'l3_activation': 'relu', 'dr3': 0.39289948315614226, 'l4_neurons': 27, 'l4_activation': 'sigmoid', 'dr4': 0.3811739854402359, 'l5_neurons': 24, 'l5_activation': 'relu'}. Best is trial 3 with value: 0.9026666879653931.\u001b[0m\n"
          ]
        }
      ],
      "source": [
        "study.optimize(optuna_objective, n_trials=30)"
      ]
    },
    {
      "cell_type": "code",
      "source": [
        "df = pd.DataFrame(histories[study.best_trial.number])\n",
        "plt.figure(figsize=(18,9))\n",
        "f, axes = plt.subplots(1, 2)\n",
        "\n",
        "ax = sns.lineplot( data=df[['loss', 'val_loss']],ax=axes[0])\n",
        "ax.set_ylim(0)\n",
        "\n",
        "ax = sns.lineplot(data=df[['accuracy', 'val_accuracy']], ax=axes[1])\n",
        "ax.set_ylim(0, 1)"
      ],
      "metadata": {
        "colab": {
          "base_uri": "https://localhost:8080/",
          "height": 307
        },
        "id": "-1pezE7kk3bp",
        "outputId": "9da503c7-9150-436d-a5a1-ce5a61d12c59"
      },
      "execution_count": null,
      "outputs": [
        {
          "output_type": "execute_result",
          "data": {
            "text/plain": [
              "(0.0, 1.0)"
            ]
          },
          "metadata": {},
          "execution_count": 91
        },
        {
          "output_type": "display_data",
          "data": {
            "text/plain": [
              "<Figure size 1296x648 with 0 Axes>"
            ]
          },
          "metadata": {}
        },
        {
          "output_type": "display_data",
          "data": {
            "text/plain": [
              "<Figure size 432x288 with 2 Axes>"
            ],
            "image/png": "[encoded data removed]"
          },
          "metadata": {}
        }
      ]
    },
    {
      "cell_type": "code",
      "source": [
        "study.best_params"
      ],
      "metadata": {
        "colab": {
          "base_uri": "https://localhost:8080/"
        },
        "id": "j5PINysorXcd",
        "outputId": "1513e494-bc3c-4a5f-bb67-4ab2a039c879"
      },
      "execution_count": null,
      "outputs": [
        {
          "output_type": "execute_result",
          "data": {
            "text/plain": [
              "{'l1_neurons': 118,\n",
              " 'l1_activation': 'sigmoid',\n",
              " 'dr1': 0.2906392070058582,\n",
              " 'l2_neurons': 46,\n",
              " 'l2_activation': 'relu',\n",
              " 'dr2': 0.22353927054901881,\n",
              " 'l3_neurons': 33,\n",
              " 'l3_activation': 'softplus',\n",
              " 'dr3': 0.3887570760865239,\n",
              " 'l4_neurons': 32,\n",
              " 'l4_activation': 'sigmoid',\n",
              " 'dr4': 0.33382862034037575,\n",
              " 'l5_neurons': 8,\n",
              " 'l5_activation': 'relu'}"
            ]
          },
          "metadata": {},
          "execution_count": 90
        }
      ]
    },
    {
      "cell_type": "code",
      "source": [
        "inputs = Input((input_dim,))\n",
        "x = Dense(95)(inputs) \n",
        "#x = BatchNormalization()(x)   \n",
        "x = Activation(\"softplus\")(x)\n",
        "x = Dropout(0.27656976092043906)(x)\n",
        "\n",
        "x = Dense(36)(x) \n",
        "#x = BatchNormalization()(x)   \n",
        "x = Activation(\"sigmoid\")(x)\n",
        "x = Dropout(0.2053660696522807)(x)\n",
        "\n",
        "x = Dense(35)(x) \n",
        "#x = BatchNormalization()(x)   \n",
        "x = Activation(\"sigmoid\")(x)\n",
        "x = Dropout(0.1540048276709568)(x)\n",
        "                                 \n",
        "x = Dense(18)(x) \n",
        "#x = BatchNormalization()(x)   \n",
        "x = Activation(\"sigmoid\")(x)\n",
        "x = Dropout(0.10887568955449439)(x)\n",
        "\n",
        "x = Dense(4)(x) \n",
        "#x = BatchNormalization()(x)   \n",
        "x = Activation(\"sigmoid\")(x)\n",
        "outputs = Dense(1, activation='sigmoid')(x)  \n",
        "model =keras.models.Model(inputs, outputs)"
      ],
      "metadata": {
        "id": "aNCVxX-LFBls"
      },
      "execution_count": null,
      "outputs": []
    },
    {
      "cell_type": "code",
      "source": [
        "tf.keras.utils.plot_model(model, show_shapes=True)"
      ],
      "metadata": {
        "colab": {
          "base_uri": "https://localhost:8080/",
          "height": 1000
        },
        "id": "mdrZfpoug3Gz",
        "outputId": "0aaec408-bd71-4fe8-b764-2c0fddb566c6"
      },
      "execution_count": null,
      "outputs": [
        {
          "output_type": "execute_result",
          "data": {
            "image/png": "[encoded data removed]",
            "text/plain": [
              "<IPython.core.display.Image object>"
            ]
          },
          "metadata": {},
          "execution_count": 96
        }
      ]
    },
    {
      "cell_type": "code",
      "source": [
        "esc = tf.keras.callbacks.EarlyStopping(monitor='val_loss', patience=5)\n",
        "sch = PolynomialDecay(initial_learning_rate=1e-2, decay_steps=100, end_learning_rate=5e-4)\n",
        "optimizer = tf.keras.optimizers.Adam(learning_rate=sch)\n",
        "model.compile(\n",
        "  optimizer,\n",
        "      #optimizer=optimizers.RMSprop(learning_rate=sch),\n",
        "  loss='binary_crossentropy', \n",
        "  metrics=['accuracy']\n",
        "  )\n",
        "history = model.fit(train_dataset,\n",
        "                    steps_per_epoch=STEPS_PER_EPOCH,\n",
        "                    validation_steps=VALIDATION_STEPS,\n",
        "                    epochs=100,\n",
        "                    validation_data=test_dataset\n",
        "                    #callbacks=[esc]\n",
        "                    )"
      ],
      "metadata": {
        "colab": {
          "base_uri": "https://localhost:8080/"
        },
        "id": "ljTXPIP7GORA",
        "outputId": "9544b04d-54ec-4e35-ea56-bb52bc10ddb2"
      },
      "execution_count": null,
      "outputs": [
        {
          "output_type": "stream",
          "name": "stdout",
          "text": [
            "Epoch 1/100\n",
            "229/229 [==============================] - 1s 3ms/step - loss: 0.3529 - accuracy: 0.8323 - val_loss: 0.3272 - val_accuracy: 0.8320\n",
            "Epoch 2/100\n",
            "229/229 [==============================] - 1s 3ms/step - loss: 0.3163 - accuracy: 0.8536 - val_loss: 0.3210 - val_accuracy: 0.8653\n",
            "Epoch 3/100\n",
            "229/229 [==============================] - 1s 3ms/step - loss: 0.3096 - accuracy: 0.8601 - val_loss: 0.3157 - val_accuracy: 0.8667\n",
            "Epoch 4/100\n",
            "229/229 [==============================] - 1s 3ms/step - loss: 0.3057 - accuracy: 0.8708 - val_loss: 0.3103 - val_accuracy: 0.8693\n",
            "Epoch 5/100\n",
            "229/229 [==============================] - 1s 3ms/step - loss: 0.3008 - accuracy: 0.8694 - val_loss: 0.3058 - val_accuracy: 0.8693\n",
            "Epoch 6/100\n",
            "229/229 [==============================] - 1s 3ms/step - loss: 0.2992 - accuracy: 0.8724 - val_loss: 0.3014 - val_accuracy: 0.8720\n",
            "Epoch 7/100\n",
            "229/229 [==============================] - 1s 2ms/step - loss: 0.2944 - accuracy: 0.8727 - val_loss: 0.2980 - val_accuracy: 0.8707\n",
            "Epoch 8/100\n",
            "229/229 [==============================] - 1s 2ms/step - loss: 0.2946 - accuracy: 0.8758 - val_loss: 0.2949 - val_accuracy: 0.8733\n",
            "Epoch 9/100\n",
            "229/229 [==============================] - 0s 2ms/step - loss: 0.2887 - accuracy: 0.8786 - val_loss: 0.2917 - val_accuracy: 0.8747\n",
            "Epoch 10/100\n",
            "229/229 [==============================] - 1s 2ms/step - loss: 0.2867 - accuracy: 0.8782 - val_loss: 0.2884 - val_accuracy: 0.8773\n",
            "Epoch 11/100\n",
            "229/229 [==============================] - 1s 2ms/step - loss: 0.2875 - accuracy: 0.8762 - val_loss: 0.2857 - val_accuracy: 0.8787\n",
            "Epoch 12/100\n",
            "229/229 [==============================] - 1s 3ms/step - loss: 0.2810 - accuracy: 0.8843 - val_loss: 0.2847 - val_accuracy: 0.8773\n",
            "Epoch 13/100\n",
            "229/229 [==============================] - 1s 2ms/step - loss: 0.2824 - accuracy: 0.8812 - val_loss: 0.2819 - val_accuracy: 0.8773\n",
            "Epoch 14/100\n",
            "229/229 [==============================] - 1s 3ms/step - loss: 0.2781 - accuracy: 0.8830 - val_loss: 0.2804 - val_accuracy: 0.8773\n",
            "Epoch 15/100\n",
            "229/229 [==============================] - 1s 3ms/step - loss: 0.2778 - accuracy: 0.8857 - val_loss: 0.2787 - val_accuracy: 0.8760\n",
            "Epoch 16/100\n",
            "229/229 [==============================] - 1s 3ms/step - loss: 0.2734 - accuracy: 0.8852 - val_loss: 0.2777 - val_accuracy: 0.8840\n",
            "Epoch 17/100\n",
            "229/229 [==============================] - 1s 2ms/step - loss: 0.2726 - accuracy: 0.8865 - val_loss: 0.2762 - val_accuracy: 0.8880\n",
            "Epoch 18/100\n",
            "229/229 [==============================] - 1s 2ms/step - loss: 0.2734 - accuracy: 0.8849 - val_loss: 0.2752 - val_accuracy: 0.8853\n",
            "Epoch 19/100\n",
            "229/229 [==============================] - 1s 2ms/step - loss: 0.2686 - accuracy: 0.8870 - val_loss: 0.2744 - val_accuracy: 0.8813\n",
            "Epoch 20/100\n",
            "229/229 [==============================] - 1s 2ms/step - loss: 0.2714 - accuracy: 0.8862 - val_loss: 0.2734 - val_accuracy: 0.8880\n",
            "Epoch 21/100\n",
            "229/229 [==============================] - 1s 2ms/step - loss: 0.2706 - accuracy: 0.8860 - val_loss: 0.2714 - val_accuracy: 0.8840\n",
            "Epoch 22/100\n",
            "229/229 [==============================] - 1s 2ms/step - loss: 0.2700 - accuracy: 0.8867 - val_loss: 0.2703 - val_accuracy: 0.8827\n",
            "Epoch 23/100\n",
            "229/229 [==============================] - 1s 3ms/step - loss: 0.2674 - accuracy: 0.8862 - val_loss: 0.2694 - val_accuracy: 0.8827\n",
            "Epoch 24/100\n",
            "229/229 [==============================] - 1s 3ms/step - loss: 0.2674 - accuracy: 0.8874 - val_loss: 0.2700 - val_accuracy: 0.8840\n",
            "Epoch 25/100\n",
            "229/229 [==============================] - 1s 3ms/step - loss: 0.2649 - accuracy: 0.8892 - val_loss: 0.2677 - val_accuracy: 0.8853\n",
            "Epoch 26/100\n",
            "229/229 [==============================] - 1s 2ms/step - loss: 0.2681 - accuracy: 0.8857 - val_loss: 0.2673 - val_accuracy: 0.8840\n",
            "Epoch 27/100\n",
            "229/229 [==============================] - 1s 3ms/step - loss: 0.2671 - accuracy: 0.8876 - val_loss: 0.2668 - val_accuracy: 0.8827\n",
            "Epoch 28/100\n",
            "229/229 [==============================] - 1s 2ms/step - loss: 0.2633 - accuracy: 0.8891 - val_loss: 0.2653 - val_accuracy: 0.8840\n",
            "Epoch 29/100\n",
            "229/229 [==============================] - 1s 2ms/step - loss: 0.2632 - accuracy: 0.8895 - val_loss: 0.2651 - val_accuracy: 0.8853\n",
            "Epoch 30/100\n",
            "229/229 [==============================] - 1s 2ms/step - loss: 0.2652 - accuracy: 0.8864 - val_loss: 0.2636 - val_accuracy: 0.8867\n",
            "Epoch 31/100\n",
            "229/229 [==============================] - 1s 3ms/step - loss: 0.2635 - accuracy: 0.8874 - val_loss: 0.2640 - val_accuracy: 0.8893\n",
            "Epoch 32/100\n",
            "229/229 [==============================] - 1s 3ms/step - loss: 0.2652 - accuracy: 0.8879 - val_loss: 0.2648 - val_accuracy: 0.8827\n",
            "Epoch 33/100\n",
            "229/229 [==============================] - 1s 2ms/step - loss: 0.2641 - accuracy: 0.8884 - val_loss: 0.2628 - val_accuracy: 0.8867\n",
            "Epoch 34/100\n",
            "229/229 [==============================] - 1s 2ms/step - loss: 0.2612 - accuracy: 0.8902 - val_loss: 0.2628 - val_accuracy: 0.8867\n",
            "Epoch 35/100\n",
            "229/229 [==============================] - 1s 2ms/step - loss: 0.2645 - accuracy: 0.8854 - val_loss: 0.2619 - val_accuracy: 0.8867\n",
            "Epoch 36/100\n",
            "229/229 [==============================] - 1s 2ms/step - loss: 0.2614 - accuracy: 0.8884 - val_loss: 0.2616 - val_accuracy: 0.8867\n",
            "Epoch 37/100\n",
            "229/229 [==============================] - 1s 2ms/step - loss: 0.2623 - accuracy: 0.8875 - val_loss: 0.2606 - val_accuracy: 0.8840\n",
            "Epoch 38/100\n",
            "229/229 [==============================] - 1s 2ms/step - loss: 0.2582 - accuracy: 0.8895 - val_loss: 0.2611 - val_accuracy: 0.8867\n",
            "Epoch 39/100\n",
            "229/229 [==============================] - 1s 3ms/step - loss: 0.2573 - accuracy: 0.8884 - val_loss: 0.2599 - val_accuracy: 0.8827\n",
            "Epoch 40/100\n",
            "229/229 [==============================] - 1s 3ms/step - loss: 0.2593 - accuracy: 0.8905 - val_loss: 0.2592 - val_accuracy: 0.8867\n",
            "Epoch 41/100\n",
            "229/229 [==============================] - 1s 3ms/step - loss: 0.2581 - accuracy: 0.8896 - val_loss: 0.2586 - val_accuracy: 0.8840\n",
            "Epoch 42/100\n",
            "229/229 [==============================] - 1s 2ms/step - loss: 0.2609 - accuracy: 0.8894 - val_loss: 0.2585 - val_accuracy: 0.8867\n",
            "Epoch 43/100\n",
            "229/229 [==============================] - 1s 3ms/step - loss: 0.2594 - accuracy: 0.8885 - val_loss: 0.2575 - val_accuracy: 0.8867\n",
            "Epoch 44/100\n",
            "229/229 [==============================] - 1s 3ms/step - loss: 0.2578 - accuracy: 0.8898 - val_loss: 0.2571 - val_accuracy: 0.8880\n",
            "Epoch 45/100\n",
            "229/229 [==============================] - 1s 3ms/step - loss: 0.2607 - accuracy: 0.8885 - val_loss: 0.2563 - val_accuracy: 0.8880\n",
            "Epoch 46/100\n",
            "229/229 [==============================] - 1s 3ms/step - loss: 0.2534 - accuracy: 0.8912 - val_loss: 0.2566 - val_accuracy: 0.8880\n",
            "Epoch 47/100\n",
            "229/229 [==============================] - 1s 3ms/step - loss: 0.2579 - accuracy: 0.8899 - val_loss: 0.2555 - val_accuracy: 0.8893\n",
            "Epoch 48/100\n",
            "229/229 [==============================] - 1s 2ms/step - loss: 0.2557 - accuracy: 0.8906 - val_loss: 0.2548 - val_accuracy: 0.8853\n",
            "Epoch 49/100\n",
            "229/229 [==============================] - 1s 2ms/step - loss: 0.2565 - accuracy: 0.8915 - val_loss: 0.2552 - val_accuracy: 0.8867\n",
            "Epoch 50/100\n",
            "229/229 [==============================] - 1s 3ms/step - loss: 0.2564 - accuracy: 0.8897 - val_loss: 0.2546 - val_accuracy: 0.8893\n",
            "Epoch 51/100\n",
            "229/229 [==============================] - 1s 3ms/step - loss: 0.2605 - accuracy: 0.8894 - val_loss: 0.2547 - val_accuracy: 0.8853\n",
            "Epoch 52/100\n",
            "229/229 [==============================] - 1s 2ms/step - loss: 0.2581 - accuracy: 0.8890 - val_loss: 0.2544 - val_accuracy: 0.8893\n",
            "Epoch 53/100\n",
            "229/229 [==============================] - 1s 2ms/step - loss: 0.2560 - accuracy: 0.8904 - val_loss: 0.2534 - val_accuracy: 0.8920\n",
            "Epoch 54/100\n",
            "229/229 [==============================] - 1s 2ms/step - loss: 0.2563 - accuracy: 0.8902 - val_loss: 0.2532 - val_accuracy: 0.8880\n",
            "Epoch 55/100\n",
            "229/229 [==============================] - 1s 2ms/step - loss: 0.2531 - accuracy: 0.8922 - val_loss: 0.2531 - val_accuracy: 0.8907\n",
            "Epoch 56/100\n",
            "229/229 [==============================] - 1s 3ms/step - loss: 0.2581 - accuracy: 0.8873 - val_loss: 0.2522 - val_accuracy: 0.8920\n",
            "Epoch 57/100\n",
            "229/229 [==============================] - 1s 2ms/step - loss: 0.2523 - accuracy: 0.8925 - val_loss: 0.2518 - val_accuracy: 0.8907\n",
            "Epoch 58/100\n",
            "229/229 [==============================] - 1s 2ms/step - loss: 0.2576 - accuracy: 0.8887 - val_loss: 0.2517 - val_accuracy: 0.8920\n",
            "Epoch 59/100\n",
            "229/229 [==============================] - 1s 3ms/step - loss: 0.2548 - accuracy: 0.8900 - val_loss: 0.2515 - val_accuracy: 0.8907\n",
            "Epoch 60/100\n",
            "229/229 [==============================] - 1s 2ms/step - loss: 0.2520 - accuracy: 0.8897 - val_loss: 0.2518 - val_accuracy: 0.8893\n",
            "Epoch 61/100\n",
            "229/229 [==============================] - 1s 3ms/step - loss: 0.2561 - accuracy: 0.8907 - val_loss: 0.2512 - val_accuracy: 0.8907\n",
            "Epoch 62/100\n",
            "229/229 [==============================] - 1s 3ms/step - loss: 0.2528 - accuracy: 0.8910 - val_loss: 0.2507 - val_accuracy: 0.8920\n",
            "Epoch 63/100\n",
            "229/229 [==============================] - 1s 3ms/step - loss: 0.2520 - accuracy: 0.8890 - val_loss: 0.2511 - val_accuracy: 0.8920\n",
            "Epoch 64/100\n",
            "229/229 [==============================] - 1s 3ms/step - loss: 0.2518 - accuracy: 0.8938 - val_loss: 0.2504 - val_accuracy: 0.8920\n",
            "Epoch 65/100\n",
            "229/229 [==============================] - 1s 3ms/step - loss: 0.2534 - accuracy: 0.8904 - val_loss: 0.2498 - val_accuracy: 0.8933\n",
            "Epoch 66/100\n",
            "229/229 [==============================] - 1s 3ms/step - loss: 0.2539 - accuracy: 0.8923 - val_loss: 0.2495 - val_accuracy: 0.8920\n",
            "Epoch 67/100\n",
            "229/229 [==============================] - 1s 2ms/step - loss: 0.2501 - accuracy: 0.8915 - val_loss: 0.2488 - val_accuracy: 0.8947\n",
            "Epoch 68/100\n",
            "229/229 [==============================] - 1s 2ms/step - loss: 0.2507 - accuracy: 0.8925 - val_loss: 0.2487 - val_accuracy: 0.8920\n",
            "Epoch 69/100\n",
            "229/229 [==============================] - 1s 3ms/step - loss: 0.2529 - accuracy: 0.8921 - val_loss: 0.2487 - val_accuracy: 0.8933\n",
            "Epoch 70/100\n",
            "229/229 [==============================] - 1s 3ms/step - loss: 0.2528 - accuracy: 0.8913 - val_loss: 0.2483 - val_accuracy: 0.8947\n",
            "Epoch 71/100\n",
            "229/229 [==============================] - 1s 3ms/step - loss: 0.2527 - accuracy: 0.8918 - val_loss: 0.2481 - val_accuracy: 0.8947\n",
            "Epoch 72/100\n",
            "229/229 [==============================] - 1s 3ms/step - loss: 0.2481 - accuracy: 0.8937 - val_loss: 0.2477 - val_accuracy: 0.8960\n",
            "Epoch 73/100\n",
            "229/229 [==============================] - 1s 3ms/step - loss: 0.2524 - accuracy: 0.8915 - val_loss: 0.2473 - val_accuracy: 0.8947\n",
            "Epoch 74/100\n",
            "229/229 [==============================] - 1s 2ms/step - loss: 0.2481 - accuracy: 0.8935 - val_loss: 0.2476 - val_accuracy: 0.8933\n",
            "Epoch 75/100\n",
            "229/229 [==============================] - 1s 2ms/step - loss: 0.2535 - accuracy: 0.8924 - val_loss: 0.2472 - val_accuracy: 0.8933\n",
            "Epoch 76/100\n",
            "229/229 [==============================] - 1s 2ms/step - loss: 0.2516 - accuracy: 0.8901 - val_loss: 0.2470 - val_accuracy: 0.8933\n",
            "Epoch 77/100\n",
            "229/229 [==============================] - 1s 2ms/step - loss: 0.2489 - accuracy: 0.8949 - val_loss: 0.2483 - val_accuracy: 0.8960\n",
            "Epoch 78/100\n",
            "229/229 [==============================] - 1s 2ms/step - loss: 0.2503 - accuracy: 0.8935 - val_loss: 0.2459 - val_accuracy: 0.8947\n",
            "Epoch 79/100\n",
            "229/229 [==============================] - 1s 2ms/step - loss: 0.2480 - accuracy: 0.8944 - val_loss: 0.2460 - val_accuracy: 0.8947\n",
            "Epoch 80/100\n",
            "229/229 [==============================] - 1s 2ms/step - loss: 0.2540 - accuracy: 0.8894 - val_loss: 0.2452 - val_accuracy: 0.8960\n",
            "Epoch 81/100\n",
            "229/229 [==============================] - 1s 2ms/step - loss: 0.2480 - accuracy: 0.8948 - val_loss: 0.2456 - val_accuracy: 0.8947\n",
            "Epoch 82/100\n",
            "229/229 [==============================] - 1s 2ms/step - loss: 0.2508 - accuracy: 0.8909 - val_loss: 0.2457 - val_accuracy: 0.8933\n",
            "Epoch 83/100\n",
            "229/229 [==============================] - 1s 2ms/step - loss: 0.2476 - accuracy: 0.8939 - val_loss: 0.2457 - val_accuracy: 0.8947\n",
            "Epoch 84/100\n",
            "229/229 [==============================] - 1s 2ms/step - loss: 0.2486 - accuracy: 0.8939 - val_loss: 0.2450 - val_accuracy: 0.8960\n",
            "Epoch 85/100\n",
            "229/229 [==============================] - 1s 2ms/step - loss: 0.2478 - accuracy: 0.8916 - val_loss: 0.2450 - val_accuracy: 0.8960\n",
            "Epoch 86/100\n",
            "229/229 [==============================] - 1s 2ms/step - loss: 0.2467 - accuracy: 0.8959 - val_loss: 0.2447 - val_accuracy: 0.8973\n",
            "Epoch 87/100\n",
            "229/229 [==============================] - 1s 2ms/step - loss: 0.2493 - accuracy: 0.8947 - val_loss: 0.2447 - val_accuracy: 0.8947\n",
            "Epoch 88/100\n",
            "229/229 [==============================] - 1s 3ms/step - loss: 0.2475 - accuracy: 0.8947 - val_loss: 0.2442 - val_accuracy: 0.8960\n",
            "Epoch 89/100\n",
            "229/229 [==============================] - 1s 3ms/step - loss: 0.2473 - accuracy: 0.8942 - val_loss: 0.2447 - val_accuracy: 0.8947\n",
            "Epoch 90/100\n",
            "229/229 [==============================] - 1s 2ms/step - loss: 0.2489 - accuracy: 0.8933 - val_loss: 0.2440 - val_accuracy: 0.8947\n",
            "Epoch 91/100\n",
            "229/229 [==============================] - 1s 3ms/step - loss: 0.2473 - accuracy: 0.8923 - val_loss: 0.2443 - val_accuracy: 0.8933\n",
            "Epoch 92/100\n",
            "229/229 [==============================] - 1s 2ms/step - loss: 0.2476 - accuracy: 0.8945 - val_loss: 0.2433 - val_accuracy: 0.8947\n",
            "Epoch 93/100\n",
            "229/229 [==============================] - 1s 3ms/step - loss: 0.2478 - accuracy: 0.8940 - val_loss: 0.2438 - val_accuracy: 0.8960\n",
            "Epoch 94/100\n",
            "229/229 [==============================] - 1s 2ms/step - loss: 0.2463 - accuracy: 0.8935 - val_loss: 0.2437 - val_accuracy: 0.8933\n",
            "Epoch 95/100\n",
            "229/229 [==============================] - 1s 2ms/step - loss: 0.2456 - accuracy: 0.8963 - val_loss: 0.2445 - val_accuracy: 0.8907\n",
            "Epoch 96/100\n",
            "229/229 [==============================] - 1s 2ms/step - loss: 0.2434 - accuracy: 0.8944 - val_loss: 0.2440 - val_accuracy: 0.8947\n",
            "Epoch 97/100\n",
            "229/229 [==============================] - 1s 2ms/step - loss: 0.2486 - accuracy: 0.8928 - val_loss: 0.2424 - val_accuracy: 0.8960\n",
            "Epoch 98/100\n",
            "229/229 [==============================] - 1s 3ms/step - loss: 0.2476 - accuracy: 0.8930 - val_loss: 0.2434 - val_accuracy: 0.8973\n",
            "Epoch 99/100\n",
            "229/229 [==============================] - 1s 2ms/step - loss: 0.2439 - accuracy: 0.8964 - val_loss: 0.2421 - val_accuracy: 0.8960\n",
            "Epoch 100/100\n",
            "229/229 [==============================] - 1s 3ms/step - loss: 0.2490 - accuracy: 0.8931 - val_loss: 0.2416 - val_accuracy: 0.8973\n"
          ]
        }
      ]
    },
    {
      "cell_type": "code",
      "source": [
        "df = pd.DataFrame(history.history)\n",
        "plt.figure(figsize=(18,9))\n",
        "f, axes = plt.subplots(1, 2)\n",
        "\n",
        "ax = sns.lineplot( data=df[['loss', 'val_loss']],ax=axes[0])\n",
        "ax.set_ylim(0)\n",
        "\n",
        "ax = sns.lineplot(data=df[['accuracy', 'val_accuracy']], ax=axes[1])\n",
        "ax.set_ylim(0, 1)"
      ],
      "metadata": {
        "colab": {
          "base_uri": "https://localhost:8080/",
          "height": 307
        },
        "id": "ko47hFC6nnYs",
        "outputId": "1a1b004c-7945-414a-d372-9657c79dff09"
      },
      "execution_count": null,
      "outputs": [
        {
          "output_type": "execute_result",
          "data": {
            "text/plain": [
              "(0.0, 1.0)"
            ]
          },
          "metadata": {},
          "execution_count": 105
        },
        {
          "output_type": "display_data",
          "data": {
            "text/plain": [
              "<Figure size 1296x648 with 0 Axes>"
            ]
          },
          "metadata": {}
        },
        {
          "output_type": "display_data",
          "data": {
            "text/plain": [
              "<Figure size 432x288 with 2 Axes>"
            ],
            "image/png": "[encoded data removed]"
          },
          "metadata": {}
        }
      ]
    },
    {
      "cell_type": "code",
      "source": [
        "y_pred_keras=model.predict(X_test_std)"
      ],
      "metadata": {
        "colab": {
          "base_uri": "https://localhost:8080/"
        },
        "id": "luCckbYrx5rn",
        "outputId": "1de2eb6b-1245-41ec-9250-87194e0dfb2e"
      },
      "execution_count": null,
      "outputs": [
        {
          "output_type": "stream",
          "name": "stdout",
          "text": [
            "120/120 [==============================] - 0s 1ms/step\n"
          ]
        }
      ]
    },
    {
      "cell_type": "code",
      "source": [
        "y_pred_keras=list(map(lambda x: round(x), y_pred_keras.reshape(-1)))\n"
      ],
      "metadata": {
        "id": "7tZtCdfL30-n"
      },
      "execution_count": null,
      "outputs": []
    },
    {
      "cell_type": "code",
      "source": [
        "CM=confusion_matrix(y_test,y_pred_keras)\n",
        "TN = CM[0][0]\n",
        "FN = CM[1][0]\n",
        "TP = CM[1][1]\n",
        "FP = CM[0][1]\n",
        "\n",
        "\n",
        "# Sensitivity, hit rate, recall, or true positive rate\n",
        "TPR = TP/(TP+FN)\n",
        "# Specificity or true negative rate\n",
        "TNR = TN/(TN+FP) \n",
        "# Precision or positive predictive value\n",
        "PPV = TP/(TP+FP)\n",
        "# Negative predictive value\n",
        "NPV = TN/(TN+FN)\n",
        "# Fall out or false positive rate\n",
        "FPR = FP/(FP+TN)\n",
        "# False negative rate\n",
        "FNR = FN/(TP+FN)\n",
        "# False discovery rate\n",
        "FDR = FP/(TP+FP)\n",
        "\n",
        "# Overall accuracy\n",
        "ACC = (TP+TN)/(TP+FP+FN+TN)\n",
        "print('f1',f1_score(y_test,y_pred_keras,average='macro'))\n",
        "print('TPR',TPR)\n",
        "print('TNR',TNR)"
      ],
      "metadata": {
        "colab": {
          "base_uri": "https://localhost:8080/"
        },
        "id": "x4I43bj3gZwf",
        "outputId": "bf83c6d4-acb9-401f-def7-6d7d39ea8de5"
      },
      "execution_count": null,
      "outputs": [
        {
          "output_type": "stream",
          "name": "stdout",
          "text": [
            "f1 0.8228318233679088\n",
            "TPR 0.6435185185185185\n",
            "TNR 0.960605105578317\n"
          ]
        }
      ]
    },
    {
      "cell_type": "markdown",
      "source": [
        "#Imbalanced learning"
      ],
      "metadata": {
        "id": "zW48EiuZ8iIz"
      }
    },
    {
      "cell_type": "code",
      "source": [
        "from imblearn.over_sampling import RandomOverSampler\n",
        "from imblearn.under_sampling import RandomUnderSampler\n",
        "from collections import Counter"
      ],
      "metadata": {
        "id": "uOql1g0fq_0_"
      },
      "execution_count": null,
      "outputs": []
    },
    {
      "cell_type": "markdown",
      "source": [
        "##Oversampling"
      ],
      "metadata": {
        "id": "RDu2nMfx81LL"
      }
    },
    {
      "cell_type": "markdown",
      "source": [],
      "metadata": {
        "id": "2d1ky3OR8uYO"
      }
    },
    {
      "cell_type": "code",
      "source": [
        "oversample =RandomOverSampler(sampling_strategy=0.25)"
      ],
      "metadata": {
        "id": "4QmGoPrTSAAF"
      },
      "execution_count": null,
      "outputs": []
    },
    {
      "cell_type": "code",
      "source": [
        "X_over, y_over = oversample.fit_resample(X_dropped, y)"
      ],
      "metadata": {
        "id": "gsDONA-1SAfn"
      },
      "execution_count": null,
      "outputs": []
    },
    {
      "cell_type": "code",
      "source": [
        "print(Counter(y))"
      ],
      "metadata": {
        "colab": {
          "base_uri": "https://localhost:8080/"
        },
        "id": "71ubfmJftRxI",
        "outputId": "35d0dcc8-a2ff-40ab-c9ad-66ba1066b20e"
      },
      "execution_count": null,
      "outputs": [
        {
          "output_type": "stream",
          "name": "stdout",
          "text": [
            "Counter({0: 15847, 1: 3258})\n"
          ]
        }
      ]
    },
    {
      "cell_type": "code",
      "source": [
        "print(Counter(y_over))"
      ],
      "metadata": {
        "colab": {
          "base_uri": "https://localhost:8080/"
        },
        "id": "YYNRLIeep1p7",
        "outputId": "3289bbd6-811b-427d-e82c-b91505014a61"
      },
      "execution_count": null,
      "outputs": [
        {
          "output_type": "stream",
          "name": "stdout",
          "text": [
            "Counter({0: 15847, 1: 3961})\n"
          ]
        }
      ]
    },
    {
      "cell_type": "code",
      "source": [
        "X_train_over, X_test_val_over, y_train_over, y_test_val_over = train_test_split(X_over, y_over, test_size = 0.4, random_state = 0)\n",
        "X_val_over, X_test_over, y_val_over, y_test_over= train_test_split(X_test_val_over, y_test_val_over, test_size = 0.5, random_state = 0)\n",
        "sc = StandardScaler()\n",
        "sc.fit(X_train_over)\n",
        "X_train_std_over = sc.transform(X_train_over)\n",
        "X_val_std_over = sc.transform(X_val_over)\n",
        "X_test_std_over = sc.transform(X_test_over)"
      ],
      "metadata": {
        "id": "zmPlmdhmBb2r"
      },
      "execution_count": null,
      "outputs": []
    },
    {
      "cell_type": "code",
      "source": [
        "train_over = tf.data.Dataset.from_tensor_slices((X_train_std_over, y_train_over))\n",
        "val_over = tf.data.Dataset.from_tensor_slices((X_val_std_over, y_val_over))\n",
        "test_over = tf.data.Dataset.from_tensor_slices((X_test_std_over, y_test_over))"
      ],
      "metadata": {
        "id": "WlO_hHDIF3kl"
      },
      "execution_count": null,
      "outputs": []
    },
    {
      "cell_type": "code",
      "source": [
        "val_size_over=len(list(val_over)) \n",
        "train_size_over=len(list(train_over))\n",
        "VALIDATION_STEPS_OVER = val_size_over//BATCH_SIZE//VAL_SUBSPLITS\n",
        "STEPS_PER_EPOCH_OVER = train_size_over // BATCH_SIZE"
      ],
      "metadata": {
        "id": "rWfS0U5xREXV"
      },
      "execution_count": null,
      "outputs": []
    },
    {
      "cell_type": "code",
      "source": [
        "train_dataset_over = train_over.shuffle(BUFFER_SIZE).cache().batch(BATCH_SIZE).repeat()\n",
        "train_dataset_over = train_dataset_over.prefetch(buffer_size=tf.data.experimental.AUTOTUNE)\n",
        "test_dataset_over = test_over.batch(BATCH_SIZE)\n",
        "val_dataset_over = val_over.batch(BATCH_SIZE)\n",
        "shape=train_dataset.element_spec[0].shape"
      ],
      "metadata": {
        "id": "mVFQQntm5NJU"
      },
      "execution_count": null,
      "outputs": []
    },
    {
      "cell_type": "markdown",
      "source": [
        "###Keras ROS"
      ],
      "metadata": {
        "id": "kjDFM-LL86Du"
      }
    },
    {
      "cell_type": "code",
      "source": [
        "tf.random.set_seed(4)\n",
        "histories_over=[]\n",
        "def optuna_objective_over(trial: optuna.trial.Trial):\n",
        "    esc = tf.keras.callbacks.EarlyStopping(monitor='val_loss', patience=5)\n",
        "    model = keras.Sequential(\n",
        "        [\n",
        "            layers.Input(input_dim,),\n",
        "            layers.Dense(\n",
        "                units=trial.suggest_int('l1_neurons', 16, 128),\n",
        "                activation=trial.suggest_categorical('l1_activation', ['sigmoid','softplus', 'relu'])\n",
        "            ),\n",
        "            layers.Dropout(rate=trial.suggest_uniform('dr1', 0.1, 0.5)),\n",
        "            layers.Dense(\n",
        "                units=trial.suggest_int('l2_neurons', 4, 64),\n",
        "                activation=trial.suggest_categorical('l2_activation', ['sigmoid','softplus' ,'relu'])\n",
        "            ),\n",
        "            layers.Dropout(rate=trial.suggest_uniform('dr2', 0.1, 0.5)),\n",
        "            layers.Dense(\n",
        "                units=trial.suggest_int('l3_neurons', 4, 64),\n",
        "                activation=trial.suggest_categorical('l3_activation', ['sigmoid','softplus', 'relu'])\n",
        "            ),\n",
        "            layers.Dropout(rate=trial.suggest_uniform('dr3', 0.1, 0.5)),\n",
        "            layers.Dense(\n",
        "                units=trial.suggest_int('l4_neurons', 4, 32),\n",
        "                activation=trial.suggest_categorical('l4_activation', ['sigmoid','softplus', 'relu'])\n",
        "            ),\n",
        "            layers.Dropout(rate=trial.suggest_uniform('dr4', 0.1, 0.5)),\n",
        "            layers.Dense(\n",
        "                units=trial.suggest_int('l5_neurons', 4, 32),\n",
        "                activation=trial.suggest_categorical('l5_activation', ['sigmoid', 'relu'])\n",
        "            ),\n",
        "            layers.Dense(1, activation=activations.sigmoid)\n",
        "            ])\n",
        "    sch = PolynomialDecay(initial_learning_rate=1e-2, decay_steps=EPOCH, end_learning_rate=5e-4)\n",
        "    optimizer = tf.keras.optimizers.Adam(learning_rate=sch)\n",
        "    model.compile(\n",
        "    optimizer,\n",
        "    #optimizer=optimizers.RMSprop(learning_rate=sch),\n",
        "    loss='binary_crossentropy', \n",
        "    #metrics=[keras.metrics.Accuracy,keras.metrics.Recall,keras.metrics.AUC]\n",
        "    metrics=['accuracy','AUC']\n",
        "    )\n",
        "    history = model.fit(train_dataset_over,\n",
        "                        steps_per_epoch=STEPS_PER_EPOCH,\n",
        "                        validation_steps=VALIDATION_STEPS,\n",
        "                        epochs=EPOCH,\n",
        "                        validation_data=val_dataset_over, \n",
        "                        verbose=0,\n",
        "                        callbacks=[esc])\n",
        "    histories_over.append(history.history)\n",
        "    accuracy = history.history['val_accuracy'][-1]\n",
        "    return accuracy"
      ],
      "metadata": {
        "id": "hdx54u-f5ntG"
      },
      "execution_count": null,
      "outputs": []
    },
    {
      "cell_type": "code",
      "source": [
        "study_over = optuna.create_study(direction='maximize')"
      ],
      "metadata": {
        "colab": {
          "base_uri": "https://localhost:8080/"
        },
        "id": "h4TPFlWj8X9A",
        "outputId": "eb05a591-7fef-4296-a579-202b791eda0f"
      },
      "execution_count": null,
      "outputs": [
        {
          "output_type": "stream",
          "name": "stderr",
          "text": [
            "\u001b[32m[I 2022-12-21 13:04:22,243]\u001b[0m A new study created in memory with name: no-name-50a1bf31-482a-4d75-9a45-958abe0f5cbc\u001b[0m\n"
          ]
        }
      ]
    },
    {
      "cell_type": "code",
      "source": [
        "study_over.optimize(optuna_objective_over, n_trials=30)"
      ],
      "metadata": {
        "colab": {
          "base_uri": "https://localhost:8080/"
        },
        "id": "9ITcy31n9O1R",
        "outputId": "e9fc4de7-cab2-456e-ec97-dbe972c5ecf2"
      },
      "execution_count": null,
      "outputs": [
        {
          "output_type": "stream",
          "name": "stderr",
          "text": [
            "<ipython-input-189-3dd8e1601522>:12: FutureWarning: suggest_uniform has been deprecated in v3.0.0. This feature will be removed in v6.0.0. See https://github.com/optuna/optuna/releases/tag/v3.0.0. Use :func:`~optuna.trial.Trial.suggest_float` instead.\n",
            "  layers.Dropout(rate=trial.suggest_uniform('dr1', 0.1, 0.5)),\n",
            "<ipython-input-189-3dd8e1601522>:17: FutureWarning: suggest_uniform has been deprecated in v3.0.0. This feature will be removed in v6.0.0. See https://github.com/optuna/optuna/releases/tag/v3.0.0. Use :func:`~optuna.trial.Trial.suggest_float` instead.\n",
            "  layers.Dropout(rate=trial.suggest_uniform('dr2', 0.1, 0.5)),\n",
            "<ipython-input-189-3dd8e1601522>:22: FutureWarning: suggest_uniform has been deprecated in v3.0.0. This feature will be removed in v6.0.0. See https://github.com/optuna/optuna/releases/tag/v3.0.0. Use :func:`~optuna.trial.Trial.suggest_float` instead.\n",
            "  layers.Dropout(rate=trial.suggest_uniform('dr3', 0.1, 0.5)),\n",
            "<ipython-input-189-3dd8e1601522>:27: FutureWarning: suggest_uniform has been deprecated in v3.0.0. This feature will be removed in v6.0.0. See https://github.com/optuna/optuna/releases/tag/v3.0.0. Use :func:`~optuna.trial.Trial.suggest_float` instead.\n",
            "  layers.Dropout(rate=trial.suggest_uniform('dr4', 0.1, 0.5)),\n",
            "\u001b[32m[I 2022-12-21 13:04:44,130]\u001b[0m Trial 0 finished with value: 0.8880000114440918 and parameters: {'l1_neurons': 62, 'l1_activation': 'softplus', 'dr1': 0.1857247863981627, 'l2_neurons': 14, 'l2_activation': 'relu', 'dr2': 0.17891936350249665, 'l3_neurons': 6, 'l3_activation': 'relu', 'dr3': 0.4418424877080508, 'l4_neurons': 10, 'l4_activation': 'softplus', 'dr4': 0.13737696729377144, 'l5_neurons': 5, 'l5_activation': 'sigmoid'}. Best is trial 0 with value: 0.8880000114440918.\u001b[0m\n",
            "\u001b[32m[I 2022-12-21 13:05:02,461]\u001b[0m Trial 1 finished with value: 0.8853333592414856 and parameters: {'l1_neurons': 36, 'l1_activation': 'softplus', 'dr1': 0.1649939275841239, 'l2_neurons': 59, 'l2_activation': 'relu', 'dr2': 0.1392989001540626, 'l3_neurons': 40, 'l3_activation': 'sigmoid', 'dr3': 0.37095301548873894, 'l4_neurons': 8, 'l4_activation': 'softplus', 'dr4': 0.20056805323941848, 'l5_neurons': 24, 'l5_activation': 'sigmoid'}. Best is trial 0 with value: 0.8880000114440918.\u001b[0m\n",
            "\u001b[32m[I 2022-12-21 13:05:37,701]\u001b[0m Trial 2 finished with value: 0.890666663646698 and parameters: {'l1_neurons': 48, 'l1_activation': 'relu', 'dr1': 0.4974859622943405, 'l2_neurons': 51, 'l2_activation': 'sigmoid', 'dr2': 0.2723210947531397, 'l3_neurons': 60, 'l3_activation': 'sigmoid', 'dr3': 0.49378028526503526, 'l4_neurons': 28, 'l4_activation': 'relu', 'dr4': 0.45621043489991064, 'l5_neurons': 32, 'l5_activation': 'sigmoid'}. Best is trial 2 with value: 0.890666663646698.\u001b[0m\n",
            "\u001b[32m[I 2022-12-21 13:06:06,397]\u001b[0m Trial 3 finished with value: 0.8826666474342346 and parameters: {'l1_neurons': 103, 'l1_activation': 'sigmoid', 'dr1': 0.1613479094203985, 'l2_neurons': 28, 'l2_activation': 'softplus', 'dr2': 0.49176682859887266, 'l3_neurons': 48, 'l3_activation': 'sigmoid', 'dr3': 0.48767589938035893, 'l4_neurons': 26, 'l4_activation': 'softplus', 'dr4': 0.4702460182003836, 'l5_neurons': 15, 'l5_activation': 'sigmoid'}. Best is trial 2 with value: 0.890666663646698.\u001b[0m\n",
            "\u001b[32m[I 2022-12-21 13:06:25,072]\u001b[0m Trial 4 finished with value: 0.8853333592414856 and parameters: {'l1_neurons': 18, 'l1_activation': 'softplus', 'dr1': 0.22515371242028326, 'l2_neurons': 51, 'l2_activation': 'sigmoid', 'dr2': 0.4730838911043762, 'l3_neurons': 53, 'l3_activation': 'sigmoid', 'dr3': 0.4081058594521333, 'l4_neurons': 4, 'l4_activation': 'relu', 'dr4': 0.32993831656550254, 'l5_neurons': 17, 'l5_activation': 'sigmoid'}. Best is trial 2 with value: 0.890666663646698.\u001b[0m\n",
            "\u001b[32m[I 2022-12-21 13:06:31,867]\u001b[0m Trial 5 finished with value: 0.8173333406448364 and parameters: {'l1_neurons': 107, 'l1_activation': 'relu', 'dr1': 0.3576455820093879, 'l2_neurons': 50, 'l2_activation': 'softplus', 'dr2': 0.33306347935771613, 'l3_neurons': 54, 'l3_activation': 'softplus', 'dr3': 0.12353761507339654, 'l4_neurons': 30, 'l4_activation': 'sigmoid', 'dr4': 0.40753912923357205, 'l5_neurons': 6, 'l5_activation': 'sigmoid'}. Best is trial 2 with value: 0.890666663646698.\u001b[0m\n",
            "\u001b[32m[I 2022-12-21 13:06:57,698]\u001b[0m Trial 6 finished with value: 0.8866666555404663 and parameters: {'l1_neurons': 120, 'l1_activation': 'relu', 'dr1': 0.4726318031665332, 'l2_neurons': 43, 'l2_activation': 'sigmoid', 'dr2': 0.29199929797525837, 'l3_neurons': 56, 'l3_activation': 'relu', 'dr3': 0.38638056865984793, 'l4_neurons': 6, 'l4_activation': 'sigmoid', 'dr4': 0.20279831537145948, 'l5_neurons': 9, 'l5_activation': 'sigmoid'}. Best is trial 2 with value: 0.890666663646698.\u001b[0m\n",
            "\u001b[32m[I 2022-12-21 13:07:25,559]\u001b[0m Trial 7 finished with value: 0.8880000114440918 and parameters: {'l1_neurons': 99, 'l1_activation': 'softplus', 'dr1': 0.1445701574023282, 'l2_neurons': 29, 'l2_activation': 'softplus', 'dr2': 0.4892196685631268, 'l3_neurons': 4, 'l3_activation': 'sigmoid', 'dr3': 0.4589007626945123, 'l4_neurons': 20, 'l4_activation': 'relu', 'dr4': 0.40983730195420354, 'l5_neurons': 6, 'l5_activation': 'sigmoid'}. Best is trial 2 with value: 0.890666663646698.\u001b[0m\n",
            "\u001b[32m[I 2022-12-21 13:07:55,427]\u001b[0m Trial 8 finished with value: 0.8840000033378601 and parameters: {'l1_neurons': 122, 'l1_activation': 'softplus', 'dr1': 0.45508310318657885, 'l2_neurons': 12, 'l2_activation': 'relu', 'dr2': 0.37045115177272503, 'l3_neurons': 32, 'l3_activation': 'sigmoid', 'dr3': 0.2479082991615226, 'l4_neurons': 15, 'l4_activation': 'sigmoid', 'dr4': 0.2320935544185299, 'l5_neurons': 8, 'l5_activation': 'sigmoid'}. Best is trial 2 with value: 0.890666663646698.\u001b[0m\n",
            "\u001b[32m[I 2022-12-21 13:08:08,514]\u001b[0m Trial 9 finished with value: 0.8826666474342346 and parameters: {'l1_neurons': 72, 'l1_activation': 'softplus', 'dr1': 0.23622984262558389, 'l2_neurons': 47, 'l2_activation': 'relu', 'dr2': 0.20638352935030888, 'l3_neurons': 36, 'l3_activation': 'relu', 'dr3': 0.3538917829582642, 'l4_neurons': 19, 'l4_activation': 'sigmoid', 'dr4': 0.24455347332807584, 'l5_neurons': 24, 'l5_activation': 'sigmoid'}. Best is trial 2 with value: 0.890666663646698.\u001b[0m\n",
            "\u001b[32m[I 2022-12-21 13:08:15,035]\u001b[0m Trial 10 finished with value: 0.890666663646698 and parameters: {'l1_neurons': 49, 'l1_activation': 'relu', 'dr1': 0.3661176950615182, 'l2_neurons': 64, 'l2_activation': 'sigmoid', 'dr2': 0.25624110482415474, 'l3_neurons': 64, 'l3_activation': 'softplus', 'dr3': 0.2599280814716302, 'l4_neurons': 32, 'l4_activation': 'relu', 'dr4': 0.49749238093082865, 'l5_neurons': 32, 'l5_activation': 'relu'}. Best is trial 2 with value: 0.890666663646698.\u001b[0m\n",
            "\u001b[32m[I 2022-12-21 13:08:22,573]\u001b[0m Trial 11 finished with value: 0.8880000114440918 and parameters: {'l1_neurons': 50, 'l1_activation': 'relu', 'dr1': 0.36285404002153654, 'l2_neurons': 64, 'l2_activation': 'sigmoid', 'dr2': 0.2537119583719148, 'l3_neurons': 64, 'l3_activation': 'softplus', 'dr3': 0.25268714431555833, 'l4_neurons': 31, 'l4_activation': 'relu', 'dr4': 0.48494568253069914, 'l5_neurons': 32, 'l5_activation': 'relu'}. Best is trial 2 with value: 0.890666663646698.\u001b[0m\n",
            "\u001b[32m[I 2022-12-21 13:08:31,367]\u001b[0m Trial 12 finished with value: 0.8880000114440918 and parameters: {'l1_neurons': 40, 'l1_activation': 'relu', 'dr1': 0.39195765902974156, 'l2_neurons': 59, 'l2_activation': 'sigmoid', 'dr2': 0.3805262362644945, 'l3_neurons': 63, 'l3_activation': 'softplus', 'dr3': 0.193053030402406, 'l4_neurons': 27, 'l4_activation': 'relu', 'dr4': 0.38396954884133794, 'l5_neurons': 32, 'l5_activation': 'relu'}. Best is trial 2 with value: 0.890666663646698.\u001b[0m\n",
            "\u001b[32m[I 2022-12-21 13:08:44,576]\u001b[0m Trial 13 finished with value: 0.8866666555404663 and parameters: {'l1_neurons': 20, 'l1_activation': 'relu', 'dr1': 0.3006374104925186, 'l2_neurons': 38, 'l2_activation': 'sigmoid', 'dr2': 0.24471618402927728, 'l3_neurons': 20, 'l3_activation': 'softplus', 'dr3': 0.3060999972064736, 'l4_neurons': 25, 'l4_activation': 'relu', 'dr4': 0.4932650570338518, 'l5_neurons': 27, 'l5_activation': 'relu'}. Best is trial 2 with value: 0.890666663646698.\u001b[0m\n",
            "\u001b[32m[I 2022-12-21 13:08:58,003]\u001b[0m Trial 14 finished with value: 0.8786666393280029 and parameters: {'l1_neurons': 84, 'l1_activation': 'sigmoid', 'dr1': 0.4951922856638799, 'l2_neurons': 64, 'l2_activation': 'sigmoid', 'dr2': 0.10714015693212545, 'l3_neurons': 44, 'l3_activation': 'softplus', 'dr3': 0.28724921682565757, 'l4_neurons': 32, 'l4_activation': 'relu', 'dr4': 0.3538418538842444, 'l5_neurons': 28, 'l5_activation': 'relu'}. Best is trial 2 with value: 0.890666663646698.\u001b[0m\n",
            "\u001b[32m[I 2022-12-21 13:09:14,134]\u001b[0m Trial 15 finished with value: 0.8893333077430725 and parameters: {'l1_neurons': 60, 'l1_activation': 'relu', 'dr1': 0.42268703747179964, 'l2_neurons': 54, 'l2_activation': 'sigmoid', 'dr2': 0.2997123907817546, 'l3_neurons': 30, 'l3_activation': 'softplus', 'dr3': 0.16458171937649776, 'l4_neurons': 23, 'l4_activation': 'relu', 'dr4': 0.44007551138664763, 'l5_neurons': 22, 'l5_activation': 'relu'}. Best is trial 2 with value: 0.890666663646698.\u001b[0m\n",
            "\u001b[32m[I 2022-12-21 13:09:28,566]\u001b[0m Trial 16 finished with value: 0.890666663646698 and parameters: {'l1_neurons': 35, 'l1_activation': 'relu', 'dr1': 0.31307443603968854, 'l2_neurons': 39, 'l2_activation': 'sigmoid', 'dr2': 0.41548338319587286, 'l3_neurons': 59, 'l3_activation': 'sigmoid', 'dr3': 0.3171357736224903, 'l4_neurons': 14, 'l4_activation': 'relu', 'dr4': 0.28836039107053524, 'l5_neurons': 29, 'l5_activation': 'relu'}. Best is trial 2 with value: 0.890666663646698.\u001b[0m\n",
            "\u001b[32m[I 2022-12-21 13:09:42,725]\u001b[0m Trial 17 finished with value: 0.8986666798591614 and parameters: {'l1_neurons': 31, 'l1_activation': 'relu', 'dr1': 0.3035443330293078, 'l2_neurons': 22, 'l2_activation': 'sigmoid', 'dr2': 0.4168582039614442, 'l3_neurons': 23, 'l3_activation': 'sigmoid', 'dr3': 0.33304606679083576, 'l4_neurons': 14, 'l4_activation': 'relu', 'dr4': 0.2823995622267123, 'l5_neurons': 27, 'l5_activation': 'relu'}. Best is trial 17 with value: 0.8986666798591614.\u001b[0m\n",
            "\u001b[32m[I 2022-12-21 13:09:54,322]\u001b[0m Trial 18 finished with value: 0.8853333592414856 and parameters: {'l1_neurons': 26, 'l1_activation': 'sigmoid', 'dr1': 0.2491225171230062, 'l2_neurons': 21, 'l2_activation': 'sigmoid', 'dr2': 0.4378075538833509, 'l3_neurons': 23, 'l3_activation': 'sigmoid', 'dr3': 0.49098591997223817, 'l4_neurons': 14, 'l4_activation': 'relu', 'dr4': 0.2917967834815524, 'l5_neurons': 20, 'l5_activation': 'relu'}. Best is trial 17 with value: 0.8986666798591614.\u001b[0m\n",
            "\u001b[32m[I 2022-12-21 13:10:39,201]\u001b[0m Trial 19 finished with value: 0.9013333320617676 and parameters: {'l1_neurons': 28, 'l1_activation': 'relu', 'dr1': 0.2997236161149368, 'l2_neurons': 4, 'l2_activation': 'softplus', 'dr2': 0.4200392116542427, 'l3_neurons': 14, 'l3_activation': 'sigmoid', 'dr3': 0.33038463658421785, 'l4_neurons': 13, 'l4_activation': 'softplus', 'dr4': 0.28669080559840876, 'l5_neurons': 28, 'l5_activation': 'relu'}. Best is trial 19 with value: 0.9013333320617676.\u001b[0m\n",
            "\u001b[32m[I 2022-12-21 13:11:24,719]\u001b[0m Trial 20 finished with value: 0.8960000276565552 and parameters: {'l1_neurons': 31, 'l1_activation': 'relu', 'dr1': 0.26537734096743787, 'l2_neurons': 7, 'l2_activation': 'softplus', 'dr2': 0.42432883338997024, 'l3_neurons': 13, 'l3_activation': 'sigmoid', 'dr3': 0.3407061943973179, 'l4_neurons': 11, 'l4_activation': 'softplus', 'dr4': 0.11237268425265162, 'l5_neurons': 13, 'l5_activation': 'relu'}. Best is trial 19 with value: 0.9013333320617676.\u001b[0m\n",
            "\u001b[32m[I 2022-12-21 13:11:50,849]\u001b[0m Trial 21 finished with value: 0.8960000276565552 and parameters: {'l1_neurons': 28, 'l1_activation': 'relu', 'dr1': 0.28029192960601707, 'l2_neurons': 4, 'l2_activation': 'softplus', 'dr2': 0.4091438327826706, 'l3_neurons': 14, 'l3_activation': 'sigmoid', 'dr3': 0.333021603213854, 'l4_neurons': 11, 'l4_activation': 'softplus', 'dr4': 0.1104602380340253, 'l5_neurons': 13, 'l5_activation': 'relu'}. Best is trial 19 with value: 0.9013333320617676.\u001b[0m\n",
            "\u001b[32m[I 2022-12-21 13:12:08,904]\u001b[0m Trial 22 finished with value: 0.8933333158493042 and parameters: {'l1_neurons': 17, 'l1_activation': 'relu', 'dr1': 0.327326974859005, 'l2_neurons': 5, 'l2_activation': 'softplus', 'dr2': 0.3464823478087359, 'l3_neurons': 15, 'l3_activation': 'sigmoid', 'dr3': 0.415480575355699, 'l4_neurons': 16, 'l4_activation': 'softplus', 'dr4': 0.1651299838166541, 'l5_neurons': 13, 'l5_activation': 'relu'}. Best is trial 19 with value: 0.9013333320617676.\u001b[0m\n",
            "\u001b[32m[I 2022-12-21 13:12:25,297]\u001b[0m Trial 23 finished with value: 0.8920000195503235 and parameters: {'l1_neurons': 30, 'l1_activation': 'relu', 'dr1': 0.27326579739722523, 'l2_neurons': 14, 'l2_activation': 'softplus', 'dr2': 0.44869415896074566, 'l3_neurons': 11, 'l3_activation': 'sigmoid', 'dr3': 0.3441304125034548, 'l4_neurons': 11, 'l4_activation': 'softplus', 'dr4': 0.2626533909951906, 'l5_neurons': 25, 'l5_activation': 'relu'}. Best is trial 19 with value: 0.9013333320617676.\u001b[0m\n",
            "\u001b[32m[I 2022-12-21 13:12:44,085]\u001b[0m Trial 24 finished with value: 0.8933333158493042 and parameters: {'l1_neurons': 43, 'l1_activation': 'relu', 'dr1': 0.20425118145131646, 'l2_neurons': 22, 'l2_activation': 'softplus', 'dr2': 0.3988794400255537, 'l3_neurons': 27, 'l3_activation': 'sigmoid', 'dr3': 0.2920423202168561, 'l4_neurons': 17, 'l4_activation': 'softplus', 'dr4': 0.328566281950489, 'l5_neurons': 19, 'l5_activation': 'relu'}. Best is trial 19 with value: 0.9013333320617676.\u001b[0m\n",
            "\u001b[32m[I 2022-12-21 13:13:15,930]\u001b[0m Trial 25 finished with value: 0.8799999952316284 and parameters: {'l1_neurons': 59, 'l1_activation': 'sigmoid', 'dr1': 0.3198541188523854, 'l2_neurons': 9, 'l2_activation': 'softplus', 'dr2': 0.3402051266209932, 'l3_neurons': 19, 'l3_activation': 'sigmoid', 'dr3': 0.2132967455244269, 'l4_neurons': 13, 'l4_activation': 'softplus', 'dr4': 0.10161066556822096, 'l5_neurons': 11, 'l5_activation': 'relu'}. Best is trial 19 with value: 0.9013333320617676.\u001b[0m\n",
            "\u001b[32m[I 2022-12-21 13:13:46,757]\u001b[0m Trial 26 finished with value: 0.8893333077430725 and parameters: {'l1_neurons': 25, 'l1_activation': 'relu', 'dr1': 0.2822340037578368, 'l2_neurons': 19, 'l2_activation': 'softplus', 'dr2': 0.4503546978210886, 'l3_neurons': 24, 'l3_activation': 'sigmoid', 'dr3': 0.32394715420697956, 'l4_neurons': 9, 'l4_activation': 'softplus', 'dr4': 0.17706320102227527, 'l5_neurons': 16, 'l5_activation': 'relu'}. Best is trial 19 with value: 0.9013333320617676.\u001b[0m\n",
            "\u001b[32m[I 2022-12-21 13:13:54,202]\u001b[0m Trial 27 finished with value: 0.8880000114440918 and parameters: {'l1_neurons': 80, 'l1_activation': 'relu', 'dr1': 0.33955230684571386, 'l2_neurons': 4, 'l2_activation': 'softplus', 'dr2': 0.3855903679599628, 'l3_neurons': 10, 'l3_activation': 'relu', 'dr3': 0.4009305958100107, 'l4_neurons': 12, 'l4_activation': 'softplus', 'dr4': 0.25963282136618954, 'l5_neurons': 22, 'l5_activation': 'relu'}. Best is trial 19 with value: 0.9013333320617676.\u001b[0m\n",
            "\u001b[32m[I 2022-12-21 13:14:24,646]\u001b[0m Trial 28 finished with value: 0.8973333239555359 and parameters: {'l1_neurons': 41, 'l1_activation': 'relu', 'dr1': 0.4126095240972092, 'l2_neurons': 27, 'l2_activation': 'softplus', 'dr2': 0.3611357896957763, 'l3_neurons': 17, 'l3_activation': 'sigmoid', 'dr3': 0.27591221657903475, 'l4_neurons': 7, 'l4_activation': 'softplus', 'dr4': 0.3268337435121405, 'l5_neurons': 29, 'l5_activation': 'relu'}. Best is trial 19 with value: 0.9013333320617676.\u001b[0m\n",
            "\u001b[32m[I 2022-12-21 13:14:54,122]\u001b[0m Trial 29 finished with value: 0.874666690826416 and parameters: {'l1_neurons': 69, 'l1_activation': 'sigmoid', 'dr1': 0.41425111704890694, 'l2_neurons': 30, 'l2_activation': 'relu', 'dr2': 0.3587949818271652, 'l3_neurons': 17, 'l3_activation': 'relu', 'dr3': 0.2716725051323021, 'l4_neurons': 7, 'l4_activation': 'softplus', 'dr4': 0.3403388937827742, 'l5_neurons': 29, 'l5_activation': 'relu'}. Best is trial 19 with value: 0.9013333320617676.\u001b[0m\n"
          ]
        }
      ]
    },
    {
      "cell_type": "code",
      "source": [
        "df = pd.DataFrame(histories_over[study_over.best_trial.number])\n",
        "plt.figure(figsize=(18,9))\n",
        "f, axes = plt.subplots(1, 2)\n",
        "\n",
        "ax = sns.lineplot( data=df[['loss', 'val_loss']],ax=axes[0])\n",
        "ax.set_ylim(0)\n",
        "\n",
        "ax = sns.lineplot(data=df[['accuracy', 'val_accuracy']], ax=axes[1])\n",
        "ax.set_ylim(0, 1)"
      ],
      "metadata": {
        "colab": {
          "base_uri": "https://localhost:8080/",
          "height": 307
        },
        "id": "aq_Be52j577K",
        "outputId": "9185a8ee-48e3-4f3a-e2f1-7b3776b3e385"
      },
      "execution_count": null,
      "outputs": [
        {
          "output_type": "execute_result",
          "data": {
            "text/plain": [
              "(0.0, 1.0)"
            ]
          },
          "metadata": {},
          "execution_count": 192
        },
        {
          "output_type": "display_data",
          "data": {
            "text/plain": [
              "<Figure size 1296x648 with 0 Axes>"
            ]
          },
          "metadata": {}
        },
        {
          "output_type": "display_data",
          "data": {
            "text/plain": [
              "<Figure size 432x288 with 2 Axes>"
            ],
            "image/png": "[encoded data removed]"
          },
          "metadata": {}
        }
      ]
    },
    {
      "cell_type": "code",
      "source": [
        "study_over.best_params"
      ],
      "metadata": {
        "colab": {
          "base_uri": "https://localhost:8080/"
        },
        "id": "0kSAjCsPbEpr",
        "outputId": "f8d96f9b-13b2-46fd-ecbb-350d739b8f04"
      },
      "execution_count": null,
      "outputs": [
        {
          "output_type": "execute_result",
          "data": {
            "text/plain": [
              "{'l1_neurons': 28,\n",
              " 'l1_activation': 'relu',\n",
              " 'dr1': 0.2997236161149368,\n",
              " 'l2_neurons': 4,\n",
              " 'l2_activation': 'softplus',\n",
              " 'dr2': 0.4200392116542427,\n",
              " 'l3_neurons': 14,\n",
              " 'l3_activation': 'sigmoid',\n",
              " 'dr3': 0.33038463658421785,\n",
              " 'l4_neurons': 13,\n",
              " 'l4_activation': 'softplus',\n",
              " 'dr4': 0.28669080559840876,\n",
              " 'l5_neurons': 28,\n",
              " 'l5_activation': 'relu'}"
            ]
          },
          "metadata": {},
          "execution_count": 193
        }
      ]
    },
    {
      "cell_type": "code",
      "source": [
        "inputs = Input((input_dim,))\n",
        "x = Dense(28)(inputs) \n",
        "#x = BatchNormalization()(x)   \n",
        "x = Activation(\"relu\")(x)\n",
        "x = Dropout(0.2997236161149368)(x)\n",
        "\n",
        "x = Dense(4)(x) \n",
        "#x = BatchNormalization()(x)   \n",
        "x = Activation(\"softplus\")(x)\n",
        "x = Dropout(0.4200392116542427)(x)\n",
        "\n",
        "x = Dense(14)(x) \n",
        "#x = BatchNormalization()(x)   \n",
        "x = Activation(\"sigmoid\")(x)\n",
        "x = Dropout(0.33038463658421785)(x)\n",
        "                                 \n",
        "x = Dense(13)(x) \n",
        "#x = BatchNormalization()(x)   \n",
        "x = Activation(\"softplus\")(x)\n",
        "x = Dropout(0.28669080559840876)(x)\n",
        "\n",
        "x = Dense(28)(x) \n",
        "#x = BatchNormalization()(x)   \n",
        "x = Activation(\"relu\")(x)\n",
        "outputs = Dense(1, activation='sigmoid')(x)  \n",
        "model_over =keras.models.Model(inputs, outputs)"
      ],
      "metadata": {
        "id": "WJiwjZcqbb0A"
      },
      "execution_count": null,
      "outputs": []
    },
    {
      "cell_type": "code",
      "source": [
        "esc = tf.keras.callbacks.EarlyStopping(monitor='val_loss', patience=5)\n",
        "sch = PolynomialDecay(initial_learning_rate=1e-2, decay_steps=60, end_learning_rate=5e-4)\n",
        "optimizer = tf.keras.optimizers.Adam(learning_rate=sch)\n",
        "model_over.compile(\n",
        "  optimizer,\n",
        "      #optimizer=optimizers.RMSprop(learning_rate=sch),\n",
        "  loss='binary_crossentropy', \n",
        "  metrics=['accuracy']\n",
        "  )\n",
        "history_over = model_over.fit(train_dataset_over,\n",
        "                    steps_per_epoch=STEPS_PER_EPOCH_OVER,\n",
        "                    validation_steps=VALIDATION_STEPS_OVER,\n",
        "                    epochs=60,\n",
        "                    validation_data=test_dataset_over\n",
        "                    #callbacks=[esc]\n",
        "                    )"
      ],
      "metadata": {
        "colab": {
          "base_uri": "https://localhost:8080/"
        },
        "id": "Z4pE-wYnbwJh",
        "outputId": "a26ea2c6-9e08-4ebf-c230-6642a60b0085"
      },
      "execution_count": null,
      "outputs": [
        {
          "output_type": "stream",
          "name": "stdout",
          "text": [
            "Epoch 1/60\n",
            "237/237 [==============================] - 2s 3ms/step - loss: 0.4778 - accuracy: 0.8037 - val_loss: 0.4619 - val_accuracy: 0.7747\n",
            "Epoch 2/60\n",
            "237/237 [==============================] - 1s 3ms/step - loss: 0.4400 - accuracy: 0.8040 - val_loss: 0.3867 - val_accuracy: 0.7747\n",
            "Epoch 3/60\n",
            "237/237 [==============================] - 1s 3ms/step - loss: 0.4060 - accuracy: 0.8137 - val_loss: 0.3477 - val_accuracy: 0.8320\n",
            "Epoch 4/60\n",
            "237/237 [==============================] - 1s 2ms/step - loss: 0.3838 - accuracy: 0.8228 - val_loss: 0.3329 - val_accuracy: 0.8453\n",
            "Epoch 5/60\n",
            "237/237 [==============================] - 1s 2ms/step - loss: 0.3790 - accuracy: 0.8209 - val_loss: 0.3287 - val_accuracy: 0.8480\n",
            "Epoch 6/60\n",
            "237/237 [==============================] - 1s 2ms/step - loss: 0.3716 - accuracy: 0.8198 - val_loss: 0.3255 - val_accuracy: 0.8547\n",
            "Epoch 7/60\n",
            "237/237 [==============================] - 1s 2ms/step - loss: 0.3631 - accuracy: 0.8286 - val_loss: 0.3216 - val_accuracy: 0.8560\n",
            "Epoch 8/60\n",
            "237/237 [==============================] - 1s 3ms/step - loss: 0.3583 - accuracy: 0.8309 - val_loss: 0.3188 - val_accuracy: 0.8560\n",
            "Epoch 9/60\n",
            "237/237 [==============================] - 1s 2ms/step - loss: 0.3637 - accuracy: 0.8212 - val_loss: 0.3195 - val_accuracy: 0.8573\n",
            "Epoch 10/60\n",
            "237/237 [==============================] - 1s 3ms/step - loss: 0.3578 - accuracy: 0.8298 - val_loss: 0.3226 - val_accuracy: 0.8613\n",
            "Epoch 11/60\n",
            "237/237 [==============================] - 1s 3ms/step - loss: 0.3522 - accuracy: 0.8279 - val_loss: 0.3169 - val_accuracy: 0.8613\n",
            "Epoch 12/60\n",
            "237/237 [==============================] - 1s 3ms/step - loss: 0.3521 - accuracy: 0.8323 - val_loss: 0.3212 - val_accuracy: 0.8640\n",
            "Epoch 13/60\n",
            "237/237 [==============================] - 1s 3ms/step - loss: 0.3524 - accuracy: 0.8298 - val_loss: 0.3200 - val_accuracy: 0.8613\n",
            "Epoch 14/60\n",
            "237/237 [==============================] - 1s 3ms/step - loss: 0.3518 - accuracy: 0.8315 - val_loss: 0.3177 - val_accuracy: 0.8613\n",
            "Epoch 15/60\n",
            "237/237 [==============================] - 1s 3ms/step - loss: 0.3445 - accuracy: 0.8336 - val_loss: 0.3154 - val_accuracy: 0.8627\n",
            "Epoch 16/60\n",
            "237/237 [==============================] - 1s 3ms/step - loss: 0.3467 - accuracy: 0.8361 - val_loss: 0.3198 - val_accuracy: 0.8653\n",
            "Epoch 17/60\n",
            "237/237 [==============================] - 1s 3ms/step - loss: 0.3422 - accuracy: 0.8354 - val_loss: 0.3186 - val_accuracy: 0.8707\n",
            "Epoch 18/60\n",
            "237/237 [==============================] - 1s 2ms/step - loss: 0.3466 - accuracy: 0.8343 - val_loss: 0.3187 - val_accuracy: 0.8627\n",
            "Epoch 19/60\n",
            "237/237 [==============================] - 1s 3ms/step - loss: 0.3441 - accuracy: 0.8305 - val_loss: 0.3163 - val_accuracy: 0.8653\n",
            "Epoch 20/60\n",
            "237/237 [==============================] - 1s 3ms/step - loss: 0.3431 - accuracy: 0.8350 - val_loss: 0.3210 - val_accuracy: 0.8653\n",
            "Epoch 21/60\n",
            "237/237 [==============================] - 1s 3ms/step - loss: 0.3401 - accuracy: 0.8403 - val_loss: 0.3204 - val_accuracy: 0.8693\n",
            "Epoch 22/60\n",
            "237/237 [==============================] - 0s 2ms/step - loss: 0.3394 - accuracy: 0.8345 - val_loss: 0.3138 - val_accuracy: 0.8667\n",
            "Epoch 23/60\n",
            "237/237 [==============================] - 1s 2ms/step - loss: 0.3413 - accuracy: 0.8354 - val_loss: 0.3174 - val_accuracy: 0.8680\n",
            "Epoch 24/60\n",
            "237/237 [==============================] - 1s 2ms/step - loss: 0.3425 - accuracy: 0.8360 - val_loss: 0.3227 - val_accuracy: 0.8667\n",
            "Epoch 25/60\n",
            "237/237 [==============================] - 1s 2ms/step - loss: 0.3376 - accuracy: 0.8379 - val_loss: 0.3137 - val_accuracy: 0.8680\n",
            "Epoch 26/60\n",
            "237/237 [==============================] - 1s 2ms/step - loss: 0.3338 - accuracy: 0.8384 - val_loss: 0.3162 - val_accuracy: 0.8667\n",
            "Epoch 27/60\n",
            "237/237 [==============================] - 1s 2ms/step - loss: 0.3359 - accuracy: 0.8371 - val_loss: 0.3127 - val_accuracy: 0.8653\n",
            "Epoch 28/60\n",
            "237/237 [==============================] - 1s 2ms/step - loss: 0.3355 - accuracy: 0.8391 - val_loss: 0.3150 - val_accuracy: 0.8653\n",
            "Epoch 29/60\n",
            "237/237 [==============================] - 1s 2ms/step - loss: 0.3368 - accuracy: 0.8387 - val_loss: 0.3209 - val_accuracy: 0.8693\n",
            "Epoch 30/60\n",
            "237/237 [==============================] - 1s 2ms/step - loss: 0.3317 - accuracy: 0.8385 - val_loss: 0.3183 - val_accuracy: 0.8693\n",
            "Epoch 31/60\n",
            "237/237 [==============================] - 1s 3ms/step - loss: 0.3361 - accuracy: 0.8368 - val_loss: 0.3192 - val_accuracy: 0.8680\n",
            "Epoch 32/60\n",
            "237/237 [==============================] - 1s 3ms/step - loss: 0.3320 - accuracy: 0.8398 - val_loss: 0.3272 - val_accuracy: 0.8680\n",
            "Epoch 33/60\n",
            "237/237 [==============================] - 1s 2ms/step - loss: 0.3314 - accuracy: 0.8442 - val_loss: 0.3203 - val_accuracy: 0.8653\n",
            "Epoch 34/60\n",
            "237/237 [==============================] - 0s 2ms/step - loss: 0.3317 - accuracy: 0.8390 - val_loss: 0.3248 - val_accuracy: 0.8680\n",
            "Epoch 35/60\n",
            "237/237 [==============================] - 0s 2ms/step - loss: 0.3266 - accuracy: 0.8429 - val_loss: 0.3178 - val_accuracy: 0.8773\n",
            "Epoch 36/60\n",
            "237/237 [==============================] - 0s 2ms/step - loss: 0.3321 - accuracy: 0.8391 - val_loss: 0.3222 - val_accuracy: 0.8733\n",
            "Epoch 37/60\n",
            "237/237 [==============================] - 1s 2ms/step - loss: 0.3277 - accuracy: 0.8440 - val_loss: 0.3221 - val_accuracy: 0.8720\n",
            "Epoch 38/60\n",
            "237/237 [==============================] - 1s 2ms/step - loss: 0.3263 - accuracy: 0.8409 - val_loss: 0.3191 - val_accuracy: 0.8667\n",
            "Epoch 39/60\n",
            "237/237 [==============================] - 1s 2ms/step - loss: 0.3263 - accuracy: 0.8415 - val_loss: 0.3237 - val_accuracy: 0.8640\n",
            "Epoch 40/60\n",
            "237/237 [==============================] - 1s 2ms/step - loss: 0.3267 - accuracy: 0.8417 - val_loss: 0.3229 - val_accuracy: 0.8653\n",
            "Epoch 41/60\n",
            "237/237 [==============================] - 1s 2ms/step - loss: 0.3259 - accuracy: 0.8410 - val_loss: 0.3155 - val_accuracy: 0.8707\n",
            "Epoch 42/60\n",
            "237/237 [==============================] - 0s 2ms/step - loss: 0.3232 - accuracy: 0.8443 - val_loss: 0.3172 - val_accuracy: 0.8707\n",
            "Epoch 43/60\n",
            "237/237 [==============================] - 1s 2ms/step - loss: 0.3225 - accuracy: 0.8454 - val_loss: 0.3202 - val_accuracy: 0.8760\n",
            "Epoch 44/60\n",
            "237/237 [==============================] - 1s 3ms/step - loss: 0.3190 - accuracy: 0.8480 - val_loss: 0.3133 - val_accuracy: 0.8800\n",
            "Epoch 45/60\n",
            "237/237 [==============================] - 1s 3ms/step - loss: 0.3248 - accuracy: 0.8407 - val_loss: 0.3130 - val_accuracy: 0.8720\n",
            "Epoch 46/60\n",
            "237/237 [==============================] - 1s 2ms/step - loss: 0.3236 - accuracy: 0.8424 - val_loss: 0.3140 - val_accuracy: 0.8800\n",
            "Epoch 47/60\n",
            "237/237 [==============================] - 1s 2ms/step - loss: 0.3186 - accuracy: 0.8455 - val_loss: 0.3175 - val_accuracy: 0.8720\n",
            "Epoch 48/60\n",
            "237/237 [==============================] - 1s 3ms/step - loss: 0.3221 - accuracy: 0.8455 - val_loss: 0.3128 - val_accuracy: 0.8760\n",
            "Epoch 49/60\n",
            "237/237 [==============================] - 1s 3ms/step - loss: 0.3187 - accuracy: 0.8478 - val_loss: 0.3104 - val_accuracy: 0.8720\n",
            "Epoch 50/60\n",
            "237/237 [==============================] - 1s 3ms/step - loss: 0.3232 - accuracy: 0.8420 - val_loss: 0.3161 - val_accuracy: 0.8707\n",
            "Epoch 51/60\n",
            "237/237 [==============================] - 1s 2ms/step - loss: 0.3193 - accuracy: 0.8451 - val_loss: 0.3173 - val_accuracy: 0.8693\n",
            "Epoch 52/60\n",
            "237/237 [==============================] - 1s 2ms/step - loss: 0.3234 - accuracy: 0.8449 - val_loss: 0.3141 - val_accuracy: 0.8680\n",
            "Epoch 53/60\n",
            "237/237 [==============================] - 1s 2ms/step - loss: 0.3231 - accuracy: 0.8456 - val_loss: 0.3165 - val_accuracy: 0.8707\n",
            "Epoch 54/60\n",
            "237/237 [==============================] - 0s 2ms/step - loss: 0.3189 - accuracy: 0.8444 - val_loss: 0.3167 - val_accuracy: 0.8733\n",
            "Epoch 55/60\n",
            "237/237 [==============================] - 0s 2ms/step - loss: 0.3226 - accuracy: 0.8426 - val_loss: 0.3097 - val_accuracy: 0.8733\n",
            "Epoch 56/60\n",
            "237/237 [==============================] - 1s 2ms/step - loss: 0.3171 - accuracy: 0.8462 - val_loss: 0.3029 - val_accuracy: 0.8640\n",
            "Epoch 57/60\n",
            "237/237 [==============================] - 1s 3ms/step - loss: 0.3239 - accuracy: 0.8430 - val_loss: 0.3133 - val_accuracy: 0.8640\n",
            "Epoch 58/60\n",
            "237/237 [==============================] - 1s 2ms/step - loss: 0.3169 - accuracy: 0.8449 - val_loss: 0.3067 - val_accuracy: 0.8653\n",
            "Epoch 59/60\n",
            "237/237 [==============================] - 0s 2ms/step - loss: 0.3201 - accuracy: 0.8431 - val_loss: 0.3085 - val_accuracy: 0.8627\n",
            "Epoch 60/60\n",
            "237/237 [==============================] - 0s 2ms/step - loss: 0.3204 - accuracy: 0.8471 - val_loss: 0.3104 - val_accuracy: 0.8653\n"
          ]
        }
      ]
    },
    {
      "cell_type": "code",
      "source": [
        "df = pd.DataFrame(history_over.history)\n",
        "plt.figure(figsize=(18,9))\n",
        "f, axes = plt.subplots(1, 2)\n",
        "\n",
        "ax = sns.lineplot( data=df[['loss', 'val_loss']],ax=axes[0])\n",
        "ax.set_ylim(0)\n",
        "\n",
        "ax = sns.lineplot(data=df[['accuracy', 'val_accuracy']], ax=axes[1])\n",
        "ax.set_ylim(0, 1)"
      ],
      "metadata": {
        "colab": {
          "base_uri": "https://localhost:8080/",
          "height": 307
        },
        "id": "O9OrP-o8b6v5",
        "outputId": "32292b59-af46-4d53-f0b3-abbf114c3f2b"
      },
      "execution_count": null,
      "outputs": [
        {
          "output_type": "execute_result",
          "data": {
            "text/plain": [
              "(0.0, 1.0)"
            ]
          },
          "metadata": {},
          "execution_count": 115
        },
        {
          "output_type": "display_data",
          "data": {
            "text/plain": [
              "<Figure size 1296x648 with 0 Axes>"
            ]
          },
          "metadata": {}
        },
        {
          "output_type": "display_data",
          "data": {
            "text/plain": [
              "<Figure size 432x288 with 2 Axes>"
            ],
            "image/png": "[encoded data removed]"
          },
          "metadata": {}
        }
      ]
    },
    {
      "cell_type": "code",
      "source": [
        "y_pred_over=model_over.predict(X_test_std_over)\n",
        "y_pred_over=list(map(lambda x: round(x), y_pred_over.reshape(-1)))"
      ],
      "metadata": {
        "colab": {
          "base_uri": "https://localhost:8080/"
        },
        "id": "OZ1m7nfF_0zk",
        "outputId": "deede33e-8635-44f1-9ece-df44d5e6afc1"
      },
      "execution_count": null,
      "outputs": [
        {
          "output_type": "stream",
          "name": "stdout",
          "text": [
            "124/124 [==============================] - 0s 1ms/step\n"
          ]
        }
      ]
    },
    {
      "cell_type": "code",
      "source": [
        "print(classification_report(y_test_over,y_pred_over))"
      ],
      "metadata": {
        "colab": {
          "base_uri": "https://localhost:8080/"
        },
        "id": "B82LPykDACCi",
        "outputId": "8037c4cf-e0be-420e-b158-6d9651c138e0"
      },
      "execution_count": null,
      "outputs": [
        {
          "output_type": "stream",
          "name": "stdout",
          "text": [
            "              precision    recall  f1-score   support\n",
            "\n",
            "           0       0.86      0.98      0.92      3132\n",
            "           1       0.82      0.42      0.56       830\n",
            "\n",
            "    accuracy                           0.86      3962\n",
            "   macro avg       0.84      0.70      0.74      3962\n",
            "weighted avg       0.86      0.86      0.84      3962\n",
            "\n"
          ]
        }
      ]
    },
    {
      "cell_type": "code",
      "source": [
        "CM=confusion_matrix(y_test_over,y_pred_over)\n",
        "TN = CM[0][0]\n",
        "FN = CM[1][0]\n",
        "TP = CM[1][1]\n",
        "FP = CM[0][1]\n",
        "\n",
        "# Sensitivity, hit rate, recall, or true positive rate\n",
        "TPR = TP/(TP+FN)\n",
        "# Specificity or true negative rate\n",
        "TNR = TN/(TN+FP) \n",
        "# Precision or positive predictive value\n",
        "PPV = TP/(TP+FP)\n",
        "# Negative predictive value\n",
        "NPV = TN/(TN+FN)\n",
        "# Fall out or false positive rate\n",
        "FPR = FP/(FP+TN)\n",
        "# False negative rate\n",
        "FNR = FN/(TP+FN)\n",
        "# False discovery rate\n",
        "FDR = FP/(TP+FP)\n",
        "\n",
        "# Overall accuracy\n",
        "ACC = (TP+TN)/(TP+FP+FN+TN)\n",
        "print('f1',f1_score(y_test_over,y_pred_over,average='macro'))\n",
        "print('TPR',TPR)\n",
        "print('TNR',TNR)"
      ],
      "metadata": {
        "colab": {
          "base_uri": "https://localhost:8080/"
        },
        "id": "G4ge8gsHqu0o",
        "outputId": "2d739a59-673d-40d1-f490-dbcd5bc7e4ce"
      },
      "execution_count": null,
      "outputs": [
        {
          "output_type": "stream",
          "name": "stdout",
          "text": [
            "f1 0.7906317000203305\n",
            "TPR 0.5662650602409639\n",
            "TNR 0.9581736909323116\n"
          ]
        }
      ]
    },
    {
      "cell_type": "markdown",
      "source": [
        "##Undersampling"
      ],
      "metadata": {
        "id": "VBoZpJL41CC2"
      }
    },
    {
      "cell_type": "markdown",
      "source": [],
      "metadata": {
        "id": "wzUduk8BourP"
      }
    },
    {
      "cell_type": "code",
      "source": [
        "undersample = RandomUnderSampler(sampling_strategy=0.60)"
      ],
      "metadata": {
        "id": "zC7IFMIy0wVN"
      },
      "execution_count": null,
      "outputs": []
    },
    {
      "cell_type": "code",
      "source": [
        "X_under, y_under = undersample.fit_resample(X_dropped, y)"
      ],
      "metadata": {
        "id": "g3t2u4Cf1ICl"
      },
      "execution_count": null,
      "outputs": []
    },
    {
      "cell_type": "code",
      "source": [
        "X_train_under, X_test_val_under, y_train_under, y_test_val_under = train_test_split(X_under, y_under, test_size = 0.4, random_state = 0)\n",
        "X_val_under, X_test_under, y_val_under, y_test_under= train_test_split(X_test_val_under, y_test_val_under, test_size = 0.5, random_state = 0)\n",
        "sc = StandardScaler()\n",
        "sc.fit(X_train_under)\n",
        "X_train_std_under = sc.transform(X_train_under)\n",
        "X_val_std_under = sc.transform(X_val_under)\n",
        "X_test_std_under = sc.transform(X_test_under)\n"
      ],
      "metadata": {
        "id": "UfhKcmNs1M8W"
      },
      "execution_count": null,
      "outputs": []
    },
    {
      "cell_type": "code",
      "source": [
        "Counter(y_under)"
      ],
      "metadata": {
        "colab": {
          "base_uri": "https://localhost:8080/"
        },
        "id": "CI-CQtRc_AyL",
        "outputId": "2190ca3e-af1b-4923-d0fd-a62c60dfa4dd"
      },
      "execution_count": null,
      "outputs": [
        {
          "output_type": "execute_result",
          "data": {
            "text/plain": [
              "Counter({0: 5430, 1: 3258})"
            ]
          },
          "metadata": {},
          "execution_count": 54
        }
      ]
    },
    {
      "cell_type": "code",
      "source": [
        "train_under = tf.data.Dataset.from_tensor_slices((X_train_std_under, y_train_under))\n",
        "val_under = tf.data.Dataset.from_tensor_slices((X_val_std_under, y_val_under))\n",
        "test_under = tf.data.Dataset.from_tensor_slices((X_test_std_under, y_test_under))"
      ],
      "metadata": {
        "id": "OYKQ07wLroMd"
      },
      "execution_count": null,
      "outputs": []
    },
    {
      "cell_type": "code",
      "source": [
        "val_size_under=len(list(test_under)) \n",
        "train_size_under=len(list(train_under))\n",
        "VALIDATION_STEPS_UNDER = val_size_under//BATCH_SIZE//VAL_SUBSPLITS\n",
        "STEPS_PER_EPOCH_UNDER = train_size_under // BATCH_SIZE"
      ],
      "metadata": {
        "id": "s6NjrScGShVu"
      },
      "execution_count": null,
      "outputs": []
    },
    {
      "cell_type": "code",
      "source": [
        "train_dataset_under = train_under.shuffle(BUFFER_SIZE).cache().batch(BATCH_SIZE).repeat()\n",
        "train_dataset_under = train_dataset_under.prefetch(buffer_size=tf.data.experimental.AUTOTUNE)\n",
        "test_dataset_under = test_under.batch(BATCH_SIZE)\n",
        "val_dataset_under = val_under.batch(BATCH_SIZE)\n"
      ],
      "metadata": {
        "id": "W9n0psvAr9Q6"
      },
      "execution_count": null,
      "outputs": []
    },
    {
      "cell_type": "markdown",
      "source": [
        "###Keras RUS"
      ],
      "metadata": {
        "id": "gFAy-QAnqEB2"
      }
    },
    {
      "cell_type": "code",
      "source": [
        "tf.random.set_seed(4)\n",
        "histories_under=[]\n",
        "def optuna_objective_under(trial: optuna.trial.Trial):\n",
        "    esc = tf.keras.callbacks.EarlyStopping(monitor='val_loss', patience=5)\n",
        "    model = keras.Sequential(\n",
        "        [\n",
        "            layers.Input(input_dim,),\n",
        "            layers.Dense(\n",
        "                units=trial.suggest_int('l1_neurons', 16, 128),\n",
        "                activation=trial.suggest_categorical('l1_activation', ['sigmoid','softplus', 'relu'])\n",
        "            ),\n",
        "            layers.Dropout(rate=trial.suggest_uniform('dr1', 0.1, 0.5)),\n",
        "            layers.Dense(\n",
        "                units=trial.suggest_int('l2_neurons', 4, 64),\n",
        "                activation=trial.suggest_categorical('l2_activation', ['sigmoid','softplus' ,'relu'])\n",
        "            ),\n",
        "            layers.Dropout(rate=trial.suggest_uniform('dr2', 0.1, 0.5)),\n",
        "            layers.Dense(\n",
        "                units=trial.suggest_int('l3_neurons', 4, 64),\n",
        "                activation=trial.suggest_categorical('l3_activation', ['sigmoid','softplus', 'relu'])\n",
        "            ),\n",
        "            layers.Dropout(rate=trial.suggest_uniform('dr3', 0.1, 0.5)),\n",
        "            layers.Dense(\n",
        "                units=trial.suggest_int('l4_neurons', 4, 32),\n",
        "                activation=trial.suggest_categorical('l4_activation', ['sigmoid','softplus', 'relu'])\n",
        "            ),\n",
        "            layers.Dropout(rate=trial.suggest_uniform('dr4', 0.1, 0.5)),\n",
        "            layers.Dense(\n",
        "                units=trial.suggest_int('l5_neurons', 4, 32),\n",
        "                activation=trial.suggest_categorical('l5_activation', ['sigmoid', 'relu'])\n",
        "            ),\n",
        "            layers.Dense(1, activation=activations.sigmoid)\n",
        "            ])\n",
        "    sch = PolynomialDecay(initial_learning_rate=1e-2, decay_steps=EPOCH, end_learning_rate=5e-4)\n",
        "    optimizer = tf.keras.optimizers.Adam(learning_rate=sch)\n",
        "    model.compile(\n",
        "    optimizer,\n",
        "    #optimizer=optimizers.RMSprop(learning_rate=sch),\n",
        "    loss='binary_crossentropy', \n",
        "    #metrics=[keras.metrics.Accuracy,keras.metrics.Recall,keras.metrics.AUC]\n",
        "    metrics=['accuracy','AUC']\n",
        "    )\n",
        "    history = model.fit(train_dataset_under,\n",
        "                        steps_per_epoch=STEPS_PER_EPOCH,\n",
        "                        validation_steps=VALIDATION_STEPS,\n",
        "                        epochs=EPOCH,\n",
        "                        validation_data=val_dataset_under, \n",
        "                        verbose=0,\n",
        "                        callbacks=[esc])\n",
        "    histories_under.append(history.history)\n",
        "    accuracy = history.history['val_accuracy'][-1]\n",
        "    return accuracy"
      ],
      "metadata": {
        "id": "8xEi-MdTqHGp"
      },
      "execution_count": null,
      "outputs": []
    },
    {
      "cell_type": "code",
      "source": [
        "study_under= optuna.create_study(direction='maximize')"
      ],
      "metadata": {
        "colab": {
          "base_uri": "https://localhost:8080/"
        },
        "id": "zULtJUh2qYfq",
        "outputId": "75f3c7f3-839b-4b19-a514-15f58b1a96cd"
      },
      "execution_count": null,
      "outputs": [
        {
          "output_type": "stream",
          "name": "stderr",
          "text": [
            "\u001b[32m[I 2022-12-22 13:01:08,136]\u001b[0m A new study created in memory with name: no-name-6b94c259-26ef-4186-a580-1351e068b8ad\u001b[0m\n"
          ]
        }
      ]
    },
    {
      "cell_type": "code",
      "source": [
        "study_under.optimize(optuna_objective_under, n_trials=50)"
      ],
      "metadata": {
        "colab": {
          "base_uri": "https://localhost:8080/"
        },
        "id": "5jZIyy1bqhNV",
        "outputId": "1a90f5cc-261b-4856-d177-e91f6225a5d0"
      },
      "execution_count": null,
      "outputs": [
        {
          "output_type": "stream",
          "name": "stderr",
          "text": [
            "<ipython-input-52-be3c9c9b38c4>:12: FutureWarning: suggest_uniform has been deprecated in v3.0.0. This feature will be removed in v6.0.0. See https://github.com/optuna/optuna/releases/tag/v3.0.0. Use :func:`~optuna.trial.Trial.suggest_float` instead.\n",
            "  layers.Dropout(rate=trial.suggest_uniform('dr1', 0.1, 0.5)),\n",
            "<ipython-input-52-be3c9c9b38c4>:17: FutureWarning: suggest_uniform has been deprecated in v3.0.0. This feature will be removed in v6.0.0. See https://github.com/optuna/optuna/releases/tag/v3.0.0. Use :func:`~optuna.trial.Trial.suggest_float` instead.\n",
            "  layers.Dropout(rate=trial.suggest_uniform('dr2', 0.1, 0.5)),\n",
            "<ipython-input-52-be3c9c9b38c4>:22: FutureWarning: suggest_uniform has been deprecated in v3.0.0. This feature will be removed in v6.0.0. See https://github.com/optuna/optuna/releases/tag/v3.0.0. Use :func:`~optuna.trial.Trial.suggest_float` instead.\n",
            "  layers.Dropout(rate=trial.suggest_uniform('dr3', 0.1, 0.5)),\n",
            "<ipython-input-52-be3c9c9b38c4>:27: FutureWarning: suggest_uniform has been deprecated in v3.0.0. This feature will be removed in v6.0.0. See https://github.com/optuna/optuna/releases/tag/v3.0.0. Use :func:`~optuna.trial.Trial.suggest_float` instead.\n",
            "  layers.Dropout(rate=trial.suggest_uniform('dr4', 0.1, 0.5)),\n",
            "\u001b[32m[I 2022-12-22 13:01:28,137]\u001b[0m Trial 0 finished with value: 0.8240000009536743 and parameters: {'l1_neurons': 34, 'l1_activation': 'softplus', 'dr1': 0.33328591988431483, 'l2_neurons': 11, 'l2_activation': 'relu', 'dr2': 0.21800850091893845, 'l3_neurons': 21, 'l3_activation': 'relu', 'dr3': 0.46233894852092017, 'l4_neurons': 20, 'l4_activation': 'relu', 'dr4': 0.11335706193349089, 'l5_neurons': 23, 'l5_activation': 'sigmoid'}. Best is trial 0 with value: 0.8240000009536743.\u001b[0m\n",
            "\u001b[32m[I 2022-12-22 13:01:50,115]\u001b[0m Trial 1 finished with value: 0.8226666450500488 and parameters: {'l1_neurons': 24, 'l1_activation': 'sigmoid', 'dr1': 0.45343171159442874, 'l2_neurons': 20, 'l2_activation': 'softplus', 'dr2': 0.37183444099329455, 'l3_neurons': 7, 'l3_activation': 'relu', 'dr3': 0.4274734052983542, 'l4_neurons': 24, 'l4_activation': 'relu', 'dr4': 0.12926553919366945, 'l5_neurons': 18, 'l5_activation': 'relu'}. Best is trial 0 with value: 0.8240000009536743.\u001b[0m\n",
            "\u001b[32m[I 2022-12-22 13:02:37,113]\u001b[0m Trial 2 finished with value: 0.8506666421890259 and parameters: {'l1_neurons': 43, 'l1_activation': 'relu', 'dr1': 0.3546583468634036, 'l2_neurons': 42, 'l2_activation': 'sigmoid', 'dr2': 0.4366819972236686, 'l3_neurons': 43, 'l3_activation': 'relu', 'dr3': 0.3787308737352393, 'l4_neurons': 7, 'l4_activation': 'sigmoid', 'dr4': 0.15761073810799126, 'l5_neurons': 8, 'l5_activation': 'relu'}. Best is trial 2 with value: 0.8506666421890259.\u001b[0m\n",
            "\u001b[32m[I 2022-12-22 13:03:01,351]\u001b[0m Trial 3 finished with value: 0.8186666369438171 and parameters: {'l1_neurons': 35, 'l1_activation': 'softplus', 'dr1': 0.4362207227159437, 'l2_neurons': 37, 'l2_activation': 'relu', 'dr2': 0.1383825701680404, 'l3_neurons': 43, 'l3_activation': 'softplus', 'dr3': 0.11406668577280024, 'l4_neurons': 6, 'l4_activation': 'softplus', 'dr4': 0.3240758132661965, 'l5_neurons': 11, 'l5_activation': 'sigmoid'}. Best is trial 2 with value: 0.8506666421890259.\u001b[0m\n",
            "\u001b[32m[I 2022-12-22 13:03:50,942]\u001b[0m Trial 4 finished with value: 0.8546666502952576 and parameters: {'l1_neurons': 43, 'l1_activation': 'relu', 'dr1': 0.17707983008939798, 'l2_neurons': 29, 'l2_activation': 'relu', 'dr2': 0.4904806516148673, 'l3_neurons': 49, 'l3_activation': 'sigmoid', 'dr3': 0.452392815764564, 'l4_neurons': 11, 'l4_activation': 'softplus', 'dr4': 0.18281061686792088, 'l5_neurons': 11, 'l5_activation': 'relu'}. Best is trial 4 with value: 0.8546666502952576.\u001b[0m\n",
            "\u001b[32m[I 2022-12-22 13:04:26,469]\u001b[0m Trial 5 finished with value: 0.8586666584014893 and parameters: {'l1_neurons': 116, 'l1_activation': 'relu', 'dr1': 0.466765433498598, 'l2_neurons': 41, 'l2_activation': 'softplus', 'dr2': 0.2285364775984695, 'l3_neurons': 24, 'l3_activation': 'relu', 'dr3': 0.43400471939152063, 'l4_neurons': 9, 'l4_activation': 'softplus', 'dr4': 0.12285337959387199, 'l5_neurons': 21, 'l5_activation': 'sigmoid'}. Best is trial 5 with value: 0.8586666584014893.\u001b[0m\n",
            "\u001b[32m[I 2022-12-22 13:04:56,273]\u001b[0m Trial 6 finished with value: 0.8506666421890259 and parameters: {'l1_neurons': 90, 'l1_activation': 'relu', 'dr1': 0.44414912435355225, 'l2_neurons': 37, 'l2_activation': 'softplus', 'dr2': 0.10176212940139578, 'l3_neurons': 22, 'l3_activation': 'softplus', 'dr3': 0.10702940747871788, 'l4_neurons': 4, 'l4_activation': 'softplus', 'dr4': 0.334532827015773, 'l5_neurons': 31, 'l5_activation': 'sigmoid'}. Best is trial 5 with value: 0.8586666584014893.\u001b[0m\n",
            "\u001b[32m[I 2022-12-22 13:05:55,902]\u001b[0m Trial 7 finished with value: 0.8533333539962769 and parameters: {'l1_neurons': 76, 'l1_activation': 'sigmoid', 'dr1': 0.2698762770251635, 'l2_neurons': 57, 'l2_activation': 'softplus', 'dr2': 0.2234433681829641, 'l3_neurons': 26, 'l3_activation': 'softplus', 'dr3': 0.401573676249396, 'l4_neurons': 17, 'l4_activation': 'sigmoid', 'dr4': 0.25278959919020233, 'l5_neurons': 9, 'l5_activation': 'relu'}. Best is trial 5 with value: 0.8586666584014893.\u001b[0m\n",
            "\u001b[32m[I 2022-12-22 13:06:02,591]\u001b[0m Trial 8 finished with value: 0.8373333215713501 and parameters: {'l1_neurons': 30, 'l1_activation': 'relu', 'dr1': 0.2571933962074515, 'l2_neurons': 51, 'l2_activation': 'softplus', 'dr2': 0.33127610832357807, 'l3_neurons': 12, 'l3_activation': 'softplus', 'dr3': 0.18615931094628513, 'l4_neurons': 22, 'l4_activation': 'relu', 'dr4': 0.3747476564321607, 'l5_neurons': 16, 'l5_activation': 'relu'}. Best is trial 5 with value: 0.8586666584014893.\u001b[0m\n",
            "\u001b[32m[I 2022-12-22 13:06:30,067]\u001b[0m Trial 9 finished with value: 0.8586666584014893 and parameters: {'l1_neurons': 55, 'l1_activation': 'relu', 'dr1': 0.2973079798579247, 'l2_neurons': 30, 'l2_activation': 'softplus', 'dr2': 0.2899256091868725, 'l3_neurons': 55, 'l3_activation': 'relu', 'dr3': 0.16121365539438487, 'l4_neurons': 28, 'l4_activation': 'relu', 'dr4': 0.12269589080969663, 'l5_neurons': 23, 'l5_activation': 'sigmoid'}. Best is trial 5 with value: 0.8586666584014893.\u001b[0m\n",
            "\u001b[32m[I 2022-12-22 13:07:29,626]\u001b[0m Trial 10 finished with value: 0.8506666421890259 and parameters: {'l1_neurons': 125, 'l1_activation': 'sigmoid', 'dr1': 0.14190874779944448, 'l2_neurons': 6, 'l2_activation': 'sigmoid', 'dr2': 0.1977361965873287, 'l3_neurons': 31, 'l3_activation': 'sigmoid', 'dr3': 0.30031153195269317, 'l4_neurons': 14, 'l4_activation': 'softplus', 'dr4': 0.4579349378972655, 'l5_neurons': 32, 'l5_activation': 'sigmoid'}. Best is trial 5 with value: 0.8586666584014893.\u001b[0m\n",
            "\u001b[32m[I 2022-12-22 13:07:50,377]\u001b[0m Trial 11 finished with value: 0.8479999899864197 and parameters: {'l1_neurons': 115, 'l1_activation': 'relu', 'dr1': 0.3751687142807384, 'l2_neurons': 24, 'l2_activation': 'softplus', 'dr2': 0.28068690492110354, 'l3_neurons': 63, 'l3_activation': 'relu', 'dr3': 0.2525691389382776, 'l4_neurons': 30, 'l4_activation': 'relu', 'dr4': 0.22245435803195607, 'l5_neurons': 25, 'l5_activation': 'sigmoid'}. Best is trial 5 with value: 0.8586666584014893.\u001b[0m\n",
            "\u001b[32m[I 2022-12-22 13:08:12,925]\u001b[0m Trial 12 finished with value: 0.8546666502952576 and parameters: {'l1_neurons': 62, 'l1_activation': 'relu', 'dr1': 0.2249949183265119, 'l2_neurons': 49, 'l2_activation': 'softplus', 'dr2': 0.27720685270279355, 'l3_neurons': 57, 'l3_activation': 'relu', 'dr3': 0.32182604685544697, 'l4_neurons': 26, 'l4_activation': 'relu', 'dr4': 0.10460135297884668, 'l5_neurons': 25, 'l5_activation': 'sigmoid'}. Best is trial 5 with value: 0.8586666584014893.\u001b[0m\n",
            "\u001b[32m[I 2022-12-22 13:08:39,680]\u001b[0m Trial 13 finished with value: 0.862666666507721 and parameters: {'l1_neurons': 102, 'l1_activation': 'relu', 'dr1': 0.4008690926684116, 'l2_neurons': 63, 'l2_activation': 'softplus', 'dr2': 0.36051603953221134, 'l3_neurons': 38, 'l3_activation': 'relu', 'dr3': 0.22321535251918226, 'l4_neurons': 32, 'l4_activation': 'softplus', 'dr4': 0.2099335048181057, 'l5_neurons': 21, 'l5_activation': 'sigmoid'}. Best is trial 13 with value: 0.862666666507721.\u001b[0m\n",
            "\u001b[32m[I 2022-12-22 13:09:18,238]\u001b[0m Trial 14 finished with value: 0.8600000143051147 and parameters: {'l1_neurons': 100, 'l1_activation': 'relu', 'dr1': 0.4938191361640122, 'l2_neurons': 63, 'l2_activation': 'softplus', 'dr2': 0.3919491859269467, 'l3_neurons': 36, 'l3_activation': 'relu', 'dr3': 0.2417646112751054, 'l4_neurons': 32, 'l4_activation': 'softplus', 'dr4': 0.2256809081751706, 'l5_neurons': 16, 'l5_activation': 'sigmoid'}. Best is trial 13 with value: 0.862666666507721.\u001b[0m\n",
            "\u001b[32m[I 2022-12-22 13:10:15,868]\u001b[0m Trial 15 finished with value: 0.8493333458900452 and parameters: {'l1_neurons': 96, 'l1_activation': 'softplus', 'dr1': 0.49243915727334286, 'l2_neurons': 64, 'l2_activation': 'sigmoid', 'dr2': 0.39604790097213266, 'l3_neurons': 36, 'l3_activation': 'relu', 'dr3': 0.2335197014305368, 'l4_neurons': 32, 'l4_activation': 'softplus', 'dr4': 0.2582322116497368, 'l5_neurons': 4, 'l5_activation': 'sigmoid'}. Best is trial 13 with value: 0.862666666507721.\u001b[0m\n",
            "\u001b[32m[I 2022-12-22 13:10:34,260]\u001b[0m Trial 16 finished with value: 0.8653333187103271 and parameters: {'l1_neurons': 95, 'l1_activation': 'relu', 'dr1': 0.3974978095738775, 'l2_neurons': 64, 'l2_activation': 'softplus', 'dr2': 0.4373788834318636, 'l3_neurons': 36, 'l3_activation': 'sigmoid', 'dr3': 0.2349669757233655, 'l4_neurons': 32, 'l4_activation': 'softplus', 'dr4': 0.20101316113906262, 'l5_neurons': 14, 'l5_activation': 'sigmoid'}. Best is trial 16 with value: 0.8653333187103271.\u001b[0m\n",
            "\u001b[32m[I 2022-12-22 13:10:57,377]\u001b[0m Trial 17 finished with value: 0.8653333187103271 and parameters: {'l1_neurons': 82, 'l1_activation': 'relu', 'dr1': 0.390423491455708, 'l2_neurons': 55, 'l2_activation': 'softplus', 'dr2': 0.4806451799503131, 'l3_neurons': 43, 'l3_activation': 'sigmoid', 'dr3': 0.33835764233778837, 'l4_neurons': 26, 'l4_activation': 'softplus', 'dr4': 0.19990102281980598, 'l5_neurons': 14, 'l5_activation': 'sigmoid'}. Best is trial 16 with value: 0.8653333187103271.\u001b[0m\n",
            "\u001b[32m[I 2022-12-22 13:12:38,919]\u001b[0m Trial 18 finished with value: 0.8373333215713501 and parameters: {'l1_neurons': 81, 'l1_activation': 'sigmoid', 'dr1': 0.4018067834544221, 'l2_neurons': 51, 'l2_activation': 'sigmoid', 'dr2': 0.48580215558880424, 'l3_neurons': 45, 'l3_activation': 'sigmoid', 'dr3': 0.3586664955118244, 'l4_neurons': 28, 'l4_activation': 'sigmoid', 'dr4': 0.2794569945028309, 'l5_neurons': 14, 'l5_activation': 'sigmoid'}. Best is trial 16 with value: 0.8653333187103271.\u001b[0m\n",
            "\u001b[32m[I 2022-12-22 13:13:11,535]\u001b[0m Trial 19 finished with value: 0.8373333215713501 and parameters: {'l1_neurons': 59, 'l1_activation': 'softplus', 'dr1': 0.4021377870129428, 'l2_neurons': 56, 'l2_activation': 'relu', 'dr2': 0.44894378728752904, 'l3_neurons': 14, 'l3_activation': 'sigmoid', 'dr3': 0.34060867804527606, 'l4_neurons': 25, 'l4_activation': 'softplus', 'dr4': 0.1798634280558057, 'l5_neurons': 5, 'l5_activation': 'sigmoid'}. Best is trial 16 with value: 0.8653333187103271.\u001b[0m\n",
            "\u001b[32m[I 2022-12-22 13:13:35,547]\u001b[0m Trial 20 finished with value: 0.8546666502952576 and parameters: {'l1_neurons': 87, 'l1_activation': 'relu', 'dr1': 0.33379489489882286, 'l2_neurons': 57, 'l2_activation': 'softplus', 'dr2': 0.43576728274241494, 'l3_neurons': 30, 'l3_activation': 'sigmoid', 'dr3': 0.2790832650950552, 'l4_neurons': 19, 'l4_activation': 'softplus', 'dr4': 0.3970894609090969, 'l5_neurons': 14, 'l5_activation': 'sigmoid'}. Best is trial 16 with value: 0.8653333187103271.\u001b[0m\n",
            "\u001b[32m[I 2022-12-22 13:14:14,456]\u001b[0m Trial 21 finished with value: 0.8560000061988831 and parameters: {'l1_neurons': 102, 'l1_activation': 'relu', 'dr1': 0.39537456020322476, 'l2_neurons': 64, 'l2_activation': 'softplus', 'dr2': 0.33923708740791836, 'l3_neurons': 39, 'l3_activation': 'sigmoid', 'dr3': 0.1889811725468681, 'l4_neurons': 28, 'l4_activation': 'softplus', 'dr4': 0.20464779342288442, 'l5_neurons': 19, 'l5_activation': 'sigmoid'}. Best is trial 16 with value: 0.8653333187103271.\u001b[0m\n",
            "\u001b[32m[I 2022-12-22 13:14:51,040]\u001b[0m Trial 22 finished with value: 0.8600000143051147 and parameters: {'l1_neurons': 107, 'l1_activation': 'relu', 'dr1': 0.41713244417914036, 'l2_neurons': 60, 'l2_activation': 'softplus', 'dr2': 0.4599722664761178, 'l3_neurons': 52, 'l3_activation': 'sigmoid', 'dr3': 0.21219123230418718, 'l4_neurons': 32, 'l4_activation': 'softplus', 'dr4': 0.17061537970989418, 'l5_neurons': 13, 'l5_activation': 'sigmoid'}. Best is trial 16 with value: 0.8653333187103271.\u001b[0m\n",
            "\u001b[32m[I 2022-12-22 13:15:37,350]\u001b[0m Trial 23 finished with value: 0.8666666746139526 and parameters: {'l1_neurons': 68, 'l1_activation': 'relu', 'dr1': 0.34072882096669715, 'l2_neurons': 46, 'l2_activation': 'softplus', 'dr2': 0.41013190921291703, 'l3_neurons': 39, 'l3_activation': 'sigmoid', 'dr3': 0.2768140011390504, 'l4_neurons': 30, 'l4_activation': 'softplus', 'dr4': 0.24101068168712778, 'l5_neurons': 20, 'l5_activation': 'sigmoid'}. Best is trial 23 with value: 0.8666666746139526.\u001b[0m\n",
            "\u001b[32m[I 2022-12-22 13:15:55,474]\u001b[0m Trial 24 finished with value: 0.8586666584014893 and parameters: {'l1_neurons': 70, 'l1_activation': 'relu', 'dr1': 0.3235807480399866, 'l2_neurons': 44, 'l2_activation': 'softplus', 'dr2': 0.41583195507282433, 'l3_neurons': 48, 'l3_activation': 'sigmoid', 'dr3': 0.4952925577597712, 'l4_neurons': 23, 'l4_activation': 'softplus', 'dr4': 0.28548397809655557, 'l5_neurons': 29, 'l5_activation': 'sigmoid'}. Best is trial 23 with value: 0.8666666746139526.\u001b[0m\n",
            "\u001b[32m[I 2022-12-22 13:16:17,128]\u001b[0m Trial 25 finished with value: 0.8600000143051147 and parameters: {'l1_neurons': 71, 'l1_activation': 'relu', 'dr1': 0.35657373844286466, 'l2_neurons': 46, 'l2_activation': 'softplus', 'dr2': 0.4992961345095942, 'l3_neurons': 32, 'l3_activation': 'sigmoid', 'dr3': 0.28168585780124145, 'l4_neurons': 29, 'l4_activation': 'sigmoid', 'dr4': 0.25916548154506874, 'l5_neurons': 16, 'l5_activation': 'sigmoid'}. Best is trial 23 with value: 0.8666666746139526.\u001b[0m\n",
            "\u001b[32m[I 2022-12-22 13:16:53,671]\u001b[0m Trial 26 finished with value: 0.862666666507721 and parameters: {'l1_neurons': 85, 'l1_activation': 'relu', 'dr1': 0.28824072321606187, 'l2_neurons': 54, 'l2_activation': 'softplus', 'dr2': 0.47157918543437594, 'l3_neurons': 41, 'l3_activation': 'sigmoid', 'dr3': 0.29967566193851114, 'l4_neurons': 26, 'l4_activation': 'softplus', 'dr4': 0.32121593215760014, 'l5_neurons': 19, 'l5_activation': 'relu'}. Best is trial 23 with value: 0.8666666746139526.\u001b[0m\n",
            "\u001b[32m[I 2022-12-22 13:17:16,251]\u001b[0m Trial 27 finished with value: 0.8586666584014893 and parameters: {'l1_neurons': 65, 'l1_activation': 'relu', 'dr1': 0.31557525167369216, 'l2_neurons': 47, 'l2_activation': 'softplus', 'dr2': 0.4169605030014814, 'l3_neurons': 28, 'l3_activation': 'sigmoid', 'dr3': 0.27023652454679664, 'l4_neurons': 30, 'l4_activation': 'softplus', 'dr4': 0.15296251247463982, 'l5_neurons': 12, 'l5_activation': 'sigmoid'}. Best is trial 23 with value: 0.8666666746139526.\u001b[0m\n",
            "\u001b[32m[I 2022-12-22 13:18:20,599]\u001b[0m Trial 28 finished with value: 0.8426666855812073 and parameters: {'l1_neurons': 53, 'l1_activation': 'sigmoid', 'dr1': 0.3678999001354973, 'l2_neurons': 52, 'l2_activation': 'sigmoid', 'dr2': 0.31868242734141794, 'l3_neurons': 47, 'l3_activation': 'sigmoid', 'dr3': 0.31761108635910906, 'l4_neurons': 21, 'l4_activation': 'softplus', 'dr4': 0.23758019280758555, 'l5_neurons': 7, 'l5_activation': 'sigmoid'}. Best is trial 23 with value: 0.8666666746139526.\u001b[0m\n",
            "\u001b[32m[I 2022-12-22 13:19:03,569]\u001b[0m Trial 29 finished with value: 0.8506666421890259 and parameters: {'l1_neurons': 79, 'l1_activation': 'softplus', 'dr1': 0.22711717965743264, 'l2_neurons': 58, 'l2_activation': 'relu', 'dr2': 0.4106758321311031, 'l3_neurons': 16, 'l3_activation': 'sigmoid', 'dr3': 0.3726705444598357, 'l4_neurons': 26, 'l4_activation': 'sigmoid', 'dr4': 0.19954488997421946, 'l5_neurons': 17, 'l5_activation': 'sigmoid'}. Best is trial 23 with value: 0.8666666746139526.\u001b[0m\n",
            "\u001b[32m[I 2022-12-22 13:19:12,889]\u001b[0m Trial 30 finished with value: 0.8119999766349792 and parameters: {'l1_neurons': 16, 'l1_activation': 'softplus', 'dr1': 0.3430806315667984, 'l2_neurons': 60, 'l2_activation': 'relu', 'dr2': 0.37347163076023715, 'l3_neurons': 34, 'l3_activation': 'sigmoid', 'dr3': 0.14973851549692646, 'l4_neurons': 17, 'l4_activation': 'softplus', 'dr4': 0.3043217577479879, 'l5_neurons': 21, 'l5_activation': 'sigmoid'}. Best is trial 23 with value: 0.8666666746139526.\u001b[0m\n",
            "\u001b[32m[I 2022-12-22 13:19:40,780]\u001b[0m Trial 31 finished with value: 0.8600000143051147 and parameters: {'l1_neurons': 92, 'l1_activation': 'relu', 'dr1': 0.3898834089590686, 'l2_neurons': 60, 'l2_activation': 'softplus', 'dr2': 0.3660050977494339, 'l3_neurons': 39, 'l3_activation': 'sigmoid', 'dr3': 0.22261940872713382, 'l4_neurons': 30, 'l4_activation': 'softplus', 'dr4': 0.20133103724937132, 'l5_neurons': 21, 'l5_activation': 'sigmoid'}. Best is trial 23 with value: 0.8666666746139526.\u001b[0m\n",
            "\u001b[32m[I 2022-12-22 13:20:00,574]\u001b[0m Trial 32 finished with value: 0.8653333187103271 and parameters: {'l1_neurons': 84, 'l1_activation': 'relu', 'dr1': 0.2956781014912512, 'l2_neurons': 52, 'l2_activation': 'softplus', 'dr2': 0.4743879587846693, 'l3_neurons': 42, 'l3_activation': 'sigmoid', 'dr3': 0.3079806956684428, 'l4_neurons': 26, 'l4_activation': 'softplus', 'dr4': 0.3455620091500085, 'l5_neurons': 19, 'l5_activation': 'relu'}. Best is trial 23 with value: 0.8666666746139526.\u001b[0m\n",
            "\u001b[32m[I 2022-12-22 13:20:19,707]\u001b[0m Trial 33 finished with value: 0.8573333621025085 and parameters: {'l1_neurons': 83, 'l1_activation': 'relu', 'dr1': 0.4265354791363944, 'l2_neurons': 54, 'l2_activation': 'softplus', 'dr2': 0.46589229945410865, 'l3_neurons': 52, 'l3_activation': 'sigmoid', 'dr3': 0.34768981624447404, 'l4_neurons': 23, 'l4_activation': 'softplus', 'dr4': 0.39546241890504846, 'l5_neurons': 18, 'l5_activation': 'relu'}. Best is trial 23 with value: 0.8666666746139526.\u001b[0m\n",
            "\u001b[32m[I 2022-12-22 13:21:02,344]\u001b[0m Trial 34 finished with value: 0.8653333187103271 and parameters: {'l1_neurons': 74, 'l1_activation': 'relu', 'dr1': 0.3080443128601026, 'l2_neurons': 40, 'l2_activation': 'softplus', 'dr2': 0.4363160475125474, 'l3_neurons': 42, 'l3_activation': 'sigmoid', 'dr3': 0.40429967903729197, 'l4_neurons': 27, 'l4_activation': 'softplus', 'dr4': 0.1484136009498209, 'l5_neurons': 15, 'l5_activation': 'relu'}. Best is trial 23 with value: 0.8666666746139526.\u001b[0m\n",
            "\u001b[32m[I 2022-12-22 13:21:28,852]\u001b[0m Trial 35 finished with value: 0.8560000061988831 and parameters: {'l1_neurons': 67, 'l1_activation': 'relu', 'dr1': 0.24376631607878566, 'l2_neurons': 15, 'l2_activation': 'softplus', 'dr2': 0.4697998762927193, 'l3_neurons': 45, 'l3_activation': 'sigmoid', 'dr3': 0.264457664920984, 'l4_neurons': 30, 'l4_activation': 'softplus', 'dr4': 0.3517309173501089, 'l5_neurons': 9, 'l5_activation': 'relu'}. Best is trial 23 with value: 0.8666666746139526.\u001b[0m\n",
            "\u001b[32m[I 2022-12-22 13:22:14,098]\u001b[0m Trial 36 finished with value: 0.871999979019165 and parameters: {'l1_neurons': 45, 'l1_activation': 'relu', 'dr1': 0.3521588013460155, 'l2_neurons': 38, 'l2_activation': 'softplus', 'dr2': 0.44066331019165106, 'l3_neurons': 51, 'l3_activation': 'sigmoid', 'dr3': 0.3993027196838738, 'l4_neurons': 28, 'l4_activation': 'softplus', 'dr4': 0.1616599965933643, 'l5_neurons': 14, 'l5_activation': 'relu'}. Best is trial 36 with value: 0.871999979019165.\u001b[0m\n",
            "\u001b[32m[I 2022-12-22 13:23:17,141]\u001b[0m Trial 37 finished with value: 0.8373333215713501 and parameters: {'l1_neurons': 44, 'l1_activation': 'sigmoid', 'dr1': 0.35358022888105006, 'l2_neurons': 39, 'l2_activation': 'relu', 'dr2': 0.4229895578931982, 'l3_neurons': 51, 'l3_activation': 'softplus', 'dr3': 0.39911008549431504, 'l4_neurons': 24, 'l4_activation': 'relu', 'dr4': 0.14695782182495068, 'l5_neurons': 11, 'l5_activation': 'relu'}. Best is trial 36 with value: 0.871999979019165.\u001b[0m\n",
            "\u001b[32m[I 2022-12-22 13:24:09,453]\u001b[0m Trial 38 finished with value: 0.862666666507721 and parameters: {'l1_neurons': 47, 'l1_activation': 'relu', 'dr1': 0.2749275446900089, 'l2_neurons': 33, 'l2_activation': 'softplus', 'dr2': 0.390166371437918, 'l3_neurons': 60, 'l3_activation': 'sigmoid', 'dr3': 0.41905192197684593, 'l4_neurons': 27, 'l4_activation': 'sigmoid', 'dr4': 0.1409958089560225, 'l5_neurons': 23, 'l5_activation': 'relu'}. Best is trial 36 with value: 0.871999979019165.\u001b[0m\n",
            "\u001b[32m[I 2022-12-22 13:24:16,065]\u001b[0m Trial 39 finished with value: 0.8413333296775818 and parameters: {'l1_neurons': 31, 'l1_activation': 'relu', 'dr1': 0.18573419962794185, 'l2_neurons': 44, 'l2_activation': 'sigmoid', 'dr2': 0.48486509486781393, 'l3_neurons': 5, 'l3_activation': 'softplus', 'dr3': 0.3815602686627866, 'l4_neurons': 24, 'l4_activation': 'softplus', 'dr4': 0.2873373251378183, 'l5_neurons': 19, 'l5_activation': 'relu'}. Best is trial 36 with value: 0.871999979019165.\u001b[0m\n",
            "\u001b[32m[I 2022-12-22 13:24:58,390]\u001b[0m Trial 40 finished with value: 0.8453333377838135 and parameters: {'l1_neurons': 38, 'l1_activation': 'softplus', 'dr1': 0.317960201412946, 'l2_neurons': 34, 'l2_activation': 'softplus', 'dr2': 0.4448163932470754, 'l3_neurons': 20, 'l3_activation': 'sigmoid', 'dr3': 0.4718749682198948, 'l4_neurons': 13, 'l4_activation': 'softplus', 'dr4': 0.16813991255648641, 'l5_neurons': 10, 'l5_activation': 'relu'}. Best is trial 36 with value: 0.871999979019165.\u001b[0m\n",
            "\u001b[32m[I 2022-12-22 13:25:32,606]\u001b[0m Trial 41 finished with value: 0.8679999709129333 and parameters: {'l1_neurons': 93, 'l1_activation': 'relu', 'dr1': 0.4628922892636734, 'l2_neurons': 49, 'l2_activation': 'softplus', 'dr2': 0.4989356492374269, 'l3_neurons': 44, 'l3_activation': 'sigmoid', 'dr3': 0.32349226538301973, 'l4_neurons': 29, 'l4_activation': 'softplus', 'dr4': 0.24014292780666704, 'l5_neurons': 13, 'l5_activation': 'relu'}. Best is trial 36 with value: 0.871999979019165.\u001b[0m\n",
            "\u001b[32m[I 2022-12-22 13:26:29,180]\u001b[0m Trial 42 finished with value: 0.8573333621025085 and parameters: {'l1_neurons': 75, 'l1_activation': 'relu', 'dr1': 0.44641782089186016, 'l2_neurons': 41, 'l2_activation': 'softplus', 'dr2': 0.4920494225540189, 'l3_neurons': 44, 'l3_activation': 'sigmoid', 'dr3': 0.4475544209748503, 'l4_neurons': 28, 'l4_activation': 'softplus', 'dr4': 0.2403219910428478, 'l5_neurons': 13, 'l5_activation': 'relu'}. Best is trial 36 with value: 0.871999979019165.\u001b[0m\n",
            "\u001b[32m[I 2022-12-22 13:27:11,698]\u001b[0m Trial 43 finished with value: 0.8640000224113464 and parameters: {'l1_neurons': 51, 'l1_activation': 'relu', 'dr1': 0.3775513094571095, 'l2_neurons': 38, 'l2_activation': 'softplus', 'dr2': 0.45317804784787347, 'l3_neurons': 56, 'l3_activation': 'sigmoid', 'dr3': 0.4117935525632889, 'l4_neurons': 29, 'l4_activation': 'softplus', 'dr4': 0.13724675175913975, 'l5_neurons': 15, 'l5_activation': 'relu'}. Best is trial 36 with value: 0.871999979019165.\u001b[0m\n",
            "\u001b[32m[I 2022-12-22 13:27:42,078]\u001b[0m Trial 44 finished with value: 0.8600000143051147 and parameters: {'l1_neurons': 75, 'l1_activation': 'relu', 'dr1': 0.4776088619835374, 'l2_neurons': 27, 'l2_activation': 'softplus', 'dr2': 0.43769954248764453, 'l3_neurons': 48, 'l3_activation': 'sigmoid', 'dr3': 0.3357182964303082, 'l4_neurons': 22, 'l4_activation': 'softplus', 'dr4': 0.18607310282705894, 'l5_neurons': 12, 'l5_activation': 'relu'}. Best is trial 36 with value: 0.871999979019165.\u001b[0m\n",
            "\u001b[32m[I 2022-12-22 13:28:07,239]\u001b[0m Trial 45 finished with value: 0.8479999899864197 and parameters: {'l1_neurons': 57, 'l1_activation': 'relu', 'dr1': 0.2951663461776027, 'l2_neurons': 48, 'l2_activation': 'softplus', 'dr2': 0.24455002821282634, 'l3_neurons': 41, 'l3_activation': 'softplus', 'dr3': 0.3769413083743436, 'l4_neurons': 20, 'l4_activation': 'relu', 'dr4': 0.44186963246659083, 'l5_neurons': 17, 'l5_activation': 'relu'}. Best is trial 36 with value: 0.871999979019165.\u001b[0m\n",
            "\u001b[32m[I 2022-12-22 13:28:30,189]\u001b[0m Trial 46 finished with value: 0.8546666502952576 and parameters: {'l1_neurons': 110, 'l1_activation': 'relu', 'dr1': 0.46062880088556407, 'l2_neurons': 36, 'l2_activation': 'softplus', 'dr2': 0.40218768601765564, 'l3_neurons': 34, 'l3_activation': 'sigmoid', 'dr3': 0.4362770437578986, 'l4_neurons': 31, 'l4_activation': 'softplus', 'dr4': 0.1008872753984033, 'l5_neurons': 8, 'l5_activation': 'relu'}. Best is trial 36 with value: 0.871999979019165.\u001b[0m\n",
            "\u001b[32m[I 2022-12-22 13:28:42,297]\u001b[0m Trial 47 finished with value: 0.8560000061988831 and parameters: {'l1_neurons': 62, 'l1_activation': 'relu', 'dr1': 0.27086043745491206, 'l2_neurons': 45, 'l2_activation': 'softplus', 'dr2': 0.46089132148413936, 'l3_neurons': 41, 'l3_activation': 'sigmoid', 'dr3': 0.30234368480292156, 'l4_neurons': 27, 'l4_activation': 'softplus', 'dr4': 0.49976484781142305, 'l5_neurons': 26, 'l5_activation': 'relu'}. Best is trial 36 with value: 0.871999979019165.\u001b[0m\n",
            "\u001b[32m[I 2022-12-22 13:29:42,100]\u001b[0m Trial 48 finished with value: 0.8560000061988831 and parameters: {'l1_neurons': 91, 'l1_activation': 'sigmoid', 'dr1': 0.42172731761292426, 'l2_neurons': 49, 'l2_activation': 'softplus', 'dr2': 0.171360387205891, 'l3_neurons': 50, 'l3_activation': 'sigmoid', 'dr3': 0.19850910164938823, 'l4_neurons': 31, 'l4_activation': 'softplus', 'dr4': 0.22797854066990922, 'l5_neurons': 13, 'l5_activation': 'sigmoid'}. Best is trial 36 with value: 0.871999979019165.\u001b[0m\n",
            "\u001b[32m[I 2022-12-22 13:29:46,674]\u001b[0m Trial 49 finished with value: 0.8306666612625122 and parameters: {'l1_neurons': 24, 'l1_activation': 'relu', 'dr1': 0.2471411476608203, 'l2_neurons': 42, 'l2_activation': 'relu', 'dr2': 0.42715981033115075, 'l3_neurons': 46, 'l3_activation': 'softplus', 'dr3': 0.3950546499634812, 'l4_neurons': 25, 'l4_activation': 'relu', 'dr4': 0.36642677467996826, 'l5_neurons': 20, 'l5_activation': 'relu'}. Best is trial 36 with value: 0.871999979019165.\u001b[0m\n"
          ]
        }
      ]
    },
    {
      "cell_type": "code",
      "source": [
        "df = pd.DataFrame(histories_under[study_under.best_trial.number])\n",
        "plt.figure(figsize=(18,9))\n",
        "f, axes = plt.subplots(1, 2)\n",
        "\n",
        "ax = sns.lineplot( data=df[['loss', 'val_loss']],ax=axes[0])\n",
        "ax.set_ylim(0)\n",
        "\n",
        "ax = sns.lineplot(data=df[['accuracy', 'val_accuracy']], ax=axes[1])\n",
        "ax.set_ylim(0, 1)"
      ],
      "metadata": {
        "colab": {
          "base_uri": "https://localhost:8080/",
          "height": 307
        },
        "id": "_vVB_jZX7bAp",
        "outputId": "85be0ac6-7526-4a22-82f1-b441ded2b9b7"
      },
      "execution_count": null,
      "outputs": [
        {
          "output_type": "execute_result",
          "data": {
            "text/plain": [
              "(0.0, 1.0)"
            ]
          },
          "metadata": {},
          "execution_count": 124
        },
        {
          "output_type": "display_data",
          "data": {
            "text/plain": [
              "<Figure size 1296x648 with 0 Axes>"
            ]
          },
          "metadata": {}
        },
        {
          "output_type": "display_data",
          "data": {
            "text/plain": [
              "<Figure size 432x288 with 2 Axes>"
            ],
            "image/png": "[encoded data removed]"
          },
          "metadata": {}
        }
      ]
    },
    {
      "cell_type": "code",
      "source": [
        "study_under.best_params"
      ],
      "metadata": {
        "colab": {
          "base_uri": "https://localhost:8080/"
        },
        "id": "m6bW2On_7QfH",
        "outputId": "644f28fb-c399-4db5-e627-070ac211600f"
      },
      "execution_count": null,
      "outputs": [
        {
          "output_type": "execute_result",
          "data": {
            "text/plain": [
              "{'l1_neurons': 45,\n",
              " 'l1_activation': 'relu',\n",
              " 'dr1': 0.3521588013460155,\n",
              " 'l2_neurons': 38,\n",
              " 'l2_activation': 'softplus',\n",
              " 'dr2': 0.44066331019165106,\n",
              " 'l3_neurons': 51,\n",
              " 'l3_activation': 'sigmoid',\n",
              " 'dr3': 0.3993027196838738,\n",
              " 'l4_neurons': 28,\n",
              " 'l4_activation': 'softplus',\n",
              " 'dr4': 0.1616599965933643,\n",
              " 'l5_neurons': 14,\n",
              " 'l5_activation': 'relu'}"
            ]
          },
          "metadata": {},
          "execution_count": 64
        }
      ]
    },
    {
      "cell_type": "code",
      "source": [
        "inputs = Input((16,))\n",
        "x = Dense(45)(inputs) \n",
        "#x = BatchNormalization()(x)   \n",
        "x = Activation(\"relu\")(x)\n",
        "x = Dropout(0.3521588013460155)(x)\n",
        "\n",
        "x = Dense(38)(x) \n",
        "#x = BatchNormalization()(x)   \n",
        "x = Activation(\"softplus\")(x)\n",
        "x = Dropout(0.44066331019165106)(x)\n",
        "\n",
        "x = Dense(51)(x) \n",
        "#x = BatchNormalization()(x)   \n",
        "x = Activation(\"sigmoid\")(x)\n",
        "x = Dropout(0.3993027196838738)(x)\n",
        "                                 \n",
        "x = Dense(28)(x) \n",
        "#x = BatchNormalization()(x)   \n",
        "x = Activation(\"softplus\")(x)\n",
        "x = Dropout(0.1616599965933643)(x)\n",
        "\n",
        "x = Dense(14)(x) \n",
        "#x = BatchNormalization()(x)   \n",
        "x = Activation(\"relu\")(x)\n",
        "outputs = Dense(1, activation='sigmoid')(x)  \n",
        "model_under =keras.models.Model(inputs, outputs)"
      ],
      "metadata": {
        "id": "yIif58B67PJv"
      },
      "execution_count": null,
      "outputs": []
    },
    {
      "cell_type": "code",
      "source": [
        "esc = tf.keras.callbacks.EarlyStopping(monitor='val_loss', patience=5)\n",
        "sch = PolynomialDecay(initial_learning_rate=1e-2, decay_steps=100, end_learning_rate=5e-4)\n",
        "optimizer = tf.keras.optimizers.Adam(learning_rate=sch)\n",
        "model_under.compile(\n",
        "  optimizer,\n",
        "      #optimizer=optimizers.RMSprop(learning_rate=sch),\n",
        "  loss='binary_crossentropy', \n",
        "  metrics=['accuracy']\n",
        "  )\n",
        "history_under = model_under.fit(train_dataset_under,\n",
        "                    steps_per_epoch=STEPS_PER_EPOCH_UNDER,\n",
        "                    validation_steps=VALIDATION_STEPS_UNDER,\n",
        "                    epochs=100,\n",
        "                    validation_data=test_dataset_under\n",
        "                    #callbacks=[esc]\n",
        "                    )\n"
      ],
      "metadata": {
        "colab": {
          "base_uri": "https://localhost:8080/"
        },
        "id": "2B5Cmu5z7ZhY",
        "outputId": "5d99949e-ca14-4d53-a215-001a7888695b"
      },
      "execution_count": null,
      "outputs": [
        {
          "output_type": "stream",
          "name": "stdout",
          "text": [
            "Epoch 1/100\n",
            "104/104 [==============================] - 1s 4ms/step - loss: 0.4682 - accuracy: 0.7879 - val_loss: 0.3624 - val_accuracy: 0.8600\n",
            "Epoch 2/100\n",
            "104/104 [==============================] - 0s 3ms/step - loss: 0.4021 - accuracy: 0.8340 - val_loss: 0.3562 - val_accuracy: 0.8533\n",
            "Epoch 3/100\n",
            "104/104 [==============================] - 0s 2ms/step - loss: 0.4011 - accuracy: 0.8388 - val_loss: 0.3483 - val_accuracy: 0.8600\n",
            "Epoch 4/100\n",
            "104/104 [==============================] - 0s 3ms/step - loss: 0.3957 - accuracy: 0.8367 - val_loss: 0.3446 - val_accuracy: 0.8500\n",
            "Epoch 5/100\n",
            "104/104 [==============================] - 0s 2ms/step - loss: 0.3903 - accuracy: 0.8394 - val_loss: 0.3397 - val_accuracy: 0.8533\n",
            "Epoch 6/100\n",
            "104/104 [==============================] - 0s 2ms/step - loss: 0.3840 - accuracy: 0.8450 - val_loss: 0.3347 - val_accuracy: 0.8500\n",
            "Epoch 7/100\n",
            "104/104 [==============================] - 0s 3ms/step - loss: 0.3845 - accuracy: 0.8417 - val_loss: 0.3358 - val_accuracy: 0.8533\n",
            "Epoch 8/100\n",
            "104/104 [==============================] - 0s 4ms/step - loss: 0.3765 - accuracy: 0.8415 - val_loss: 0.3301 - val_accuracy: 0.8500\n",
            "Epoch 9/100\n",
            "104/104 [==============================] - 0s 4ms/step - loss: 0.3779 - accuracy: 0.8481 - val_loss: 0.3275 - val_accuracy: 0.8500\n",
            "Epoch 10/100\n",
            "104/104 [==============================] - 0s 2ms/step - loss: 0.3701 - accuracy: 0.8472 - val_loss: 0.3247 - val_accuracy: 0.8500\n",
            "Epoch 11/100\n",
            "104/104 [==============================] - 0s 2ms/step - loss: 0.3679 - accuracy: 0.8491 - val_loss: 0.3215 - val_accuracy: 0.8533\n",
            "Epoch 12/100\n",
            "104/104 [==============================] - 0s 2ms/step - loss: 0.3766 - accuracy: 0.8421 - val_loss: 0.3204 - val_accuracy: 0.8533\n",
            "Epoch 13/100\n",
            "104/104 [==============================] - 0s 3ms/step - loss: 0.3693 - accuracy: 0.8473 - val_loss: 0.3168 - val_accuracy: 0.8500\n",
            "Epoch 14/100\n",
            "104/104 [==============================] - 0s 3ms/step - loss: 0.3626 - accuracy: 0.8504 - val_loss: 0.3167 - val_accuracy: 0.8500\n",
            "Epoch 15/100\n",
            "104/104 [==============================] - 0s 3ms/step - loss: 0.3597 - accuracy: 0.8512 - val_loss: 0.3136 - val_accuracy: 0.8533\n",
            "Epoch 16/100\n",
            "104/104 [==============================] - 0s 4ms/step - loss: 0.3609 - accuracy: 0.8483 - val_loss: 0.3121 - val_accuracy: 0.8533\n",
            "Epoch 17/100\n",
            "104/104 [==============================] - 0s 3ms/step - loss: 0.3616 - accuracy: 0.8497 - val_loss: 0.3115 - val_accuracy: 0.8567\n",
            "Epoch 18/100\n",
            "104/104 [==============================] - 0s 3ms/step - loss: 0.3601 - accuracy: 0.8495 - val_loss: 0.3104 - val_accuracy: 0.8567\n",
            "Epoch 19/100\n",
            "104/104 [==============================] - 0s 3ms/step - loss: 0.3579 - accuracy: 0.8499 - val_loss: 0.3092 - val_accuracy: 0.8600\n",
            "Epoch 20/100\n",
            "104/104 [==============================] - 0s 2ms/step - loss: 0.3529 - accuracy: 0.8543 - val_loss: 0.3085 - val_accuracy: 0.8567\n",
            "Epoch 21/100\n",
            "104/104 [==============================] - 0s 2ms/step - loss: 0.3604 - accuracy: 0.8528 - val_loss: 0.3076 - val_accuracy: 0.8567\n",
            "Epoch 22/100\n",
            "104/104 [==============================] - 0s 2ms/step - loss: 0.3523 - accuracy: 0.8557 - val_loss: 0.3065 - val_accuracy: 0.8533\n",
            "Epoch 23/100\n",
            "104/104 [==============================] - 0s 3ms/step - loss: 0.3554 - accuracy: 0.8557 - val_loss: 0.3073 - val_accuracy: 0.8600\n",
            "Epoch 24/100\n",
            "104/104 [==============================] - 0s 3ms/step - loss: 0.3509 - accuracy: 0.8549 - val_loss: 0.3067 - val_accuracy: 0.8567\n",
            "Epoch 25/100\n",
            "104/104 [==============================] - 0s 2ms/step - loss: 0.3516 - accuracy: 0.8520 - val_loss: 0.3049 - val_accuracy: 0.8533\n",
            "Epoch 26/100\n",
            "104/104 [==============================] - 0s 3ms/step - loss: 0.3462 - accuracy: 0.8561 - val_loss: 0.3047 - val_accuracy: 0.8533\n",
            "Epoch 27/100\n",
            "104/104 [==============================] - 0s 3ms/step - loss: 0.3514 - accuracy: 0.8528 - val_loss: 0.3043 - val_accuracy: 0.8533\n",
            "Epoch 28/100\n",
            "104/104 [==============================] - 0s 3ms/step - loss: 0.3415 - accuracy: 0.8576 - val_loss: 0.3010 - val_accuracy: 0.8533\n",
            "Epoch 29/100\n",
            "104/104 [==============================] - 0s 3ms/step - loss: 0.3408 - accuracy: 0.8611 - val_loss: 0.2993 - val_accuracy: 0.8600\n",
            "Epoch 30/100\n",
            "104/104 [==============================] - 0s 3ms/step - loss: 0.3553 - accuracy: 0.8497 - val_loss: 0.3002 - val_accuracy: 0.8567\n",
            "Epoch 31/100\n",
            "104/104 [==============================] - 0s 2ms/step - loss: 0.3326 - accuracy: 0.8617 - val_loss: 0.2966 - val_accuracy: 0.8600\n",
            "Epoch 32/100\n",
            "104/104 [==============================] - 0s 2ms/step - loss: 0.3451 - accuracy: 0.8559 - val_loss: 0.2965 - val_accuracy: 0.8600\n",
            "Epoch 33/100\n",
            "104/104 [==============================] - 0s 2ms/step - loss: 0.3424 - accuracy: 0.8582 - val_loss: 0.2967 - val_accuracy: 0.8633\n",
            "Epoch 34/100\n",
            "104/104 [==============================] - 0s 2ms/step - loss: 0.3465 - accuracy: 0.8524 - val_loss: 0.2982 - val_accuracy: 0.8600\n",
            "Epoch 35/100\n",
            "104/104 [==============================] - 0s 3ms/step - loss: 0.3444 - accuracy: 0.8547 - val_loss: 0.2984 - val_accuracy: 0.8600\n",
            "Epoch 36/100\n",
            "104/104 [==============================] - 0s 3ms/step - loss: 0.3409 - accuracy: 0.8576 - val_loss: 0.2975 - val_accuracy: 0.8600\n",
            "Epoch 37/100\n",
            "104/104 [==============================] - 0s 3ms/step - loss: 0.3406 - accuracy: 0.8621 - val_loss: 0.2966 - val_accuracy: 0.8633\n",
            "Epoch 38/100\n",
            "104/104 [==============================] - 0s 3ms/step - loss: 0.3415 - accuracy: 0.8592 - val_loss: 0.2959 - val_accuracy: 0.8633\n",
            "Epoch 39/100\n",
            "104/104 [==============================] - 0s 3ms/step - loss: 0.3416 - accuracy: 0.8578 - val_loss: 0.2949 - val_accuracy: 0.8533\n",
            "Epoch 40/100\n",
            "104/104 [==============================] - 0s 3ms/step - loss: 0.3392 - accuracy: 0.8584 - val_loss: 0.2973 - val_accuracy: 0.8533\n",
            "Epoch 41/100\n",
            "104/104 [==============================] - 0s 2ms/step - loss: 0.3360 - accuracy: 0.8594 - val_loss: 0.2962 - val_accuracy: 0.8533\n",
            "Epoch 42/100\n",
            "104/104 [==============================] - 0s 3ms/step - loss: 0.3376 - accuracy: 0.8596 - val_loss: 0.2971 - val_accuracy: 0.8600\n",
            "Epoch 43/100\n",
            "104/104 [==============================] - 0s 2ms/step - loss: 0.3349 - accuracy: 0.8584 - val_loss: 0.2962 - val_accuracy: 0.8600\n",
            "Epoch 44/100\n",
            "104/104 [==============================] - 0s 3ms/step - loss: 0.3383 - accuracy: 0.8607 - val_loss: 0.2935 - val_accuracy: 0.8633\n",
            "Epoch 45/100\n",
            "104/104 [==============================] - 0s 3ms/step - loss: 0.3338 - accuracy: 0.8652 - val_loss: 0.2937 - val_accuracy: 0.8633\n",
            "Epoch 46/100\n",
            "104/104 [==============================] - 0s 3ms/step - loss: 0.3336 - accuracy: 0.8609 - val_loss: 0.2942 - val_accuracy: 0.8567\n",
            "Epoch 47/100\n",
            "104/104 [==============================] - 0s 3ms/step - loss: 0.3302 - accuracy: 0.8627 - val_loss: 0.2952 - val_accuracy: 0.8600\n",
            "Epoch 48/100\n",
            "104/104 [==============================] - 0s 3ms/step - loss: 0.3302 - accuracy: 0.8656 - val_loss: 0.2944 - val_accuracy: 0.8600\n",
            "Epoch 49/100\n",
            "104/104 [==============================] - 0s 3ms/step - loss: 0.3292 - accuracy: 0.8607 - val_loss: 0.2936 - val_accuracy: 0.8600\n",
            "Epoch 50/100\n",
            "104/104 [==============================] - 0s 2ms/step - loss: 0.3257 - accuracy: 0.8652 - val_loss: 0.2919 - val_accuracy: 0.8600\n",
            "Epoch 51/100\n",
            "104/104 [==============================] - 0s 2ms/step - loss: 0.3306 - accuracy: 0.8634 - val_loss: 0.2936 - val_accuracy: 0.8600\n",
            "Epoch 52/100\n",
            "104/104 [==============================] - 0s 3ms/step - loss: 0.3340 - accuracy: 0.8586 - val_loss: 0.2940 - val_accuracy: 0.8633\n",
            "Epoch 53/100\n",
            "104/104 [==============================] - 0s 3ms/step - loss: 0.3328 - accuracy: 0.8603 - val_loss: 0.2948 - val_accuracy: 0.8600\n",
            "Epoch 54/100\n",
            "104/104 [==============================] - 0s 2ms/step - loss: 0.3295 - accuracy: 0.8607 - val_loss: 0.2938 - val_accuracy: 0.8600\n",
            "Epoch 55/100\n",
            "104/104 [==============================] - 0s 2ms/step - loss: 0.3322 - accuracy: 0.8638 - val_loss: 0.2923 - val_accuracy: 0.8633\n",
            "Epoch 56/100\n",
            "104/104 [==============================] - 0s 2ms/step - loss: 0.3316 - accuracy: 0.8611 - val_loss: 0.2927 - val_accuracy: 0.8600\n",
            "Epoch 57/100\n",
            "104/104 [==============================] - 0s 3ms/step - loss: 0.3317 - accuracy: 0.8597 - val_loss: 0.2915 - val_accuracy: 0.8633\n",
            "Epoch 58/100\n",
            "104/104 [==============================] - 0s 3ms/step - loss: 0.3248 - accuracy: 0.8646 - val_loss: 0.2907 - val_accuracy: 0.8633\n",
            "Epoch 59/100\n",
            "104/104 [==============================] - 0s 3ms/step - loss: 0.3279 - accuracy: 0.8625 - val_loss: 0.2915 - val_accuracy: 0.8633\n",
            "Epoch 60/100\n",
            "104/104 [==============================] - 0s 3ms/step - loss: 0.3371 - accuracy: 0.8627 - val_loss: 0.2915 - val_accuracy: 0.8633\n",
            "Epoch 61/100\n",
            "104/104 [==============================] - 0s 3ms/step - loss: 0.3272 - accuracy: 0.8661 - val_loss: 0.2894 - val_accuracy: 0.8633\n",
            "Epoch 62/100\n",
            "104/104 [==============================] - 0s 3ms/step - loss: 0.3268 - accuracy: 0.8657 - val_loss: 0.2888 - val_accuracy: 0.8633\n",
            "Epoch 63/100\n",
            "104/104 [==============================] - 0s 2ms/step - loss: 0.3259 - accuracy: 0.8677 - val_loss: 0.2897 - val_accuracy: 0.8633\n",
            "Epoch 64/100\n",
            "104/104 [==============================] - 0s 3ms/step - loss: 0.3251 - accuracy: 0.8667 - val_loss: 0.2906 - val_accuracy: 0.8633\n",
            "Epoch 65/100\n",
            "104/104 [==============================] - 0s 3ms/step - loss: 0.3193 - accuracy: 0.8694 - val_loss: 0.2867 - val_accuracy: 0.8600\n",
            "Epoch 66/100\n",
            "104/104 [==============================] - 0s 2ms/step - loss: 0.3214 - accuracy: 0.8681 - val_loss: 0.2880 - val_accuracy: 0.8633\n",
            "Epoch 67/100\n",
            "104/104 [==============================] - 0s 2ms/step - loss: 0.3228 - accuracy: 0.8644 - val_loss: 0.2875 - val_accuracy: 0.8600\n",
            "Epoch 68/100\n",
            "104/104 [==============================] - 0s 2ms/step - loss: 0.3267 - accuracy: 0.8630 - val_loss: 0.2884 - val_accuracy: 0.8633\n",
            "Epoch 69/100\n",
            "104/104 [==============================] - 0s 2ms/step - loss: 0.3179 - accuracy: 0.8687 - val_loss: 0.2865 - val_accuracy: 0.8600\n",
            "Epoch 70/100\n",
            "104/104 [==============================] - 0s 2ms/step - loss: 0.3245 - accuracy: 0.8617 - val_loss: 0.2878 - val_accuracy: 0.8600\n",
            "Epoch 71/100\n",
            "104/104 [==============================] - 0s 2ms/step - loss: 0.3257 - accuracy: 0.8683 - val_loss: 0.2879 - val_accuracy: 0.8633\n",
            "Epoch 72/100\n",
            "104/104 [==============================] - 0s 2ms/step - loss: 0.3241 - accuracy: 0.8681 - val_loss: 0.2860 - val_accuracy: 0.8633\n",
            "Epoch 73/100\n",
            "104/104 [==============================] - 0s 2ms/step - loss: 0.3276 - accuracy: 0.8611 - val_loss: 0.2880 - val_accuracy: 0.8633\n",
            "Epoch 74/100\n",
            "104/104 [==============================] - 0s 4ms/step - loss: 0.3201 - accuracy: 0.8675 - val_loss: 0.2870 - val_accuracy: 0.8633\n",
            "Epoch 75/100\n",
            "104/104 [==============================] - 0s 3ms/step - loss: 0.3245 - accuracy: 0.8621 - val_loss: 0.2875 - val_accuracy: 0.8633\n",
            "Epoch 76/100\n",
            "104/104 [==============================] - 0s 3ms/step - loss: 0.3207 - accuracy: 0.8630 - val_loss: 0.2866 - val_accuracy: 0.8633\n",
            "Epoch 77/100\n",
            "104/104 [==============================] - 0s 3ms/step - loss: 0.3214 - accuracy: 0.8679 - val_loss: 0.2862 - val_accuracy: 0.8633\n",
            "Epoch 78/100\n",
            "104/104 [==============================] - 0s 3ms/step - loss: 0.3211 - accuracy: 0.8698 - val_loss: 0.2872 - val_accuracy: 0.8633\n",
            "Epoch 79/100\n",
            "104/104 [==============================] - 0s 3ms/step - loss: 0.3148 - accuracy: 0.8654 - val_loss: 0.2848 - val_accuracy: 0.8600\n",
            "Epoch 80/100\n",
            "104/104 [==============================] - 0s 3ms/step - loss: 0.3144 - accuracy: 0.8661 - val_loss: 0.2833 - val_accuracy: 0.8600\n",
            "Epoch 81/100\n",
            "104/104 [==============================] - 0s 3ms/step - loss: 0.3162 - accuracy: 0.8683 - val_loss: 0.2840 - val_accuracy: 0.8633\n",
            "Epoch 82/100\n",
            "104/104 [==============================] - 0s 3ms/step - loss: 0.3149 - accuracy: 0.8706 - val_loss: 0.2831 - val_accuracy: 0.8600\n",
            "Epoch 83/100\n",
            "104/104 [==============================] - 0s 2ms/step - loss: 0.3197 - accuracy: 0.8727 - val_loss: 0.2846 - val_accuracy: 0.8600\n",
            "Epoch 84/100\n",
            "104/104 [==============================] - 0s 2ms/step - loss: 0.3191 - accuracy: 0.8665 - val_loss: 0.2849 - val_accuracy: 0.8633\n",
            "Epoch 85/100\n",
            "104/104 [==============================] - 0s 3ms/step - loss: 0.3193 - accuracy: 0.8677 - val_loss: 0.2838 - val_accuracy: 0.8633\n",
            "Epoch 86/100\n",
            "104/104 [==============================] - 0s 2ms/step - loss: 0.3164 - accuracy: 0.8690 - val_loss: 0.2828 - val_accuracy: 0.8633\n",
            "Epoch 87/100\n",
            "104/104 [==============================] - 0s 2ms/step - loss: 0.3157 - accuracy: 0.8688 - val_loss: 0.2836 - val_accuracy: 0.8633\n",
            "Epoch 88/100\n",
            "104/104 [==============================] - 0s 3ms/step - loss: 0.3193 - accuracy: 0.8663 - val_loss: 0.2823 - val_accuracy: 0.8633\n",
            "Epoch 89/100\n",
            "104/104 [==============================] - 0s 2ms/step - loss: 0.3144 - accuracy: 0.8671 - val_loss: 0.2815 - val_accuracy: 0.8633\n",
            "Epoch 90/100\n",
            "104/104 [==============================] - 0s 2ms/step - loss: 0.3116 - accuracy: 0.8708 - val_loss: 0.2824 - val_accuracy: 0.8633\n",
            "Epoch 91/100\n",
            "104/104 [==============================] - 0s 2ms/step - loss: 0.3184 - accuracy: 0.8706 - val_loss: 0.2832 - val_accuracy: 0.8633\n",
            "Epoch 92/100\n",
            "104/104 [==============================] - 0s 3ms/step - loss: 0.3171 - accuracy: 0.8679 - val_loss: 0.2825 - val_accuracy: 0.8633\n",
            "Epoch 93/100\n",
            "104/104 [==============================] - 0s 3ms/step - loss: 0.3163 - accuracy: 0.8685 - val_loss: 0.2828 - val_accuracy: 0.8600\n",
            "Epoch 94/100\n",
            "104/104 [==============================] - 0s 3ms/step - loss: 0.3188 - accuracy: 0.8673 - val_loss: 0.2854 - val_accuracy: 0.8633\n",
            "Epoch 95/100\n",
            "104/104 [==============================] - 0s 3ms/step - loss: 0.3091 - accuracy: 0.8719 - val_loss: 0.2815 - val_accuracy: 0.8600\n",
            "Epoch 96/100\n",
            "104/104 [==============================] - 0s 3ms/step - loss: 0.3154 - accuracy: 0.8687 - val_loss: 0.2798 - val_accuracy: 0.8600\n",
            "Epoch 97/100\n",
            "104/104 [==============================] - 0s 2ms/step - loss: 0.3166 - accuracy: 0.8702 - val_loss: 0.2812 - val_accuracy: 0.8600\n",
            "Epoch 98/100\n",
            "104/104 [==============================] - 0s 2ms/step - loss: 0.3170 - accuracy: 0.8700 - val_loss: 0.2820 - val_accuracy: 0.8600\n",
            "Epoch 99/100\n",
            "104/104 [==============================] - 0s 2ms/step - loss: 0.3143 - accuracy: 0.8702 - val_loss: 0.2816 - val_accuracy: 0.8600\n",
            "Epoch 100/100\n",
            "104/104 [==============================] - 0s 2ms/step - loss: 0.3076 - accuracy: 0.8733 - val_loss: 0.2793 - val_accuracy: 0.8633\n"
          ]
        }
      ]
    },
    {
      "cell_type": "code",
      "source": [
        "df = pd.DataFrame(history_under.history)\n",
        "plt.figure(figsize=(18,9))\n",
        "f, axes = plt.subplots(1, 2)\n",
        "\n",
        "ax = sns.lineplot( data=df[['loss', 'val_loss']],ax=axes[0])\n",
        "ax.set_ylim(0)\n",
        "\n",
        "ax = sns.lineplot(data=df[['accuracy', 'val_accuracy']], ax=axes[1])\n",
        "ax.set_ylim(0, 1)"
      ],
      "metadata": {
        "colab": {
          "base_uri": "https://localhost:8080/",
          "height": 307
        },
        "id": "Rke3addFCugL",
        "outputId": "4a9e3bbe-b451-4d43-99b9-8ac4fe967fae"
      },
      "execution_count": null,
      "outputs": [
        {
          "output_type": "execute_result",
          "data": {
            "text/plain": [
              "(0.0, 1.0)"
            ]
          },
          "metadata": {},
          "execution_count": 81
        },
        {
          "output_type": "display_data",
          "data": {
            "text/plain": [
              "<Figure size 1296x648 with 0 Axes>"
            ]
          },
          "metadata": {}
        },
        {
          "output_type": "display_data",
          "data": {
            "text/plain": [
              "<Figure size 432x288 with 2 Axes>"
            ],
            "image/png": "[encoded data removed]"
          },
          "metadata": {}
        }
      ]
    },
    {
      "cell_type": "code",
      "source": [
        "y_pred_under=model_under.predict(X_test_std_under)\n",
        "y_pred_under=list(map(lambda x: round(x), y_pred_under.reshape(-1)))"
      ],
      "metadata": {
        "colab": {
          "base_uri": "https://localhost:8080/"
        },
        "id": "uNAde7jK7czd",
        "outputId": "1d692941-fb69-4b22-acd5-2ee628f21a74"
      },
      "execution_count": null,
      "outputs": [
        {
          "output_type": "stream",
          "name": "stdout",
          "text": [
            "55/55 [==============================] - 0s 1ms/step\n"
          ]
        }
      ]
    },
    {
      "cell_type": "code",
      "source": [
        "CM=confusion_matrix(y_test_under,y_pred_under)\n",
        "TN = CM[0][0]\n",
        "FN = CM[1][0]\n",
        "TP = CM[1][1]\n",
        "FP = CM[0][1]\n",
        "\n",
        "\n",
        "# Sensitivity, hit rate, recall, or true positive rate\n",
        "TPR = TP/(TP+FN)\n",
        "# Specificity or true negative rate\n",
        "TNR = TN/(TN+FP) \n",
        "# Precision or positive predictive value\n",
        "PPV = TP/(TP+FP)\n",
        "# Negative predictive value\n",
        "NPV = TN/(TN+FN)\n",
        "# Fall out or false positive rate\n",
        "FPR = FP/(FP+TN)\n",
        "# False negative rate\n",
        "FNR = FN/(TP+FN)\n",
        "# False discovery rate\n",
        "FDR = FP/(TP+FP)\n",
        "\n",
        "# Overall accuracy\n",
        "ACC = (TP+TN)/(TP+FP+FN+TN)\n",
        "print('f1',f1_score(y_test_under,y_pred_under,average='macro'))\n",
        "print('TPR',TPR)\n",
        "print('TNR',TNR)"
      ],
      "metadata": {
        "colab": {
          "base_uri": "https://localhost:8080/"
        },
        "id": "BXUJT35u7zvV",
        "outputId": "ecfb12ec-393b-4ce5-9264-1a2e6c6824df"
      },
      "execution_count": null,
      "outputs": [
        {
          "output_type": "stream",
          "name": "stdout",
          "text": [
            "f1 0.8536200092051458\n",
            "TPR 0.820627802690583\n",
            "TNR 0.8868101028999065\n"
          ]
        }
      ]
    }
  ],
  "metadata": {
    "colab": {
      "provenance": [],
      "collapsed_sections": [
        "zC2Pe4Z18arm",
        "xFD7yfV9rXyG"
      ],
      "authorship_tag": "ABX9TyP9ocDdZ1frOUd074SJcjb2",
      "include_colab_link": true
    },
    "kernelspec": {
      "display_name": "Python 3",
      "name": "python3"
    },
    "language_info": {
      "name": "python"
    }
  },
  "nbformat": 4,
  "nbformat_minor": 0
}